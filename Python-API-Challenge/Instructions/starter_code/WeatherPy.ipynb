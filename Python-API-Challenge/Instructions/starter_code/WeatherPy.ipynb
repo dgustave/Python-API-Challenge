{
 "cells": [
  {
   "cell_type": "markdown",
   "metadata": {},
   "source": [
    "# WeatherPy\n",
    "----\n",
    "\n",
    "#### Note\n",
    "* Instructions have been included for each segment. You do not have to follow them exactly, but they are included to help you think through the steps."
   ]
  },
  {
   "cell_type": "code",
   "execution_count": null,
   "metadata": {
    "scrolled": true
   },
   "outputs": [],
   "source": [
    "pwd"
   ]
  },
  {
   "cell_type": "code",
   "execution_count": null,
   "metadata": {
    "scrolled": true
   },
   "outputs": [],
   "source": [
    "# Dependencies and Setup\n",
    "import matplotlib.pyplot as plt\n",
    "import pandas as pd\n",
    "import numpy as np\n",
    "import requests\n",
    "import time\n",
    "import datetime\n",
    "from datetime import date, datetime\n",
    "from scipy.stats import linregress\n",
    "\n",
    "# Import API key\n",
    "from api_keys import weather_api_key\n",
    "\n",
    "# Incorporated citipy to determine city based on latitude and longitude\n",
    "from citipy import citipy\n",
    "\n",
    "# Output File (CSV)\n",
    "output_data_file = \"Weather_File/weather_API_data.csv\"\n",
    "\n",
    "# Range of latitudes and longitudes\n",
    "lat_range = (-90, 90)\n",
    "lng_range = (-180, 180)"
   ]
  },
  {
   "cell_type": "markdown",
   "metadata": {},
   "source": [
    "## Generate Cities List"
   ]
  },
  {
   "cell_type": "code",
   "execution_count": null,
   "metadata": {},
   "outputs": [],
   "source": [
    "# List for holding lat_lngs and cities\n",
    "lat_lngs = []\n",
    "cities = []\n",
    "\n",
    "# Create a set of random lat and lng combinations\n",
    "lats = np.random.uniform(lat_range[0], lat_range[1], size=1500)\n",
    "lngs = np.random.uniform(lng_range[0], lng_range[1], size=1500)\n",
    "lat_lngs = zip(lats, lngs)\n",
    "\n",
    "# Identify nearest city for each lat, lng combination\n",
    "for lat_lng in lat_lngs:\n",
    "    city = citipy.nearest_city(lat_lng[0], lat_lng[1]).city_name\n",
    "    \n",
    "    # If the city is unique, then add it to a our cities list\n",
    "    if city not in cities:\n",
    "        cities.append(city)\n",
    "\n",
    "# Print the city count to confirm sufficient count\n",
    "len(cities)"
   ]
  },
  {
   "cell_type": "code",
   "execution_count": null,
   "metadata": {},
   "outputs": [],
   "source": [
    "# Will need fo(r date stamps on plots and the text files for documentation purposes\n",
    "today = (date.today()).strftime(\"%m/%d/%y\")\n",
    "print(\"Today's date:\", today)"
   ]
  },
  {
   "cell_type": "code",
   "execution_count": null,
   "metadata": {},
   "outputs": [],
   "source": [
    "# For total amount of queries listed on data set. \n",
    "equivalent = len(cities)"
   ]
  },
  {
   "cell_type": "markdown",
   "metadata": {},
   "source": [
    "### Perform API Calls\n",
    "* Perform a weather check on each city using a series of successive API calls.\n",
    "* Include a print log of each city as it'sbeing processed (with the city number and city name).\n"
   ]
  },
  {
   "cell_type": "code",
   "execution_count": null,
   "metadata": {},
   "outputs": [],
   "source": [
    "#  URL\n",
    "url=\"http://api.openweathermap.org/data/2.5/weather?\"\n",
    "\n",
    "# Will look like http://api.openweathermap.org/data/2.5/weather?appid={your api key}&units=imperial&q={city name}\n",
    "query_url=url+\"appid=\"+ weather_api_key+\"&units=imperial\"+\"&q=\" #+city\n",
    "\n",
    "# Make log for cities with ID as text\n",
    "printlog = open('Weather_File/weather_data_log.txt', 'w')"
   ]
  },
  {
   "cell_type": "code",
   "execution_count": null,
   "metadata": {},
   "outputs": [],
   "source": [
    "# # Check for unambigous data recommended by Weather Map API and display json format\n",
    "# city_id = input(\"id: \") # for various id's for unambigous data\n",
    "\n",
    "# # Look's like api.openweathermap.org/data/2.5/weather?id={city id}&appid={your api key}\n",
    "# id_url= url + \"id=\" + city_id + \"&appid=\"+ weather_api_key\n",
    "\n",
    "# json_data = requests.get(id_url).json()\n",
    "# json_data"
   ]
  },
  {
   "cell_type": "code",
   "execution_count": null,
   "metadata": {},
   "outputs": [],
   "source": [
    "# # Save for later use when restarting kernels\n",
    "# wid = int(json_data[\"id\"])\n",
    "# wid"
   ]
  },
  {
   "cell_type": "code",
   "execution_count": null,
   "metadata": {},
   "outputs": [],
   "source": [
    "#create row counter and lists\n",
    "counter=0\n",
    "set_num=1\n",
    "cid = 0\n",
    "weather_list=[]\n",
    "\n",
    "# # city_ids = [] \n",
    "# clouds = []\n",
    "# country = []\n",
    "# wdate = []\n",
    "# humidity = []\n",
    "# latitude = []\n",
    "# longitude = []\n",
    "# max_temp = []\n",
    "# wind_speed = []\n",
    "# city_list=[]\n"
   ]
  },
  {
   "cell_type": "code",
   "execution_count": null,
   "metadata": {},
   "outputs": [],
   "source": [
    "print(f\"Start Data Retrieval on {today} estimated to be {equivalent}\")\n",
    "printlog.write(f\"Start Data Retrieval on {today} estimated to be {equivalent}\")\n",
    "print('-'*40 + \"\\n\")\n",
    "\n",
    "# call = query_url + city # create variable to update city in query!\n",
    "\n",
    "for city in cities:\n",
    "    # To append city Id's because it is an integer value\n",
    "    call = query_url + city # create variable to update city in query!\n",
    "    response = (requests.get(call)).json()\n",
    "\n",
    "#     # Want to make sure the data has enough time to properly be appended by 1 second\n",
    "#     time.sleep(1)\n",
    "    \n",
    "    # update record number and set number / note: easier to add to match to length of cities\n",
    "    if counter>=50: \n",
    "        counter=1\n",
    "        set_num+=1\n",
    "        \n",
    "    else:\n",
    "        counter+=1\n",
    "\n",
    "        \n",
    "#     # For Id statement    \n",
    "#     cid = int(response['id'])\n",
    "\n",
    "    \n",
    "#     # Use variables to prevent list from being printed, group by 50, also see url changes!   \n",
    "#     print(f\"Currently Processing record number {counter} of Set {set_num} | {city} with City ID: {cid}\") #| the query URL: {call}\\n\")\n",
    "\n",
    "    \n",
    "#     # Want to see documentation of all cities with ID in the weather map API as a text file for back up. \n",
    "#     printlog.write(f\"Currently Processing record number {counter} of Set {set_num} | {city} with City ID: {cid}) #| the query URL: {call}\\n\") \n",
    "#     pass  \n",
    "\n",
    "    #\n",
    "    try:\n",
    "        \n",
    "        #create dictionary within a list to append data from openweather\n",
    "        weather_list =({\"City\":response[\"name\"],\n",
    "                        \"Country\":response['sys']['country'],\n",
    "                         \"Latitude\":response['coord']['lat'],\n",
    "                         \"Longitude\":response['coord']['lon'],\n",
    "                         \"Date\":response['dt'],\n",
    "                         \"Cloudiness\":response['clouds']['all'],\n",
    "                         \"Humidity\":response['main']['humidity'],\n",
    "                         \"Max Tempature\":response['main']['temp_max'],\n",
    "                         \"Wind Speed\":response['wind']['speed']})\n",
    "        \n",
    "\n",
    "#         # The list appends the values and append response to print out on to datframe\n",
    "#         #city_ids.append(cid)\n",
    "#         country.append(response['sys']['country'])\n",
    "#         latitude.append(response['coord']['lat'])\n",
    "#         longitude.append(response['coord']['lon'])\n",
    "        \n",
    "#         # wdate.append(datetime.fromtimestamp(response['dt']).strftime('%m/%d/%y')) #Format date????\n",
    "#         wdate.append(response['dt'])\n",
    "#         clouds.append(response['clouds']['all'])\n",
    "#         humidity.append(response['main']['humidity'])\n",
    "#         max_temp.append(response['main']['temp_max'])\n",
    "#         wind_speed.append(response['wind']['speed'])\n",
    "#         city_list.append(city) \n",
    "        \n",
    "        # For Id statement    \n",
    "        cid = int(response['id'])\n",
    "\n",
    "    \n",
    "        # Use variables to prevent list from being printed, group by 50, also see url changes!   \n",
    "        print(f\"Currently Processing record number {counter} of Set {set_num} | {city} with City ID: {cid}\") #| the query URL: {call}\\n\")\n",
    "\n",
    "    \n",
    "        # Want to see documentation of all cities with ID in the weather map API as a text file for back up. \n",
    "        printlog.write(f\"Currently Processing record number {counter} of Set {set_num} | {city} with City ID: {cid}) #| the query URL: {call}\\n\") \n",
    "        pass  \n",
    "        \n",
    "    except:\n",
    "        print(f\"City not found. Skipping... \\n\")\n",
    "        \n",
    "         # Want to see documentation of all cities with ID not in the weather map API.\n",
    "        printlog.write(f\"City not found. Skipping... \\n\")\n",
    "        \n",
    "#         # \"City ID\" : city_ids,        # Append null values so lists are all the same length (later we will remove nulls from dataframe)\n",
    "#         #city_ids.append(None)\n",
    "#         city_list.append(None)\n",
    "#         country.append(None)\n",
    "#         latitude.append(None)\n",
    "#         longitude.append(None)\n",
    "#         clouds.append(None)\n",
    "#         wdate.append(None)\n",
    "#         humidity.append(None)\n",
    "#         max_temp.append(None)\n",
    "#         wind_speed.append(None)\n",
    "\n",
    "  \n",
    "print('-'*40 + '\\n')\n",
    "print(\"Process complete ... \\n\")\n",
    "# Close file after loop\n",
    "printlog.close()"
   ]
  },
  {
   "cell_type": "markdown",
   "metadata": {},
   "source": [
    "### Convert Raw Data to DataFrame\n",
    "* Export the city data into a .csv.\n",
    "* Display the DataFrame"
   ]
  },
  {
   "cell_type": "code",
   "execution_count": null,
   "metadata": {},
   "outputs": [],
   "source": [
    "# Consistent data to work with now in dataframe then count for accuracy: number = len(cities)\n",
    "city_df = pd.DataFrame(weather_list)\n",
    "city_df.count()"
   ]
  },
  {
   "cell_type": "code",
   "execution_count": null,
   "metadata": {},
   "outputs": [],
   "source": [
    "city_df.count()"
   ]
  },
  {
   "cell_type": "code",
   "execution_count": null,
   "metadata": {},
   "outputs": [],
   "source": [
    "# I appeneded everything regardless of value to make sure it went through all city names, now drop\n",
    "city_df = city_df.dropna()"
   ]
  },
  {
   "cell_type": "code",
   "execution_count": null,
   "metadata": {},
   "outputs": [],
   "source": [
    "# Total rows per column after drop if any\n",
    "city_df.count()"
   ]
  },
  {
   "cell_type": "code",
   "execution_count": null,
   "metadata": {},
   "outputs": [],
   "source": [
    "city_df.head()\n",
    "city_df[\"Date\"].strftime('%m/%d/%y')"
   ]
  },
  {
   "cell_type": "code",
   "execution_count": null,
   "metadata": {},
   "outputs": [],
   "source": [
    "# Consistent data to work with, in case anything happens, process runs for too long\n",
    "city_df.to_csv(output_data_file)"
   ]
  },
  {
   "cell_type": "markdown",
   "metadata": {},
   "source": [
    "## Inspect the data and remove the cities where the humidity > 100%.\n",
    "----\n",
    "Skip this step if there are no cities that have humidity > 100%. "
   ]
  },
  {
   "cell_type": "code",
   "execution_count": null,
   "metadata": {},
   "outputs": [],
   "source": [
    "#  Get the indices of cities that have humidity over 100%\n",
    "h = city_df['Humidity']\n",
    "h.max() # if value greater than 100 then write code below"
   ]
  },
  {
   "cell_type": "code",
   "execution_count": null,
   "metadata": {},
   "outputs": [],
   "source": [
    "# Make a new DataFrame equal to the city data to drop all humidity outliers by index.\n",
    "# Passing \"inplace=False\" will make a copy of the city_data DataFrame, which we call \"clean_city_data\"."
   ]
  },
  {
   "cell_type": "code",
   "execution_count": null,
   "metadata": {},
   "outputs": [],
   "source": [
    "# Extract relevant fields from the data frame\n",
    "\n",
    "\n",
    "# Export the City_Data into a csv if humidity above 100\n",
    "# city_df.to_csv(\"Weather_File/clean_weather.csv\")"
   ]
  },
  {
   "cell_type": "code",
   "execution_count": null,
   "metadata": {},
   "outputs": [],
   "source": [
    "# Create function \n",
    "\n",
    "def linear_regression (x, y, title)"
   ]
  },
  {
   "cell_type": "markdown",
   "metadata": {},
   "source": [
    "## Plotting the Data\n",
    "* Use proper labeling of the plots using plot titles (including date of analysis) and axes labels.\n",
    "* Save the plotted figures as .pngs."
   ]
  },
  {
   "cell_type": "markdown",
   "metadata": {},
   "source": [
    "## Latitude vs. Temperature Plot"
   ]
  },
  {
   "cell_type": "code",
   "execution_count": null,
   "metadata": {
    "scrolled": true
   },
   "outputs": [],
   "source": [
    "plt.scatter(city_df[\"Latitude\"], city_df[\"Max Tempature\"] ,edgecolors=\"black\",facecolors=\"steelblue\")\n",
    "plt.title(f\"City Latitude vs. Max Temperature {today}\")\n",
    "plt.xlabel(\"Latitude\")\n",
    "plt.ylabel(\"Max Temperature (F)\")\n",
    "plt.grid (b=True,which=\"major\",axis=\"both\",linestyle=\"-\",color=\"lightgrey\")"
   ]
  },
  {
   "cell_type": "code",
   "execution_count": null,
   "metadata": {
    "scrolled": true
   },
   "outputs": [],
   "source": [
    "plt.savefig('Weather_File/Latitude_vs_Temperature Plot')"
   ]
  },
  {
   "cell_type": "markdown",
   "metadata": {},
   "source": [
    "## Latitude vs. Humidity Plot"
   ]
  },
  {
   "cell_type": "code",
   "execution_count": null,
   "metadata": {},
   "outputs": [],
   "source": [
    "plt.scatter(city_df[\"Latitude\"],city_df[\"Humidity\"],edgecolors=\"black\",facecolors=\"steelblue\")\n",
    "plt.title(f\"City Latitude vs. Humidity {today}\")\n",
    "plt.xlabel(\"Latitude\")\n",
    "plt.ylabel(\"Humidity (%)\")\n",
    "plt.grid (b=True,which=\"major\",axis=\"both\",linestyle=\"-\",color=\"lightgrey\")"
   ]
  },
  {
   "cell_type": "code",
   "execution_count": null,
   "metadata": {},
   "outputs": [],
   "source": [
    "plt.savefig(\"Weather_File/Lat_vs_Humidity.png\")"
   ]
  },
  {
   "cell_type": "markdown",
   "metadata": {},
   "source": [
    "## Latitude vs. Cloudiness Plot"
   ]
  },
  {
   "cell_type": "code",
   "execution_count": null,
   "metadata": {},
   "outputs": [],
   "source": [
    "\n",
    "plt.scatter(city_df[\"Latitude\"],city_df[\"Cloudiness\"],edgecolors=\"black\",facecolors=\"steelblue\")\n",
    "plt.title(f\"City Latitude vs. Cloudiness {today}\")\n",
    "plt.xlabel(\"Latitude\")\n",
    "plt.ylabel(\"Cloudiness (%)\")\n",
    "plt.grid (b=True,which=\"major\",axis=\"both\",linestyle=\"-\",color=\"lightgrey\")\n",
    "plt.savefig(\"Weather_File/LatvsCloudiness.png\")\n"
   ]
  },
  {
   "cell_type": "code",
   "execution_count": null,
   "metadata": {},
   "outputs": [],
   "source": [
    "# Save the figure\n",
    "plt.savefig(\"Weather_File/LatitudeVsCloudiness.png\")"
   ]
  },
  {
   "cell_type": "markdown",
   "metadata": {},
   "source": [
    "## Latitude vs. Wind Speed Plot"
   ]
  },
  {
   "cell_type": "code",
   "execution_count": null,
   "metadata": {},
   "outputs": [],
   "source": [
    "plt.scatter(city_df[\"Latitude\"],city_df[\"Wind Speed\"],edgecolors=\"black\",facecolors=\"steelblue\")\n",
    "plt.title(f\"City Latitude vs. Wind Speed {today}\")\n",
    "plt.xlabel(\"Latitude\")\n",
    "plt.ylabel(\"Wind Speed (mph)\")\n",
    "plt.grid (b=True,which=\"major\",axis=\"both\",linestyle=\"-\",color=\"lightgrey\")"
   ]
  },
  {
   "cell_type": "code",
   "execution_count": null,
   "metadata": {},
   "outputs": [],
   "source": [
    "plt.savefig(\"Weather_File/LatvsWindSpeed.png\")"
   ]
  },
  {
   "cell_type": "markdown",
   "metadata": {},
   "source": [
    "## Linear Regression"
   ]
  },
  {
   "cell_type": "code",
   "execution_count": null,
   "metadata": {},
   "outputs": [],
   "source": [
    "# OPTIONAL: Create a function to create Linear Regression plots\n",
    "def linear_regression (X, Y, title, x_label, y_label):\n",
    "    a, b, r_value, p_value, std_err  = linregress(X, Y, test_size=0.2, random_state=0)\n",
    "    y = regressor.fit(X, Y)\n",
    "    plt.scatter(X,Y, edgecolors=\"black\",facecolors=\"steelblue\", label = 'Original Data')\n",
    "    plt.plot(X, y, 'r', label = f\"{y}\") )\n",
    "    plt.title(title)\n",
    "    plt.xlabel(x_label)\n",
    "    plt.ylabel(y_label)\n",
    "    plt.grid (b=True,which=\"major\",axis=\"both\",linestyle=\"-\",color=\"lightgrey\")\n",
    "    plt.savefig(f\"Weather_File/{title}.png\")"
   ]
  },
  {
   "cell_type": "code",
   "execution_count": null,
   "metadata": {},
   "outputs": [],
   "source": [
    "# Create Northern and Southern Hemisphere DataFrames\n",
    "# Latitude -90 = North, Latitude 90 = South\n",
    "# Horizontal mapping lines on Earth are lines of latitude. They are known as \"parallels\" of latitude, because they run parallel to the equator. One simple way to visualize this might be to think about having imaginary horizontal \"hula hoops\" around the earth, with the biggest hoop around the equator, and then progressively smaller ones stacked above and below it to reach the North and South Poles.\n",
    "north = city_df[city_df[\"Latitude\"] > 0]\n",
    "south = city_df[city_df[\"Latitude\"] < 0]"
   ]
  },
  {
   "cell_type": "markdown",
   "metadata": {},
   "source": [
    "####  Northern Hemisphere - Max Temp vs. Latitude Linear Regression"
   ]
  },
  {
   "cell_type": "code",
   "execution_count": null,
   "metadata": {},
   "outputs": [],
   "source": [
    "linear_regression(north[\"Latitude\"], north[\"Max Tempature\"], \"Northern Hemisphere - Max Temp vs. Latitude Linear Regression\", \"Latitude (North), Max Tempature\" )  "
   ]
  },
  {
   "cell_type": "markdown",
   "metadata": {},
   "source": [
    "####  Southern Hemisphere - Max Temp vs. Latitude Linear Regression"
   ]
  },
  {
   "cell_type": "code",
   "execution_count": null,
   "metadata": {},
   "outputs": [],
   "source": []
  },
  {
   "cell_type": "markdown",
   "metadata": {},
   "source": [
    "####  Northern Hemisphere - Humidity (%) vs. Latitude Linear Regression"
   ]
  },
  {
   "cell_type": "code",
   "execution_count": null,
   "metadata": {},
   "outputs": [],
   "source": []
  },
  {
   "cell_type": "markdown",
   "metadata": {},
   "source": [
    "####  Southern Hemisphere - Humidity (%) vs. Latitude Linear Regression"
   ]
  },
  {
   "cell_type": "code",
   "execution_count": null,
   "metadata": {},
   "outputs": [],
   "source": []
  },
  {
   "cell_type": "markdown",
   "metadata": {},
   "source": [
    "####  Northern Hemisphere - Cloudiness (%) vs. Latitude Linear Regression"
   ]
  },
  {
   "cell_type": "code",
   "execution_count": null,
   "metadata": {},
   "outputs": [],
   "source": []
  },
  {
   "cell_type": "markdown",
   "metadata": {},
   "source": [
    "####  Southern Hemisphere - Cloudiness (%) vs. Latitude Linear Regression"
   ]
  },
  {
   "cell_type": "code",
   "execution_count": null,
   "metadata": {},
   "outputs": [],
   "source": []
  },
  {
   "cell_type": "markdown",
   "metadata": {},
   "source": [
    "####  Northern Hemisphere - Wind Speed (mph) vs. Latitude Linear Regression"
   ]
  },
  {
   "cell_type": "code",
   "execution_count": null,
   "metadata": {},
   "outputs": [],
   "source": []
  },
  {
   "cell_type": "markdown",
   "metadata": {},
   "source": [
    "####  Southern Hemisphere - Wind Speed (mph) vs. Latitude Linear Regression"
   ]
  },
  {
   "cell_type": "code",
   "execution_count": null,
   "metadata": {},
   "outputs": [],
   "source": []
  },
  {
   "cell_type": "code",
   "execution_count": null,
   "metadata": {},
   "outputs": [],
   "source": []
  }
 ],
 "metadata": {
  "anaconda-cloud": {},
  "kernel_info": {
   "name": "python3"
  },
  "kernelspec": {
   "display_name": "Python 3",
   "language": "python",
   "name": "python3"
  },
  "language_info": {
   "codemirror_mode": {
    "name": "ipython",
    "version": 3
   },
   "file_extension": ".py",
   "mimetype": "text/x-python",
   "name": "python",
   "nbconvert_exporter": "python",
   "pygments_lexer": "ipython3",
   "version": "3.7.6"
  },
  "latex_envs": {
   "LaTeX_envs_menu_present": true,
   "autoclose": false,
   "autocomplete": true,
   "bibliofile": "biblio.bib",
   "cite_by": "apalike",
   "current_citInitial": 1,
   "eqLabelWithNumbers": true,
   "eqNumInitial": 1,
   "hotkeys": {
    "equation": "Ctrl-E",
    "itemize": "Ctrl-I"
   },
   "labels_anchors": false,
   "latex_user_defs": false,
   "report_style_numbering": false,
   "user_envs_cfg": false
  },
  "nteract": {
   "version": "0.12.3"
  }
 },
 "nbformat": 4,
 "nbformat_minor": 4
}
