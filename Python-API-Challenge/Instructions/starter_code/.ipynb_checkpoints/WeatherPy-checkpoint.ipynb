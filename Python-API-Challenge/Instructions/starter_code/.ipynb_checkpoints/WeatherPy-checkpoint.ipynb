{
 "cells": [
  {
   "cell_type": "markdown",
   "metadata": {},
   "source": [
    "# WeatherPy\n",
    "----\n",
    "\n",
    "#### Note\n",
    "* Instructions have been included for each segment. You do not have to follow them exactly, but they are included to help you think through the steps."
   ]
  },
  {
   "cell_type": "code",
   "execution_count": 1,
   "metadata": {
    "scrolled": true
   },
   "outputs": [
    {
     "data": {
      "text/plain": [
       "'C:\\\\Users\\\\Donley\\\\Documents\\\\GA_TECH\\\\SUBMISSIONS\\\\PYTHON-API-CHALLENGE\\\\Python-API-Challenge\\\\Instructions\\\\starter_code'"
      ]
     },
     "execution_count": 1,
     "metadata": {},
     "output_type": "execute_result"
    }
   ],
   "source": [
    "pwd"
   ]
  },
  {
   "cell_type": "code",
   "execution_count": 2,
   "metadata": {
    "scrolled": true
   },
   "outputs": [],
   "source": [
    "# Dependencies and Setup\n",
    "import matplotlib.pyplot as plt\n",
    "import pandas as pd\n",
    "import numpy as np\n",
    "import requests\n",
    "import time\n",
    "import datetime\n",
    "from datetime import date, datetime\n",
    "from scipy.stats import linregress\n",
    "\n",
    "# Import API key\n",
    "from api_keys import weather_api_key\n",
    "\n",
    "# Incorporated citipy to determine city based on latitude and longitude\n",
    "from citipy import citipy\n",
    "\n",
    "# Output File (CSV)\n",
    "output_data_file = \"Weather_File/weather_API_data.csv\"\n",
    "\n",
    "# Range of latitudes and longitudes\n",
    "lat_range = (-90, 90)\n",
    "lng_range = (-180, 180)"
   ]
  },
  {
   "cell_type": "markdown",
   "metadata": {},
   "source": [
    "## Generate Cities List"
   ]
  },
  {
   "cell_type": "code",
   "execution_count": 3,
   "metadata": {},
   "outputs": [
    {
     "data": {
      "text/plain": [
       "620"
      ]
     },
     "execution_count": 3,
     "metadata": {},
     "output_type": "execute_result"
    }
   ],
   "source": [
    "# List for holding lat_lngs and cities\n",
    "lat_lngs = []\n",
    "cities = []\n",
    "\n",
    "# Create a set of random lat and lng combinations\n",
    "lats = np.random.uniform(lat_range[0], lat_range[1], size=1500)\n",
    "lngs = np.random.uniform(lng_range[0], lng_range[1], size=1500)\n",
    "lat_lngs = zip(lats, lngs)\n",
    "\n",
    "# Identify nearest city for each lat, lng combination\n",
    "for lat_lng in lat_lngs:\n",
    "    city = citipy.nearest_city(lat_lng[0], lat_lng[1]).city_name\n",
    "    \n",
    "    # If the city is unique, then add it to a our cities list\n",
    "    if city not in cities:\n",
    "        cities.append(city)\n",
    "\n",
    "# Print the city count to confirm sufficient count\n",
    "len(cities)"
   ]
  },
  {
   "cell_type": "code",
   "execution_count": 4,
   "metadata": {},
   "outputs": [
    {
     "name": "stdout",
     "output_type": "stream",
     "text": [
      "Today's date: 08/09/20\n"
     ]
    }
   ],
   "source": [
    "# Will need fo(r date stamps on plots and the text files for documentation purposes\n",
    "today = (date.today()).strftime(\"%m/%d/%y\")\n",
    "print(\"Today's date:\", today)"
   ]
  },
  {
   "cell_type": "code",
   "execution_count": 5,
   "metadata": {},
   "outputs": [],
   "source": [
    "# For total amount of queries listed on data set. \n",
    "equivalent = len(cities)"
   ]
  },
  {
   "cell_type": "markdown",
   "metadata": {},
   "source": [
    "### Perform API Calls\n",
    "* Perform a weather check on each city using a series of successive API calls.\n",
    "* Include a print log of each city as it'sbeing processed (with the city number and city name).\n"
   ]
  },
  {
   "cell_type": "code",
   "execution_count": 6,
   "metadata": {},
   "outputs": [],
   "source": [
    "#  URL\n",
    "url=\"http://api.openweathermap.org/data/2.5/weather?\"\n",
    "\n",
    "# Will look like http://api.openweathermap.org/data/2.5/weather?appid={your api key}&units=imperial&q={city name}\n",
    "query_url=url+\"appid=\"+ weather_api_key+\"&units=imperial\"+\"&q=\" #+city\n",
    "\n",
    "# Make log for cities with ID as text\n",
    "printlog = open('Weather_File/weather_data_log.txt', 'w')"
   ]
  },
  {
   "cell_type": "code",
   "execution_count": 7,
   "metadata": {},
   "outputs": [],
   "source": [
    "# # Check for unambigous data recommended by Weather Map API and display json format\n",
    "# city_id = input(\"id: \") # for various id's for unambigous data\n",
    "\n",
    "# # Look's like api.openweathermap.org/data/2.5/weather?id={city id}&appid={your api key}\n",
    "# id_url= url + \"id=\" + city_id + \"&appid=\"+ weather_api_key\n",
    "\n",
    "# json_data = requests.get(id_url).json()\n",
    "# json_data"
   ]
  },
  {
   "cell_type": "code",
   "execution_count": 8,
   "metadata": {},
   "outputs": [],
   "source": [
    "# # Save for later use when restarting kernels\n",
    "# wid = int(json_data[\"id\"])\n",
    "# wid"
   ]
  },
  {
   "cell_type": "code",
   "execution_count": 9,
   "metadata": {},
   "outputs": [],
   "source": [
    "#create row counter and lists\n",
    "counter=0\n",
    "set_num=1\n",
    "cid = 0\n",
    "\n",
    "# city_ids = [] \n",
    "clouds = []\n",
    "country = []\n",
    "wdate = []\n",
    "humidity = []\n",
    "latitude = []\n",
    "longitude = []\n",
    "max_temp = []\n",
    "wind_speed = []\n",
    "city_list=[]\n"
   ]
  },
  {
   "cell_type": "code",
   "execution_count": 10,
   "metadata": {},
   "outputs": [
    {
     "name": "stdout",
     "output_type": "stream",
     "text": [
      "Start Data Retrieval on 08/09/20 estimated to be 620\n",
      "----------------------------------------\n",
      "\n",
      "Currently Processing record number 1 of Set 1 | yamada with City ID: 2110560\n",
      "Currently Processing record number 2 of Set 1 | srednekolymsk with City ID: 2121025\n",
      "Currently Processing record number 3 of Set 1 | sulangan with City ID: 1685422\n",
      "Currently Processing record number 4 of Set 1 | coquimbo with City ID: 3893629\n",
      "Currently Processing record number 5 of Set 1 | puerto ayora with City ID: 3652764\n",
      "Currently Processing record number 6 of Set 1 | albany with City ID: 5106841\n",
      "City not found. Skipping... \n",
      "\n",
      "Currently Processing record number 8 of Set 1 | comodoro rivadavia with City ID: 3860443\n",
      "City not found. Skipping... \n",
      "\n",
      "Currently Processing record number 10 of Set 1 | haines junction with City ID: 5969025\n",
      "Currently Processing record number 11 of Set 1 | kirakira with City ID: 2178753\n",
      "Currently Processing record number 12 of Set 1 | souillac with City ID: 933995\n",
      "Currently Processing record number 13 of Set 1 | yellowknife with City ID: 6185377\n",
      "Currently Processing record number 14 of Set 1 | bluff with City ID: 2206939\n",
      "Currently Processing record number 15 of Set 1 | mar del plata with City ID: 3430863\n",
      "Currently Processing record number 16 of Set 1 | kushmurun with City ID: 1519924\n",
      "Currently Processing record number 17 of Set 1 | cherskiy with City ID: 2126199\n",
      "Currently Processing record number 18 of Set 1 | kapaa with City ID: 5848280\n",
      "Currently Processing record number 19 of Set 1 | olafsvik with City ID: 3414079\n",
      "Currently Processing record number 20 of Set 1 | bulgan with City ID: 2032201\n",
      "Currently Processing record number 21 of Set 1 | arraial do cabo with City ID: 3471451\n",
      "City not found. Skipping... \n",
      "\n",
      "Currently Processing record number 23 of Set 1 | ushuaia with City ID: 3833367\n",
      "Currently Processing record number 24 of Set 1 | busselton with City ID: 2075265\n",
      "Currently Processing record number 25 of Set 1 | jamestown with City ID: 5122534\n",
      "Currently Processing record number 26 of Set 1 | half moon bay with City ID: 5354943\n",
      "Currently Processing record number 27 of Set 1 | avarua with City ID: 4035715\n",
      "Currently Processing record number 28 of Set 1 | dikson with City ID: 1507390\n",
      "Currently Processing record number 29 of Set 1 | norman wells with City ID: 6089245\n",
      "Currently Processing record number 30 of Set 1 | port alfred with City ID: 964432\n",
      "Currently Processing record number 31 of Set 1 | nikolskoye with City ID: 546105\n",
      "City not found. Skipping... \n",
      "\n",
      "Currently Processing record number 33 of Set 1 | atuona with City ID: 4020109\n",
      "Currently Processing record number 34 of Set 1 | guerrero negro with City ID: 4021858\n",
      "Currently Processing record number 35 of Set 1 | cayenne with City ID: 3382160\n",
      "Currently Processing record number 36 of Set 1 | butaritari with City ID: 2110227\n",
      "Currently Processing record number 37 of Set 1 | hobart with City ID: 2163355\n",
      "Currently Processing record number 38 of Set 1 | abu kamal with City ID: 174448\n",
      "Currently Processing record number 39 of Set 1 | new norfolk with City ID: 2155415\n",
      "Currently Processing record number 40 of Set 1 | nganjuk with City ID: 1634131\n",
      "Currently Processing record number 41 of Set 1 | hilo with City ID: 5855927\n",
      "Currently Processing record number 42 of Set 1 | lebu with City ID: 3883457\n",
      "Currently Processing record number 43 of Set 1 | hithadhoo with City ID: 1282256\n",
      "City not found. Skipping... \n",
      "\n",
      "Currently Processing record number 45 of Set 1 | barrow with City ID: 5880054\n",
      "Currently Processing record number 46 of Set 1 | qaanaaq with City ID: 3831208\n",
      "Currently Processing record number 47 of Set 1 | bredasdorp with City ID: 1015776\n",
      "Currently Processing record number 48 of Set 1 | roebourne with City ID: 2062276\n",
      "Currently Processing record number 49 of Set 1 | ahipara with City ID: 2194098\n",
      "Currently Processing record number 50 of Set 1 | rikitea with City ID: 4030556\n",
      "Currently Processing record number 1 of Set 2 | rantepao with City ID: 1629974\n",
      "Currently Processing record number 2 of Set 2 | punta arenas with City ID: 3874787\n",
      "Currently Processing record number 3 of Set 2 | mount isa with City ID: 2065594\n",
      "Currently Processing record number 4 of Set 2 | namibe with City ID: 3347019\n",
      "Currently Processing record number 5 of Set 2 | tezu with City ID: 1254709\n",
      "Currently Processing record number 6 of Set 2 | urucara with City ID: 3385670\n",
      "Currently Processing record number 7 of Set 2 | leningradskiy with City ID: 2123814\n",
      "City not found. Skipping... \n",
      "\n",
      "Currently Processing record number 9 of Set 2 | bathsheba with City ID: 3374083\n",
      "Currently Processing record number 10 of Set 2 | thompson with City ID: 6165406\n",
      "Currently Processing record number 11 of Set 2 | sawakin with City ID: 367544\n",
      "Currently Processing record number 12 of Set 2 | novikovo with City ID: 487928\n",
      "Currently Processing record number 13 of Set 2 | khasan with City ID: 2039557\n",
      "Currently Processing record number 14 of Set 2 | miri with City ID: 1738050\n",
      "Currently Processing record number 15 of Set 2 | cape town with City ID: 3369157\n",
      "Currently Processing record number 16 of Set 2 | namatanai with City ID: 2090021\n",
      "Currently Processing record number 17 of Set 2 | goure with City ID: 2444219\n",
      "Currently Processing record number 18 of Set 2 | caboolture with City ID: 2172832\n",
      "Currently Processing record number 19 of Set 2 | venezuela with City ID: 3625428\n",
      "Currently Processing record number 20 of Set 2 | mount gambier with City ID: 2156643\n",
      "Currently Processing record number 21 of Set 2 | conceicao do araguaia with City ID: 3401845\n",
      "City not found. Skipping... \n",
      "\n",
      "Currently Processing record number 23 of Set 2 | port elizabeth with City ID: 964420\n",
      "Currently Processing record number 24 of Set 2 | port-cartier with City ID: 6111696\n",
      "Currently Processing record number 25 of Set 2 | sao filipe with City ID: 3374210\n",
      "Currently Processing record number 26 of Set 2 | santa maria with City ID: 3450083\n",
      "Currently Processing record number 27 of Set 2 | napasar with City ID: 1261882\n",
      "Currently Processing record number 28 of Set 2 | cidreira with City ID: 3466165\n",
      "Currently Processing record number 29 of Set 2 | korla with City ID: 1529376\n",
      "Currently Processing record number 30 of Set 2 | camacha with City ID: 2270385\n",
      "Currently Processing record number 31 of Set 2 | samana with City ID: 3492997\n",
      "Currently Processing record number 32 of Set 2 | gumdag with City ID: 161943\n",
      "Currently Processing record number 33 of Set 2 | yulara with City ID: 6355222\n",
      "Currently Processing record number 34 of Set 2 | altamont with City ID: 5711149\n",
      "City not found. Skipping... \n",
      "\n",
      "Currently Processing record number 36 of Set 2 | ponta do sol with City ID: 2264557\n",
      "Currently Processing record number 37 of Set 2 | vicente guerrero with City ID: 3815453\n",
      "Currently Processing record number 38 of Set 2 | tuktoyaktuk with City ID: 6170031\n",
      "Currently Processing record number 39 of Set 2 | east london with City ID: 1006984\n",
      "Currently Processing record number 40 of Set 2 | husavik with City ID: 2629833\n",
      "Currently Processing record number 41 of Set 2 | mankono with City ID: 2284589\n",
      "Currently Processing record number 42 of Set 2 | touros with City ID: 3386213\n",
      "Currently Processing record number 43 of Set 2 | sur with City ID: 286245\n",
      "Currently Processing record number 44 of Set 2 | upernavik with City ID: 3418910\n",
      "Currently Processing record number 45 of Set 2 | lasa with City ID: 3175096\n",
      "Currently Processing record number 46 of Set 2 | mataura with City ID: 6201424\n",
      "Currently Processing record number 47 of Set 2 | abnub with City ID: 362973\n",
      "Currently Processing record number 48 of Set 2 | georgetown with City ID: 1735106\n",
      "Currently Processing record number 49 of Set 2 | bethel with City ID: 5282297\n",
      "Currently Processing record number 50 of Set 2 | vysokogornyy with City ID: 2013216\n",
      "Currently Processing record number 1 of Set 3 | broome with City ID: 5110365\n",
      "Currently Processing record number 2 of Set 3 | brownsville with City ID: 4676740\n",
      "Currently Processing record number 3 of Set 3 | mahebourg with City ID: 934322\n",
      "Currently Processing record number 4 of Set 3 | ponta delgada with City ID: 3372783\n",
      "Currently Processing record number 5 of Set 3 | jacareacanga with City ID: 3397763\n",
      "Currently Processing record number 6 of Set 3 | kathu with City ID: 1153035\n",
      "Currently Processing record number 7 of Set 3 | blumberg with City ID: 2947584\n",
      "Currently Processing record number 8 of Set 3 | carnarvon with City ID: 2074865\n",
      "City not found. Skipping... \n",
      "\n",
      "Currently Processing record number 10 of Set 3 | salalah with City ID: 286621\n",
      "Currently Processing record number 11 of Set 3 | khatanga with City ID: 2022572\n",
      "Currently Processing record number 12 of Set 3 | saint anthony with City ID: 5044290\n",
      "Currently Processing record number 13 of Set 3 | iqaluit with City ID: 5983720\n",
      "Currently Processing record number 14 of Set 3 | chokurdakh with City ID: 2126123\n",
      "Currently Processing record number 15 of Set 3 | belmonte with City ID: 3470137\n",
      "Currently Processing record number 16 of Set 3 | terney with City ID: 2015352\n",
      "Currently Processing record number 17 of Set 3 | oranjemund with City ID: 3354071\n",
      "Currently Processing record number 18 of Set 3 | puerto penasco with City ID: 3991347\n",
      "Currently Processing record number 19 of Set 3 | tiksi with City ID: 2015306\n",
      "Currently Processing record number 20 of Set 3 | guarapari with City ID: 3461888\n",
      "Currently Processing record number 21 of Set 3 | eyl with City ID: 60019\n",
      "Currently Processing record number 22 of Set 3 | marzuq with City ID: 72181\n",
      "City not found. Skipping... \n",
      "\n",
      "Currently Processing record number 24 of Set 3 | zholymbet with City ID: 1516527\n",
      "City not found. Skipping... \n",
      "\n",
      "Currently Processing record number 26 of Set 3 | esperance with City ID: 2071860\n",
      "Currently Processing record number 27 of Set 3 | kolchugino with City ID: 546521\n",
      "Currently Processing record number 28 of Set 3 | fortuna with City ID: 5563839\n",
      "Currently Processing record number 29 of Set 3 | halifax with City ID: 6324729\n",
      "City not found. Skipping... \n",
      "\n",
      "Currently Processing record number 31 of Set 3 | bengkulu with City ID: 1649150\n",
      "Currently Processing record number 32 of Set 3 | vaini with City ID: 4032243\n",
      "Currently Processing record number 33 of Set 3 | cabo san lucas with City ID: 3985710\n",
      "Currently Processing record number 34 of Set 3 | mocuba with City ID: 1024312\n",
      "Currently Processing record number 35 of Set 3 | zhigansk with City ID: 2012530\n",
      "Currently Processing record number 36 of Set 3 | poya with City ID: 2138522\n",
      "Currently Processing record number 37 of Set 3 | walvis bay with City ID: 3359638\n",
      "Currently Processing record number 38 of Set 3 | saint-philippe with City ID: 935215\n",
      "Currently Processing record number 39 of Set 3 | ploemeur with City ID: 2986732\n",
      "Currently Processing record number 40 of Set 3 | gavrilov posad with City ID: 561783\n",
      "Currently Processing record number 41 of Set 3 | thinadhoo with City ID: 1337610\n",
      "Currently Processing record number 42 of Set 3 | luena with City ID: 3347719\n",
      "City not found. Skipping... \n",
      "\n",
      "Currently Processing record number 44 of Set 3 | klaksvik with City ID: 2618795\n",
      "Currently Processing record number 45 of Set 3 | springbok with City ID: 3361142\n",
      "Currently Processing record number 46 of Set 3 | isangel with City ID: 2136825\n",
      "Currently Processing record number 47 of Set 3 | longyearbyen with City ID: 2729907\n",
      "Currently Processing record number 48 of Set 3 | svetlyy with City ID: 485660\n",
      "Currently Processing record number 49 of Set 3 | katsuura with City ID: 2112309\n",
      "Currently Processing record number 50 of Set 3 | constitucion with City ID: 3893726\n",
      "Currently Processing record number 1 of Set 4 | pevek with City ID: 2122090\n",
      "Currently Processing record number 2 of Set 4 | tuatapere with City ID: 2180815\n",
      "Currently Processing record number 3 of Set 4 | omboue with City ID: 2396853\n",
      "Currently Processing record number 4 of Set 4 | hollins with City ID: 4764534\n",
      "Currently Processing record number 5 of Set 4 | nome with City ID: 5870133\n",
      "Currently Processing record number 6 of Set 4 | sorland with City ID: 3137469\n",
      "Currently Processing record number 7 of Set 4 | santa marta with City ID: 3668605\n",
      "Currently Processing record number 8 of Set 4 | chara with City ID: 2025630\n",
      "Currently Processing record number 9 of Set 4 | mitsamiouli with City ID: 921786\n",
      "Currently Processing record number 10 of Set 4 | eureka with City ID: 5563397\n",
      "Currently Processing record number 11 of Set 4 | san miguelito with City ID: 3701329\n",
      "Currently Processing record number 12 of Set 4 | nouakchott with City ID: 2377450\n",
      "Currently Processing record number 13 of Set 4 | san cristobal with City ID: 3628473\n",
      "Currently Processing record number 14 of Set 4 | kavieng with City ID: 2094342\n",
      "Currently Processing record number 15 of Set 4 | hallein with City ID: 2776951\n",
      "Currently Processing record number 16 of Set 4 | rimbey with City ID: 6122374\n",
      "Currently Processing record number 17 of Set 4 | kruisfontein with City ID: 986717\n",
      "Currently Processing record number 18 of Set 4 | kysyl-syr with City ID: 2021017\n",
      "Currently Processing record number 19 of Set 4 | buraydah with City ID: 107304\n",
      "Currently Processing record number 20 of Set 4 | motupe with City ID: 3694569\n",
      "Currently Processing record number 21 of Set 4 | aksu with City ID: 1529660\n",
      "Currently Processing record number 22 of Set 4 | yatou with City ID: 1786855\n",
      "Currently Processing record number 23 of Set 4 | sola with City ID: 2134814\n",
      "Currently Processing record number 24 of Set 4 | paraiso with City ID: 3622547\n",
      "Currently Processing record number 25 of Set 4 | dingle with City ID: 1714733\n",
      "Currently Processing record number 26 of Set 4 | hermanus with City ID: 3366880\n",
      "Currently Processing record number 27 of Set 4 | grindavik with City ID: 3416888\n",
      "Currently Processing record number 28 of Set 4 | port-de-bouc with City ID: 6447156\n",
      "City not found. Skipping... \n",
      "\n",
      "Currently Processing record number 30 of Set 4 | turinsk with City ID: 1488933\n",
      "Currently Processing record number 31 of Set 4 | clyde river with City ID: 5924351\n",
      "Currently Processing record number 32 of Set 4 | jiayuguan with City ID: 1280957\n",
      "Currently Processing record number 33 of Set 4 | russell with City ID: 4047434\n",
      "Currently Processing record number 34 of Set 4 | bubaque with City ID: 2374583\n",
      "Currently Processing record number 35 of Set 4 | darhan with City ID: 2031964\n",
      "Currently Processing record number 36 of Set 4 | lagoa with City ID: 3372964\n",
      "Currently Processing record number 37 of Set 4 | eydhafushi with City ID: 1337606\n",
      "Currently Processing record number 38 of Set 4 | alekseyevsk with City ID: 2022083\n",
      "Currently Processing record number 39 of Set 4 | yeppoon with City ID: 2142316\n",
      "Currently Processing record number 40 of Set 4 | hamilton with City ID: 4513583\n",
      "Currently Processing record number 41 of Set 4 | poum with City ID: 2138555\n",
      "Currently Processing record number 42 of Set 4 | castro with City ID: 3466704\n",
      "Currently Processing record number 43 of Set 4 | bana with City ID: 2234936\n",
      "Currently Processing record number 44 of Set 4 | geraldton with City ID: 2070998\n",
      "Currently Processing record number 45 of Set 4 | nenjiang with City ID: 2035601\n",
      "Currently Processing record number 46 of Set 4 | pacific grove with City ID: 5380437\n",
      "Currently Processing record number 47 of Set 4 | magistralnyy with City ID: 2020584\n",
      "Currently Processing record number 48 of Set 4 | severo-kurilsk with City ID: 2121385\n",
      "City not found. Skipping... \n",
      "\n",
      "Currently Processing record number 50 of Set 4 | kurilsk with City ID: 2123979\n",
      "Currently Processing record number 1 of Set 5 | aswan with City ID: 359792\n",
      "Currently Processing record number 2 of Set 5 | turkmenabat with City ID: 1219649\n",
      "Currently Processing record number 3 of Set 5 | kaitangata with City ID: 2208248\n",
      "Currently Processing record number 4 of Set 5 | berdigestyakh with City ID: 2026861\n",
      "Currently Processing record number 5 of Set 5 | baillif with City ID: 3579761\n",
      "Currently Processing record number 6 of Set 5 | longkou with City ID: 1802550\n",
      "Currently Processing record number 7 of Set 5 | baykit with City ID: 1510689\n",
      "Currently Processing record number 8 of Set 5 | shitanjing with City ID: 1794971\n",
      "Currently Processing record number 9 of Set 5 | slave lake with City ID: 6149374\n",
      "Currently Processing record number 10 of Set 5 | tasiilaq with City ID: 3424607\n",
      "Currently Processing record number 11 of Set 5 | ngunguru with City ID: 2186111\n",
      "Currently Processing record number 12 of Set 5 | saskylakh with City ID: 2017155\n",
      "Currently Processing record number 13 of Set 5 | provideniya with City ID: 4031574\n",
      "Currently Processing record number 14 of Set 5 | ballina with City ID: 2177069\n",
      "Currently Processing record number 15 of Set 5 | tari with City ID: 2322495\n",
      "Currently Processing record number 16 of Set 5 | yaan with City ID: 2338660\n",
      "Currently Processing record number 17 of Set 5 | sibolga with City ID: 1213855\n",
      "Currently Processing record number 18 of Set 5 | vila velha with City ID: 3445026\n",
      "Currently Processing record number 19 of Set 5 | bihoro with City ID: 2127383\n",
      "City not found. Skipping... \n",
      "\n",
      "Currently Processing record number 21 of Set 5 | talaya with City ID: 2120769\n",
      "Currently Processing record number 22 of Set 5 | tanout with City ID: 2439155\n",
      "Currently Processing record number 23 of Set 5 | stanovoye with City ID: 489290\n",
      "Currently Processing record number 24 of Set 5 | valdemarpils with City ID: 454584\n",
      "Currently Processing record number 25 of Set 5 | chase with City ID: 5920381\n",
      "Currently Processing record number 26 of Set 5 | sabang with City ID: 1214026\n",
      "Currently Processing record number 27 of Set 5 | pyapon with City ID: 1299237\n",
      "Currently Processing record number 28 of Set 5 | atar with City ID: 2381334\n",
      "Currently Processing record number 29 of Set 5 | taltal with City ID: 3870243\n",
      "City not found. Skipping... \n",
      "\n",
      "Currently Processing record number 31 of Set 5 | micheweni with City ID: 153955\n",
      "Currently Processing record number 32 of Set 5 | port moresby with City ID: 2088122\n",
      "Currently Processing record number 33 of Set 5 | sandwick with City ID: 2638534\n",
      "Currently Processing record number 34 of Set 5 | gigmoto with City ID: 1712961\n",
      "Currently Processing record number 35 of Set 5 | henties bay with City ID: 3356832\n",
      "City not found. Skipping... \n",
      "\n",
      "Currently Processing record number 37 of Set 5 | tiarei with City ID: 4033356\n",
      "Currently Processing record number 38 of Set 5 | garoua with City ID: 2231320\n",
      "Currently Processing record number 39 of Set 5 | kahului with City ID: 5847411\n",
      "Currently Processing record number 40 of Set 5 | majene with City ID: 1636806\n",
      "Currently Processing record number 41 of Set 5 | kerchevskiy with City ID: 551047\n",
      "Currently Processing record number 42 of Set 5 | nadym with City ID: 1498087\n",
      "Currently Processing record number 43 of Set 5 | lebanon with City ID: 4636045\n",
      "Currently Processing record number 44 of Set 5 | lata with City ID: 2738381\n",
      "Currently Processing record number 45 of Set 5 | riverton with City ID: 5780557\n",
      "Currently Processing record number 46 of Set 5 | kimbe with City ID: 2093967\n",
      "Currently Processing record number 47 of Set 5 | simao with City ID: 1794209\n",
      "Currently Processing record number 48 of Set 5 | melfi with City ID: 3173615\n",
      "Currently Processing record number 49 of Set 5 | afua with City ID: 3408269\n",
      "City not found. Skipping... \n",
      "\n",
      "Currently Processing record number 1 of Set 6 | xianshuigu with City ID: 1790379\n",
      "Currently Processing record number 2 of Set 6 | vardo with City ID: 777019\n",
      "Currently Processing record number 3 of Set 6 | bjornevatn with City ID: 780643\n",
      "Currently Processing record number 4 of Set 6 | huarmey with City ID: 3939168\n",
      "Currently Processing record number 5 of Set 6 | avera with City ID: 4231997\n",
      "City not found. Skipping... \n",
      "\n",
      "Currently Processing record number 7 of Set 6 | bireun with City ID: 1215350\n",
      "Currently Processing record number 8 of Set 6 | kavaratti with City ID: 1267390\n",
      "Currently Processing record number 9 of Set 6 | kem with City ID: 551145\n",
      "Currently Processing record number 10 of Set 6 | lesozavodsk with City ID: 2020812\n",
      "Currently Processing record number 11 of Set 6 | wattegama with City ID: 1224061\n",
      "Currently Processing record number 12 of Set 6 | saldanha with City ID: 3361934\n",
      "Currently Processing record number 13 of Set 6 | tianpeng with City ID: 1792916\n",
      "Currently Processing record number 14 of Set 6 | bajil with City ID: 77408\n",
      "Currently Processing record number 15 of Set 6 | vila franca do campo with City ID: 3372472\n",
      "Currently Processing record number 16 of Set 6 | narsaq with City ID: 3421719\n",
      "Currently Processing record number 17 of Set 6 | tarnalelesz with City ID: 714951\n",
      "Currently Processing record number 18 of Set 6 | peace river with City ID: 6100069\n",
      "Currently Processing record number 19 of Set 6 | vaitape with City ID: 4033077\n",
      "Currently Processing record number 20 of Set 6 | hrubieszow with City ID: 770966\n",
      "Currently Processing record number 21 of Set 6 | farkhor with City ID: 1220826\n",
      "Currently Processing record number 22 of Set 6 | maumere with City ID: 1635815\n",
      "Currently Processing record number 23 of Set 6 | pisco with City ID: 3932145\n",
      "Currently Processing record number 24 of Set 6 | sobolevo with City ID: 525426\n",
      "Currently Processing record number 25 of Set 6 | sayyan with City ID: 70979\n",
      "Currently Processing record number 26 of Set 6 | zhuhai with City ID: 1790437\n",
      "Currently Processing record number 27 of Set 6 | labuhan with City ID: 8079926\n",
      "Currently Processing record number 28 of Set 6 | nabire with City ID: 1634614\n",
      "Currently Processing record number 29 of Set 6 | lompoc with City ID: 5367788\n",
      "Currently Processing record number 30 of Set 6 | luangwa with City ID: 909887\n",
      "Currently Processing record number 31 of Set 6 | duldurga with City ID: 2024812\n",
      "Currently Processing record number 32 of Set 6 | corning with City ID: 5113760\n",
      "City not found. Skipping... \n",
      "\n",
      "Currently Processing record number 34 of Set 6 | quelimane with City ID: 1028434\n",
      "Currently Processing record number 35 of Set 6 | belaya gora with City ID: 2126785\n",
      "Currently Processing record number 36 of Set 6 | vestmannaeyjar with City ID: 3412093\n",
      "Currently Processing record number 37 of Set 6 | uray with City ID: 1488429\n",
      "Currently Processing record number 38 of Set 6 | bocas del toro with City ID: 3713959\n",
      "City not found. Skipping... \n",
      "\n",
      "Currently Processing record number 40 of Set 6 | kindu with City ID: 212902\n",
      "Currently Processing record number 41 of Set 6 | annecy-le-vieux with City ID: 3037540\n",
      "Currently Processing record number 42 of Set 6 | faya with City ID: 110690\n",
      "Currently Processing record number 43 of Set 6 | kuandian with City ID: 2036283\n",
      "Currently Processing record number 44 of Set 6 | ibirama with City ID: 3461576\n",
      "Currently Processing record number 45 of Set 6 | los andes with City ID: 3882434\n",
      "Currently Processing record number 46 of Set 6 | port hawkesbury with City ID: 6111867\n",
      "Currently Processing record number 47 of Set 6 | turukhansk with City ID: 1488903\n",
      "Currently Processing record number 48 of Set 6 | konza with City ID: 190544\n",
      "Currently Processing record number 49 of Set 6 | homer with City ID: 5864145\n",
      "Currently Processing record number 50 of Set 6 | yumen with City ID: 1528998\n",
      "Currently Processing record number 1 of Set 7 | calama with City ID: 3897347\n",
      "Currently Processing record number 2 of Set 7 | sao felix do xingu with City ID: 3388847\n",
      "Currently Processing record number 3 of Set 7 | la paz with City ID: 3911925\n",
      "Currently Processing record number 4 of Set 7 | chuy with City ID: 3443061\n",
      "City not found. Skipping... \n",
      "\n",
      "Currently Processing record number 6 of Set 7 | bambous virieux with City ID: 1106677\n",
      "Currently Processing record number 7 of Set 7 | ostrovnoy with City ID: 556268\n",
      "Currently Processing record number 8 of Set 7 | berlevag with City ID: 780687\n",
      "Currently Processing record number 9 of Set 7 | adre with City ID: 245669\n",
      "Currently Processing record number 10 of Set 7 | trairi with City ID: 3386177\n",
      "Currently Processing record number 11 of Set 7 | aitape with City ID: 2101169\n",
      "Currently Processing record number 12 of Set 7 | nayagarh with City ID: 1261580\n",
      "Currently Processing record number 13 of Set 7 | victoria with City ID: 1819729\n",
      "City not found. Skipping... \n",
      "\n",
      "Currently Processing record number 15 of Set 7 | el astillero with City ID: 3123667\n",
      "Currently Processing record number 16 of Set 7 | banjar with City ID: 1650232\n",
      "Currently Processing record number 17 of Set 7 | bilma with City ID: 2446796\n",
      "Currently Processing record number 18 of Set 7 | pucara with City ID: 3931656\n",
      "Currently Processing record number 19 of Set 7 | trofors with City ID: 3133983\n",
      "Currently Processing record number 20 of Set 7 | tandil with City ID: 3427833\n",
      "Currently Processing record number 21 of Set 7 | kuala terengganu with City ID: 1734705\n",
      "Currently Processing record number 22 of Set 7 | kloulklubed with City ID: 7671223\n",
      "Currently Processing record number 23 of Set 7 | millinocket with City ID: 4972220\n",
      "Currently Processing record number 24 of Set 7 | shache with City ID: 1280037\n",
      "Currently Processing record number 25 of Set 7 | nemuro with City ID: 2128975\n",
      "Currently Processing record number 26 of Set 7 | tessalit with City ID: 2449893\n",
      "Currently Processing record number 27 of Set 7 | leh with City ID: 1264976\n",
      "Currently Processing record number 28 of Set 7 | black diamond with City ID: 5787423\n",
      "Currently Processing record number 29 of Set 7 | honiara with City ID: 2108502\n",
      "Currently Processing record number 30 of Set 7 | toyooka with City ID: 1849831\n",
      "Currently Processing record number 31 of Set 7 | xichang with City ID: 1789647\n",
      "Currently Processing record number 32 of Set 7 | paamiut with City ID: 3421193\n",
      "Currently Processing record number 33 of Set 7 | tambo with City ID: 3927995\n",
      "Currently Processing record number 34 of Set 7 | airai with City ID: 1651810\n",
      "Currently Processing record number 35 of Set 7 | cheyenne with City ID: 5821086\n",
      "Currently Processing record number 36 of Set 7 | dombarovskiy with City ID: 565407\n",
      "Currently Processing record number 37 of Set 7 | garissa with City ID: 197745\n",
      "Currently Processing record number 38 of Set 7 | laguna with City ID: 5364271\n",
      "Currently Processing record number 39 of Set 7 | miandrivazo with City ID: 1059051\n",
      "Currently Processing record number 40 of Set 7 | la palma with City ID: 5364022\n",
      "Currently Processing record number 41 of Set 7 | paka with City ID: 1734313\n",
      "Currently Processing record number 42 of Set 7 | ulladulla with City ID: 2145554\n",
      "Currently Processing record number 43 of Set 7 | mosquera with City ID: 3674292\n",
      "Currently Processing record number 44 of Set 7 | bodden town with City ID: 3580733\n",
      "Currently Processing record number 45 of Set 7 | kargil with City ID: 1267776\n",
      "Currently Processing record number 46 of Set 7 | barranca with City ID: 3946820\n",
      "Currently Processing record number 47 of Set 7 | faanui with City ID: 4034551\n",
      "Currently Processing record number 48 of Set 7 | queenstown with City ID: 963516\n",
      "Currently Processing record number 49 of Set 7 | three hills with City ID: 6165875\n",
      "Currently Processing record number 50 of Set 7 | chapais with City ID: 5919850\n",
      "Currently Processing record number 1 of Set 8 | adrar with City ID: 2381972\n",
      "Currently Processing record number 2 of Set 8 | decatur with City ID: 4236895\n",
      "Currently Processing record number 3 of Set 8 | yellandu with City ID: 1252745\n",
      "Currently Processing record number 4 of Set 8 | rorvik with City ID: 3141310\n",
      "Currently Processing record number 5 of Set 8 | plouzane with City ID: 2986626\n",
      "Currently Processing record number 6 of Set 8 | rabak with City ID: 368277\n",
      "Currently Processing record number 7 of Set 8 | kieta with City ID: 2094027\n",
      "Currently Processing record number 8 of Set 8 | gondanglegi with City ID: 1640660\n",
      "Currently Processing record number 9 of Set 8 | acapulco with City ID: 3533462\n",
      "Currently Processing record number 10 of Set 8 | ust-kut with City ID: 2013923\n",
      "Currently Processing record number 11 of Set 8 | port blair with City ID: 1259385\n",
      "Currently Processing record number 12 of Set 8 | marrakesh with City ID: 2542997\n",
      "Currently Processing record number 13 of Set 8 | lalmohan with City ID: 1185251\n",
      "Currently Processing record number 14 of Set 8 | aklavik with City ID: 5882953\n",
      "City not found. Skipping... \n",
      "\n",
      "Currently Processing record number 16 of Set 8 | deputatskiy with City ID: 2028164\n",
      "Currently Processing record number 17 of Set 8 | hurghada with City ID: 361291\n",
      "City not found. Skipping... \n",
      "\n",
      "Currently Processing record number 19 of Set 8 | unity with City ID: 6172009\n",
      "Currently Processing record number 20 of Set 8 | kawalu with City ID: 1640902\n",
      "Currently Processing record number 21 of Set 8 | ati with City ID: 2436400\n",
      "Currently Processing record number 22 of Set 8 | itarema with City ID: 3393692\n",
      "Currently Processing record number 23 of Set 8 | chihuahua with City ID: 4014336\n",
      "Currently Processing record number 24 of Set 8 | andreyevo with City ID: 581989\n",
      "City not found. Skipping... \n",
      "\n",
      "Currently Processing record number 26 of Set 8 | forbes with City ID: 2166368\n",
      "Currently Processing record number 27 of Set 8 | sawtell with City ID: 2150163\n",
      "Currently Processing record number 28 of Set 8 | williams lake with City ID: 6182212\n",
      "Currently Processing record number 29 of Set 8 | naze with City ID: 1855540\n",
      "Currently Processing record number 30 of Set 8 | winslow with City ID: 5321473\n",
      "Currently Processing record number 31 of Set 8 | port lincoln with City ID: 2063036\n",
      "Currently Processing record number 32 of Set 8 | kungurtug with City ID: 1501377\n",
      "Currently Processing record number 33 of Set 8 | sao gabriel da cachoeira with City ID: 3662342\n",
      "Currently Processing record number 34 of Set 8 | kosa with City ID: 544318\n",
      "Currently Processing record number 35 of Set 8 | maun with City ID: 933366\n",
      "Currently Processing record number 36 of Set 8 | vao with City ID: 2137773\n",
      "Currently Processing record number 37 of Set 8 | san patricio with City ID: 3985168\n",
      "Currently Processing record number 38 of Set 8 | anloga with City ID: 2304548\n",
      "Currently Processing record number 39 of Set 8 | les escoumins with City ID: 6944110\n",
      "Currently Processing record number 40 of Set 8 | hami with City ID: 1529484\n",
      "Currently Processing record number 41 of Set 8 | buala with City ID: 2109528\n",
      "Currently Processing record number 42 of Set 8 | berberati with City ID: 2389086\n",
      "Currently Processing record number 43 of Set 8 | omsukchan with City ID: 2122493\n",
      "Currently Processing record number 44 of Set 8 | apiai with City ID: 3471927\n",
      "Currently Processing record number 45 of Set 8 | vanimo with City ID: 2084442\n",
      "Currently Processing record number 46 of Set 8 | hasaki with City ID: 2112802\n",
      "Currently Processing record number 47 of Set 8 | lipari with City ID: 2524379\n",
      "Currently Processing record number 48 of Set 8 | necochea with City ID: 3430443\n",
      "Currently Processing record number 49 of Set 8 | port macquarie with City ID: 2152659\n",
      "Currently Processing record number 50 of Set 8 | teguise with City ID: 2510573\n",
      "Currently Processing record number 1 of Set 9 | chabahar with City ID: 1161724\n",
      "Currently Processing record number 2 of Set 9 | madimba with City ID: 878141\n",
      "City not found. Skipping... \n",
      "\n",
      "Currently Processing record number 4 of Set 9 | moree with City ID: 2156927\n",
      "Currently Processing record number 5 of Set 9 | djibo with City ID: 2361177\n",
      "Currently Processing record number 6 of Set 9 | kodiak with City ID: 5866583\n",
      "Currently Processing record number 7 of Set 9 | haverhill with City ID: 4939085\n",
      "Currently Processing record number 8 of Set 9 | kjollefjord with City ID: 779261\n",
      "Currently Processing record number 9 of Set 9 | bayevo with City ID: 1510709\n",
      "Currently Processing record number 10 of Set 9 | valparaiso with City ID: 3868626\n",
      "Currently Processing record number 11 of Set 9 | alice springs with City ID: 2077895\n",
      "Currently Processing record number 12 of Set 9 | guanica with City ID: 4565090\n",
      "Currently Processing record number 13 of Set 9 | sao geraldo do araguaia with City ID: 3388760\n",
      "Currently Processing record number 14 of Set 9 | dori with City ID: 2361082\n",
      "Currently Processing record number 15 of Set 9 | shwebo with City ID: 1296736\n",
      "Currently Processing record number 16 of Set 9 | mbekenyera with City ID: 878006\n",
      "Currently Processing record number 17 of Set 9 | umm kaddadah with City ID: 364933\n",
      "Currently Processing record number 18 of Set 9 | pedernales with City ID: 3495137\n",
      "Currently Processing record number 19 of Set 9 | celestun with City ID: 3531368\n",
      "City not found. Skipping... \n",
      "\n",
      "Currently Processing record number 21 of Set 9 | peniche with City ID: 2264923\n",
      "Currently Processing record number 22 of Set 9 | cam ranh with City ID: 1586350\n",
      "Currently Processing record number 23 of Set 9 | balsas with City ID: 3406545\n",
      "Currently Processing record number 24 of Set 9 | krasnoselkup with City ID: 1502073\n",
      "Currently Processing record number 25 of Set 9 | tsagveri with City ID: 615403\n",
      "Currently Processing record number 26 of Set 9 | krasnogorodsk with City ID: 542378\n",
      "Currently Processing record number 27 of Set 9 | port-gentil with City ID: 2396518\n",
      "Currently Processing record number 28 of Set 9 | general pico with City ID: 3855075\n",
      "Currently Processing record number 29 of Set 9 | kenai with City ID: 5866063\n",
      "Currently Processing record number 30 of Set 9 | shenjiamen with City ID: 1795632\n",
      "Currently Processing record number 31 of Set 9 | whithorn with City ID: 3491102\n",
      "Currently Processing record number 32 of Set 9 | malakal with City ID: 370737\n",
      "Currently Processing record number 33 of Set 9 | flinders with City ID: 6255012\n",
      "Currently Processing record number 34 of Set 9 | bertoua with City ID: 2234359\n",
      "Currently Processing record number 35 of Set 9 | noumea with City ID: 2139521\n",
      "Currently Processing record number 36 of Set 9 | kodinar with City ID: 1266397\n",
      "Currently Processing record number 37 of Set 9 | yar-sale with City ID: 1486321\n",
      "Currently Processing record number 38 of Set 9 | margate with City ID: 2643044\n",
      "Currently Processing record number 39 of Set 9 | san policarpo with City ID: 1688696\n",
      "Currently Processing record number 40 of Set 9 | voh with City ID: 2137748\n",
      "Currently Processing record number 41 of Set 9 | castlebar with City ID: 2965654\n",
      "Currently Processing record number 42 of Set 9 | sakakah with City ID: 102527\n",
      "Currently Processing record number 43 of Set 9 | alta floresta with City ID: 6316343\n",
      "Currently Processing record number 44 of Set 9 | katherine with City ID: 2068655\n",
      "Currently Processing record number 45 of Set 9 | marawi with City ID: 1701054\n",
      "Currently Processing record number 46 of Set 9 | spassk-dalniy with City ID: 2016187\n",
      "Currently Processing record number 47 of Set 9 | uvalde with City ID: 4738723\n",
      "City not found. Skipping... \n",
      "\n",
      "Currently Processing record number 49 of Set 9 | bilibino with City ID: 2126682\n",
      "Currently Processing record number 50 of Set 9 | schattdorf with City ID: 2658749\n",
      "Currently Processing record number 1 of Set 10 | pinar del rio with City ID: 3544091\n",
      "Currently Processing record number 2 of Set 10 | gat with City ID: 293842\n",
      "City not found. Skipping... \n",
      "\n",
      "Currently Processing record number 4 of Set 10 | portland with City ID: 5746545\n",
      "Currently Processing record number 5 of Set 10 | sitka with City ID: 5557293\n",
      "Currently Processing record number 6 of Set 10 | mackay with City ID: 2159220\n",
      "City not found. Skipping... \n",
      "\n",
      "Currently Processing record number 8 of Set 10 | shar with City ID: 1519275\n",
      "Currently Processing record number 9 of Set 10 | kaseda with City ID: 1859964\n",
      "Currently Processing record number 10 of Set 10 | port keats with City ID: 2063039\n",
      "Currently Processing record number 11 of Set 10 | kothi with City ID: 1265983\n",
      "Currently Processing record number 12 of Set 10 | gubbi with City ID: 1270824\n",
      "City not found. Skipping... \n",
      "\n",
      "Currently Processing record number 14 of Set 10 | pombas with City ID: 3374351\n",
      "Currently Processing record number 15 of Set 10 | kristiansund with City ID: 6453331\n",
      "Currently Processing record number 16 of Set 10 | peleduy with City ID: 2018069\n",
      "Currently Processing record number 17 of Set 10 | shingu with City ID: 1847947\n",
      "Currently Processing record number 18 of Set 10 | tura with City ID: 1254046\n",
      "Currently Processing record number 19 of Set 10 | isoka with City ID: 916668\n",
      "City not found. Skipping... \n",
      "\n",
      "Currently Processing record number 21 of Set 10 | gornopravdinsk with City ID: 1506268\n",
      "Currently Processing record number 22 of Set 10 | ribeira grande with City ID: 3372707\n",
      "Currently Processing record number 23 of Set 10 | merauke with City ID: 2082539\n",
      "Currently Processing record number 24 of Set 10 | pokhara with City ID: 1282898\n",
      "Currently Processing record number 25 of Set 10 | ust-kulom with City ID: 478050\n",
      "Currently Processing record number 26 of Set 10 | campoverde with City ID: 3733380\n",
      "Currently Processing record number 27 of Set 10 | praya with City ID: 3374333\n",
      "City not found. Skipping... \n",
      "\n",
      "Currently Processing record number 29 of Set 10 | nhulunbuy with City ID: 2064735\n",
      "Currently Processing record number 30 of Set 10 | jumla with City ID: 1283285\n",
      "Currently Processing record number 31 of Set 10 | saint-augustin with City ID: 6137462\n",
      "Currently Processing record number 32 of Set 10 | araouane with City ID: 2460954\n",
      "Currently Processing record number 33 of Set 10 | acarau with City ID: 3408368\n",
      "Currently Processing record number 34 of Set 10 | caibarien with City ID: 3566356\n",
      "Currently Processing record number 35 of Set 10 | bairiki with City ID: 7601762\n",
      "Currently Processing record number 36 of Set 10 | pine bluff with City ID: 4126226\n",
      "Currently Processing record number 37 of Set 10 | jiuquan with City ID: 1279945\n",
      "Currently Processing record number 38 of Set 10 | vallenar with City ID: 3868633\n",
      "Currently Processing record number 39 of Set 10 | solnechnyy with City ID: 2016307\n",
      "Currently Processing record number 40 of Set 10 | vengurla with City ID: 1253257\n",
      "Currently Processing record number 41 of Set 10 | yegros with City ID: 3436617\n",
      "Currently Processing record number 42 of Set 10 | oriximina with City ID: 3393471\n",
      "Currently Processing record number 43 of Set 10 | prince albert with City ID: 6113335\n",
      "City not found. Skipping... \n",
      "\n",
      "Currently Processing record number 45 of Set 10 | gorontalo with City ID: 1643837\n",
      "Currently Processing record number 46 of Set 10 | parrita with City ID: 3622537\n",
      "Currently Processing record number 47 of Set 10 | herat with City ID: 1140025\n",
      "Currently Processing record number 48 of Set 10 | mindyak with City ID: 526489\n",
      "Currently Processing record number 49 of Set 10 | whitehorse with City ID: 6180550\n",
      "Currently Processing record number 50 of Set 10 | kanniyakumari with City ID: 1268008\n",
      "Currently Processing record number 1 of Set 11 | vanavara with City ID: 2013727\n",
      "Currently Processing record number 2 of Set 11 | birao with City ID: 240210\n",
      "Currently Processing record number 3 of Set 11 | tautira with City ID: 4033557\n",
      "Currently Processing record number 4 of Set 11 | navalmoral de la mata with City ID: 2513324\n",
      "Currently Processing record number 5 of Set 11 | mitu with City ID: 3674676\n",
      "Currently Processing record number 6 of Set 11 | kamina with City ID: 214614\n",
      "Currently Processing record number 7 of Set 11 | bam with City ID: 141736\n",
      "Currently Processing record number 8 of Set 11 | porto novo with City ID: 2392087\n",
      "Currently Processing record number 9 of Set 11 | thunder bay with City ID: 6166142\n",
      "Currently Processing record number 10 of Set 11 | bolshevik with City ID: 625144\n",
      "Currently Processing record number 11 of Set 11 | ancud with City ID: 3899695\n",
      "Currently Processing record number 12 of Set 11 | padang with City ID: 1633419\n",
      "Currently Processing record number 13 of Set 11 | havoysund with City ID: 779622\n",
      "Currently Processing record number 14 of Set 11 | chumikan with City ID: 2025256\n",
      "Currently Processing record number 15 of Set 11 | kununurra with City ID: 2068110\n",
      "Currently Processing record number 16 of Set 11 | terrak with City ID: 3134658\n",
      "Currently Processing record number 17 of Set 11 | honningsvag with City ID: 779554\n",
      "Currently Processing record number 18 of Set 11 | houston with City ID: 4699066\n",
      "Currently Processing record number 19 of Set 11 | torbay with City ID: 6167817\n",
      "Currently Processing record number 20 of Set 11 | saint-leu with City ID: 6690297\n",
      "City not found. Skipping... \n",
      "\n",
      "Currently Processing record number 22 of Set 11 | westport with City ID: 4845585\n",
      "Currently Processing record number 23 of Set 11 | mizdah with City ID: 2214827\n",
      "Currently Processing record number 24 of Set 11 | sao jose da coroa grande with City ID: 3388456\n",
      "Currently Processing record number 25 of Set 11 | iracoubo with City ID: 3381428\n",
      "Currently Processing record number 26 of Set 11 | tromso with City ID: 6453316\n",
      "Currently Processing record number 27 of Set 11 | taywarah with City ID: 1122464\n",
      "Currently Processing record number 28 of Set 11 | jardim with City ID: 3460087\n",
      "Currently Processing record number 29 of Set 11 | picayune with City ID: 4440975\n",
      "Currently Processing record number 30 of Set 11 | inhambane with City ID: 1045114\n",
      "Currently Processing record number 31 of Set 11 | vetluga with City ID: 473910\n",
      "Currently Processing record number 32 of Set 11 | sorong with City ID: 1626542\n",
      "Currently Processing record number 33 of Set 11 | burlington with City ID: 4500994\n",
      "Currently Processing record number 34 of Set 11 | nizwa with City ID: 286987\n",
      "Currently Processing record number 35 of Set 11 | saurimo with City ID: 145531\n",
      "Currently Processing record number 36 of Set 11 | port hardy with City ID: 6111862\n",
      "Currently Processing record number 37 of Set 11 | maraa with City ID: 3663475\n",
      "Currently Processing record number 38 of Set 11 | moirang with City ID: 1262863\n",
      "Currently Processing record number 39 of Set 11 | mayor pablo lagerenza with City ID: 3867427\n",
      "Currently Processing record number 40 of Set 11 | egvekinot with City ID: 4031742\n",
      "Currently Processing record number 41 of Set 11 | alofi with City ID: 4036284\n",
      "Currently Processing record number 42 of Set 11 | wanaka with City ID: 2184707\n",
      "Currently Processing record number 43 of Set 11 | milazzo with City ID: 2524155\n",
      "Currently Processing record number 44 of Set 11 | heishan with City ID: 2036959\n",
      "Currently Processing record number 45 of Set 11 | behbahan with City ID: 140951\n",
      "Currently Processing record number 46 of Set 11 | rudnogorsk with City ID: 2017378\n",
      "City not found. Skipping... \n",
      "\n",
      "Currently Processing record number 48 of Set 11 | the valley with City ID: 3573374\n",
      "Currently Processing record number 49 of Set 11 | kenitra with City ID: 2544571\n",
      "City not found. Skipping... \n",
      "\n",
      "Currently Processing record number 1 of Set 12 | plettenberg bay with City ID: 964712\n",
      "Currently Processing record number 2 of Set 12 | sarangani with City ID: 1687186\n",
      "Currently Processing record number 3 of Set 12 | camacupa with City ID: 3351014\n",
      "Currently Processing record number 4 of Set 12 | hovd with City ID: 1516048\n",
      "Currently Processing record number 5 of Set 12 | asau with City ID: 686090\n",
      "Currently Processing record number 6 of Set 12 | newala with City ID: 877532\n",
      "Currently Processing record number 7 of Set 12 | ures with City ID: 3980782\n",
      "Currently Processing record number 8 of Set 12 | qesarya with City ID: 7117228\n",
      "Currently Processing record number 9 of Set 12 | cooma with City ID: 2170577\n",
      "Currently Processing record number 10 of Set 12 | barroquinha with City ID: 3406041\n",
      "Currently Processing record number 11 of Set 12 | sao joao da barra with City ID: 3448903\n",
      "Currently Processing record number 12 of Set 12 | usinsk with City ID: 863061\n",
      "Currently Processing record number 13 of Set 12 | kathmandu with City ID: 1283240\n",
      "Currently Processing record number 14 of Set 12 | quang ngai with City ID: 1568770\n",
      "Currently Processing record number 15 of Set 12 | bagdarin with City ID: 2027244\n",
      "Currently Processing record number 16 of Set 12 | bongandanga with City ID: 218229\n",
      "Currently Processing record number 17 of Set 12 | coihaique with City ID: 3894426\n",
      "Currently Processing record number 18 of Set 12 | atlantic city with City ID: 4500546\n",
      "Currently Processing record number 19 of Set 12 | ust-koksa with City ID: 1488167\n",
      "Currently Processing record number 20 of Set 12 | snasa with City ID: 3138076\n",
      "Currently Processing record number 21 of Set 12 | porto real with City ID: 3452672\n",
      "Currently Processing record number 22 of Set 12 | mayachnyy with City ID: 528380\n",
      "Currently Processing record number 23 of Set 12 | phan thiet with City ID: 1571058\n",
      "Currently Processing record number 24 of Set 12 | vawkavysk with City ID: 620391\n",
      "Currently Processing record number 25 of Set 12 | aloleng with City ID: 1731298\n",
      "Currently Processing record number 26 of Set 12 | stromness with City ID: 2636638\n",
      "Currently Processing record number 27 of Set 12 | puerto escondido with City ID: 3520994\n",
      "Currently Processing record number 28 of Set 12 | manitouwadge with City ID: 6065253\n",
      "Currently Processing record number 29 of Set 12 | sioux lookout with City ID: 6148373\n",
      "Currently Processing record number 30 of Set 12 | zheleznodorozhnyy with City ID: 463355\n",
      "Currently Processing record number 31 of Set 12 | tanete with City ID: 1629965\n",
      "City not found. Skipping... \n",
      "\n",
      "Currently Processing record number 33 of Set 12 | tres lagoas with City ID: 3446098\n",
      "Currently Processing record number 34 of Set 12 | nyurba with City ID: 2018735\n",
      "Currently Processing record number 35 of Set 12 | sinnamary with City ID: 3380290\n",
      "Currently Processing record number 36 of Set 12 | luderitz with City ID: 3355672\n",
      "Currently Processing record number 37 of Set 12 | palencia with City ID: 3114530\n",
      "Currently Processing record number 38 of Set 12 | palana with City ID: 2122262\n",
      "Currently Processing record number 39 of Set 12 | kingsville with City ID: 4703384\n",
      "Currently Processing record number 40 of Set 12 | iquique with City ID: 3887127\n",
      "Currently Processing record number 41 of Set 12 | shubarshi with City ID: 608270\n",
      "Currently Processing record number 42 of Set 12 | posse with City ID: 3452599\n",
      "Currently Processing record number 43 of Set 12 | la ronge with City ID: 6050066\n",
      "Currently Processing record number 44 of Set 12 | galesong with City ID: 1644605\n",
      "City not found. Skipping... \n",
      "\n",
      "Currently Processing record number 46 of Set 12 | moussoro with City ID: 2427336\n",
      "Currently Processing record number 47 of Set 12 | kosh-agach with City ID: 1502422\n",
      "Currently Processing record number 48 of Set 12 | tarakan with City ID: 1624725\n",
      "Currently Processing record number 49 of Set 12 | saint george with City ID: 5546220\n",
      "Currently Processing record number 50 of Set 12 | zonguldak with City ID: 737021\n",
      "Currently Processing record number 1 of Set 13 | lamar with City ID: 4705086\n",
      "Currently Processing record number 2 of Set 13 | faratsiho with City ID: 1065140\n",
      "Currently Processing record number 3 of Set 13 | codrington with City ID: 2171099\n",
      "City not found. Skipping... \n",
      "\n",
      "Currently Processing record number 5 of Set 13 | quatre cocos with City ID: 1106643\n",
      "Currently Processing record number 6 of Set 13 | palmares do sul with City ID: 3455461\n",
      "Currently Processing record number 7 of Set 13 | garmsar with City ID: 133964\n",
      "Currently Processing record number 8 of Set 13 | lincoln with City ID: 5072006\n",
      "Currently Processing record number 9 of Set 13 | lewiston with City ID: 4969398\n",
      "Currently Processing record number 10 of Set 13 | idanre with City ID: 2339150\n",
      "Currently Processing record number 11 of Set 13 | hirara with City ID: 1862505\n",
      "Currently Processing record number 12 of Set 13 | langarud with City ID: 125897\n",
      "Currently Processing record number 13 of Set 13 | talcahuano with City ID: 3870282\n",
      "Currently Processing record number 14 of Set 13 | anadyr with City ID: 2127202\n",
      "Currently Processing record number 15 of Set 13 | mongo with City ID: 2427637\n",
      "Currently Processing record number 16 of Set 13 | najran with City ID: 103630\n",
      "Currently Processing record number 17 of Set 13 | general roca with City ID: 3855065\n",
      "Currently Processing record number 18 of Set 13 | mahajanga with City ID: 1062663\n",
      "Currently Processing record number 19 of Set 13 | cervo with City ID: 3125287\n",
      "Currently Processing record number 20 of Set 13 | raudeberg with City ID: 3146487\n",
      "----------------------------------------\n",
      "\n",
      "Process complete ... \n",
      "\n"
     ]
    }
   ],
   "source": [
    "print(f\"Start Data Retrieval on {today} estimated to be {equivalent}\")\n",
    "printlog.write(f\"Start Data Retrieval on {today} estimated to be {equivalent}\")\n",
    "print('-'*40 + \"\\n\")\n",
    "\n",
    "call = query_url + city # create variable to update city in query!\n",
    "\n",
    "for city in cities:\n",
    "    # To append city Id's because it is an integer value\n",
    "    call = query_url + city # create variable to update city in query!\n",
    "    response = (requests.get(call)).json()\n",
    "\n",
    "#     # Want to make sure the data has enough time to properly be appended by 1 second\n",
    "#     time.sleep(1)\n",
    "    \n",
    "    # update record number and set number / note: easier to add to match to length of cities\n",
    "    if counter>=50: \n",
    "        counter=1\n",
    "        set_num+=1\n",
    "        \n",
    "    else:\n",
    "        counter+=1\n",
    "\n",
    "        \n",
    "#     # For Id statement    \n",
    "#     cid = int(response['id'])\n",
    "\n",
    "    \n",
    "#     # Use variables to prevent list from being printed, group by 50, also see url changes!   \n",
    "#     print(f\"Currently Processing record number {counter} of Set {set_num} | {city} with City ID: {cid}\") #| the query URL: {call}\\n\")\n",
    "\n",
    "    \n",
    "#     # Want to see documentation of all cities with ID in the weather map API as a text file for back up. \n",
    "#     printlog.write(f\"Currently Processing record number {counter} of Set {set_num} | {city} with City ID: {cid}) #| the query URL: {call}\\n\") \n",
    "#     pass  \n",
    "\n",
    "    #\n",
    "    try:\n",
    "        # The list appends the values and append response to print out on to datframe\n",
    "        #city_ids.append(cid)\n",
    "        country.append(response['sys']['country'])\n",
    "        latitude.append(response['coord']['lat'])\n",
    "        longitude.append(response['coord']['lon'])\n",
    "        \n",
    "        # wdate.append(datetime.fromtimestamp(response['dt']).strftime('%m/%d/%y')) #Format date????\n",
    "        wdate.append(response['dt'])\n",
    "        clouds.append(response['clouds']['all'])\n",
    "        humidity.append(response['main']['humidity'])\n",
    "        max_temp.append(response['main']['temp_max'])\n",
    "        wind_speed.append(response['wind']['speed'])\n",
    "        city_list.append(city) \n",
    "        \n",
    "        # For Id statement    \n",
    "        cid = int(response['id'])\n",
    "\n",
    "    \n",
    "        # Use variables to prevent list from being printed, group by 50, also see url changes!   \n",
    "        print(f\"Currently Processing record number {counter} of Set {set_num} | {city} with City ID: {cid}\") #| the query URL: {call}\\n\")\n",
    "\n",
    "    \n",
    "        # Want to see documentation of all cities with ID in the weather map API as a text file for back up. \n",
    "        printlog.write(f\"Currently Processing record number {counter} of Set {set_num} | {city} with City ID: {cid}) #| the query URL: {call}\\n\") \n",
    "        pass  \n",
    "        \n",
    "    except:\n",
    "        print(f\"City not found. Skipping... \\n\")\n",
    "        \n",
    "         # Want to see documentation of all cities with ID not in the weather map API.\n",
    "        printlog.write(f\"City not found. Skipping... \\n\")\n",
    "        \n",
    "#         # \"City ID\" : city_ids,        # Append null values so lists are all the same length (later we will remove nulls from dataframe)\n",
    "#         #city_ids.append(None)\n",
    "#         city_list.append(None)\n",
    "#         country.append(None)\n",
    "#         latitude.append(None)\n",
    "#         longitude.append(None)\n",
    "#         clouds.append(None)\n",
    "#         wdate.append(None)\n",
    "#         humidity.append(None)\n",
    "#         max_temp.append(None)\n",
    "#         wind_speed.append(None)\n",
    "\n",
    "  \n",
    "print('-'*40 + '\\n')\n",
    "print(\"Process complete ... \\n\")\n",
    "# Close file after loop\n",
    "printlog.close()"
   ]
  },
  {
   "cell_type": "code",
   "execution_count": 11,
   "metadata": {},
   "outputs": [],
   "source": [
    "#create dictionary for all the variables that extract from openweather\n",
    "headers ={\"City\":city_list,\n",
    "             \"Country\":country,\n",
    "             \"Latitude\":latitude,\n",
    "             \"Longitude\":longitude,\n",
    "             \"Date\":wdate,\n",
    "             \"Cloudiness\":clouds,\n",
    "             \"Humidity\":humidity,\n",
    "             \"Max Tempature\":max_temp,\n",
    "             \"Wind Speed\":wind_speed}\n",
    "\n"
   ]
  },
  {
   "cell_type": "markdown",
   "metadata": {},
   "source": [
    "### Convert Raw Data to DataFrame\n",
    "* Export the city data into a .csv.\n",
    "* Display the DataFrame"
   ]
  },
  {
   "cell_type": "code",
   "execution_count": 12,
   "metadata": {},
   "outputs": [
    {
     "data": {
      "text/plain": [
       "City             578\n",
       "Country          578\n",
       "Latitude         578\n",
       "Longitude        578\n",
       "Date             578\n",
       "Cloudiness       578\n",
       "Humidity         578\n",
       "Max Tempature    578\n",
       "Wind Speed       578\n",
       "dtype: int64"
      ]
     },
     "execution_count": 12,
     "metadata": {},
     "output_type": "execute_result"
    }
   ],
   "source": [
    "# Consistent data to work with now in dataframe then count for accuracy: number = len(cities)\n",
    "city_df = pd.DataFrame(headers)\n",
    "city_df.count()"
   ]
  },
  {
   "cell_type": "code",
   "execution_count": 13,
   "metadata": {},
   "outputs": [
    {
     "data": {
      "text/plain": [
       "City             578\n",
       "Country          578\n",
       "Latitude         578\n",
       "Longitude        578\n",
       "Date             578\n",
       "Cloudiness       578\n",
       "Humidity         578\n",
       "Max Tempature    578\n",
       "Wind Speed       578\n",
       "dtype: int64"
      ]
     },
     "execution_count": 13,
     "metadata": {},
     "output_type": "execute_result"
    }
   ],
   "source": [
    "city_df.count()"
   ]
  },
  {
   "cell_type": "code",
   "execution_count": 14,
   "metadata": {},
   "outputs": [],
   "source": [
    "# I appeneded everything regardless of value to make sure it went through all city names, now drop\n",
    "city_df = city_df.dropna()"
   ]
  },
  {
   "cell_type": "code",
   "execution_count": 15,
   "metadata": {},
   "outputs": [
    {
     "data": {
      "text/plain": [
       "City             578\n",
       "Country          578\n",
       "Latitude         578\n",
       "Longitude        578\n",
       "Date             578\n",
       "Cloudiness       578\n",
       "Humidity         578\n",
       "Max Tempature    578\n",
       "Wind Speed       578\n",
       "dtype: int64"
      ]
     },
     "execution_count": 15,
     "metadata": {},
     "output_type": "execute_result"
    }
   ],
   "source": [
    "# Total rows per column after drop if any\n",
    "city_df.count()"
   ]
  },
  {
   "cell_type": "code",
   "execution_count": 16,
   "metadata": {},
   "outputs": [
    {
     "data": {
      "text/html": [
       "<div>\n",
       "<style scoped>\n",
       "    .dataframe tbody tr th:only-of-type {\n",
       "        vertical-align: middle;\n",
       "    }\n",
       "\n",
       "    .dataframe tbody tr th {\n",
       "        vertical-align: top;\n",
       "    }\n",
       "\n",
       "    .dataframe thead th {\n",
       "        text-align: right;\n",
       "    }\n",
       "</style>\n",
       "<table border=\"1\" class=\"dataframe\">\n",
       "  <thead>\n",
       "    <tr style=\"text-align: right;\">\n",
       "      <th></th>\n",
       "      <th>City</th>\n",
       "      <th>Country</th>\n",
       "      <th>Latitude</th>\n",
       "      <th>Longitude</th>\n",
       "      <th>Date</th>\n",
       "      <th>Cloudiness</th>\n",
       "      <th>Humidity</th>\n",
       "      <th>Max Tempature</th>\n",
       "      <th>Wind Speed</th>\n",
       "    </tr>\n",
       "  </thead>\n",
       "  <tbody>\n",
       "    <tr>\n",
       "      <th>0</th>\n",
       "      <td>yamada</td>\n",
       "      <td>JP</td>\n",
       "      <td>39.47</td>\n",
       "      <td>141.95</td>\n",
       "      <td>1596952904</td>\n",
       "      <td>99</td>\n",
       "      <td>91</td>\n",
       "      <td>72.63</td>\n",
       "      <td>10.36</td>\n",
       "    </tr>\n",
       "    <tr>\n",
       "      <th>1</th>\n",
       "      <td>srednekolymsk</td>\n",
       "      <td>RU</td>\n",
       "      <td>67.45</td>\n",
       "      <td>153.68</td>\n",
       "      <td>1596952904</td>\n",
       "      <td>28</td>\n",
       "      <td>35</td>\n",
       "      <td>61.59</td>\n",
       "      <td>5.93</td>\n",
       "    </tr>\n",
       "    <tr>\n",
       "      <th>2</th>\n",
       "      <td>sulangan</td>\n",
       "      <td>PH</td>\n",
       "      <td>11.14</td>\n",
       "      <td>123.72</td>\n",
       "      <td>1596952904</td>\n",
       "      <td>85</td>\n",
       "      <td>73</td>\n",
       "      <td>85.60</td>\n",
       "      <td>13.49</td>\n",
       "    </tr>\n",
       "    <tr>\n",
       "      <th>3</th>\n",
       "      <td>coquimbo</td>\n",
       "      <td>CL</td>\n",
       "      <td>-29.95</td>\n",
       "      <td>-71.34</td>\n",
       "      <td>1596952602</td>\n",
       "      <td>90</td>\n",
       "      <td>93</td>\n",
       "      <td>50.00</td>\n",
       "      <td>4.70</td>\n",
       "    </tr>\n",
       "    <tr>\n",
       "      <th>4</th>\n",
       "      <td>puerto ayora</td>\n",
       "      <td>EC</td>\n",
       "      <td>-0.74</td>\n",
       "      <td>-90.35</td>\n",
       "      <td>1596952603</td>\n",
       "      <td>69</td>\n",
       "      <td>92</td>\n",
       "      <td>64.99</td>\n",
       "      <td>8.25</td>\n",
       "    </tr>\n",
       "  </tbody>\n",
       "</table>\n",
       "</div>"
      ],
      "text/plain": [
       "            City Country  Latitude  Longitude        Date  Cloudiness  \\\n",
       "0         yamada      JP     39.47     141.95  1596952904          99   \n",
       "1  srednekolymsk      RU     67.45     153.68  1596952904          28   \n",
       "2       sulangan      PH     11.14     123.72  1596952904          85   \n",
       "3       coquimbo      CL    -29.95     -71.34  1596952602          90   \n",
       "4   puerto ayora      EC     -0.74     -90.35  1596952603          69   \n",
       "\n",
       "   Humidity  Max Tempature  Wind Speed  \n",
       "0        91          72.63       10.36  \n",
       "1        35          61.59        5.93  \n",
       "2        73          85.60       13.49  \n",
       "3        93          50.00        4.70  \n",
       "4        92          64.99        8.25  "
      ]
     },
     "execution_count": 16,
     "metadata": {},
     "output_type": "execute_result"
    }
   ],
   "source": [
    "city_df.head()\n"
   ]
  },
  {
   "cell_type": "code",
   "execution_count": 17,
   "metadata": {},
   "outputs": [],
   "source": [
    "# Consistent data to work with, in case anything happens, process runs for too long\n",
    "city_df.to_csv(output_data_file)"
   ]
  },
  {
   "cell_type": "markdown",
   "metadata": {},
   "source": [
    "## Inspect the data and remove the cities where the humidity > 100%.\n",
    "----\n",
    "Skip this step if there are no cities that have humidity > 100%. "
   ]
  },
  {
   "cell_type": "code",
   "execution_count": 18,
   "metadata": {},
   "outputs": [
    {
     "data": {
      "text/plain": [
       "100"
      ]
     },
     "execution_count": 18,
     "metadata": {},
     "output_type": "execute_result"
    }
   ],
   "source": [
    "#  Get the indices of cities that have humidity over 100%\n",
    "h = city_df['Humidity']\n",
    "h.max() # if value greater than 100 then write code below"
   ]
  },
  {
   "cell_type": "code",
   "execution_count": 19,
   "metadata": {},
   "outputs": [],
   "source": [
    "# Make a new DataFrame equal to the city data to drop all humidity outliers by index.\n",
    "# Passing \"inplace=False\" will make a copy of the city_data DataFrame, which we call \"clean_city_data\"."
   ]
  },
  {
   "cell_type": "code",
   "execution_count": 20,
   "metadata": {},
   "outputs": [],
   "source": [
    "# Extract relevant fields from the data frame\n",
    "\n",
    "\n",
    "# Export the City_Data into a csv if humidity above 100\n",
    "# city_df.to_csv(\"Weather_File/clean_weather.csv\")"
   ]
  },
  {
   "cell_type": "markdown",
   "metadata": {},
   "source": [
    "## Plotting the Data\n",
    "* Use proper labeling of the plots using plot titles (including date of analysis) and axes labels.\n",
    "* Save the plotted figures as .pngs."
   ]
  },
  {
   "cell_type": "markdown",
   "metadata": {},
   "source": [
    "## Latitude vs. Temperature Plot"
   ]
  },
  {
   "cell_type": "code",
   "execution_count": 21,
   "metadata": {
    "scrolled": true
   },
   "outputs": [
    {
     "data": {
      "image/png": "[encoded data removed]",
      "text/plain": [
       "<Figure size 432x288 with 1 Axes>"
      ]
     },
     "metadata": {
      "needs_background": "light"
     },
     "output_type": "display_data"
    }
   ],
   "source": [
    "plt.scatter(city_df[\"Latitude\"], city_df[\"Max Tempature\"] ,edgecolors=\"black\",facecolors=\"steelblue\")\n",
    "plt.title(f\"City Latitude vs. Max Temperature {today}\")\n",
    "plt.xlabel(\"Latitude\")\n",
    "plt.ylabel(\"Max Temperature (F)\")\n",
    "plt.grid (b=True,which=\"major\",axis=\"both\",linestyle=\"-\",color=\"lightgrey\")"
   ]
  },
  {
   "cell_type": "code",
   "execution_count": null,
   "metadata": {
    "scrolled": true
   },
   "outputs": [],
   "source": [
    "plt.savefig('Weather_File/Latitude_vs_Temperature Plot')"
   ]
  },
  {
   "cell_type": "markdown",
   "metadata": {},
   "source": [
    "## Latitude vs. Humidity Plot"
   ]
  },
  {
   "cell_type": "code",
   "execution_count": 22,
   "metadata": {},
   "outputs": [
    {
     "data": {
      "image/png": "[encoded data removed]",
      "text/plain": [
       "<Figure size 432x288 with 1 Axes>"
      ]
     },
     "metadata": {
      "needs_background": "light"
     },
     "output_type": "display_data"
    }
   ],
   "source": [
    "plt.scatter(city_df[\"Latitude\"],city_df[\"Humidity\"],edgecolors=\"black\",facecolors=\"steelblue\")\n",
    "plt.title(f\"City Latitude vs. Humidity {today}\")\n",
    "plt.xlabel(\"Latitude\")\n",
    "plt.ylabel(\"Humidity (%)\")\n",
    "plt.grid (b=True,which=\"major\",axis=\"both\",linestyle=\"-\",color=\"lightgrey\")"
   ]
  },
  {
   "cell_type": "code",
   "execution_count": 23,
   "metadata": {},
   "outputs": [
    {
     "data": {
      "text/plain": [
       "<Figure size 432x288 with 0 Axes>"
      ]
     },
     "metadata": {},
     "output_type": "display_data"
    }
   ],
   "source": [
    "plt.savefig(\"Weather_File/Lat_vs_Humidity.png\")"
   ]
  },
  {
   "cell_type": "markdown",
   "metadata": {},
   "source": [
    "## Latitude vs. Cloudiness Plot"
   ]
  },
  {
   "cell_type": "code",
   "execution_count": 24,
   "metadata": {},
   "outputs": [
    {
     "data": {
      "image/png": "[encoded data removed]",
      "text/plain": [
       "<Figure size 432x288 with 1 Axes>"
      ]
     },
     "metadata": {
      "needs_background": "light"
     },
     "output_type": "display_data"
    }
   ],
   "source": [
    "\n",
    "plt.scatter(city_df[\"Latitude\"],city_df[\"Cloudiness\"],edgecolors=\"black\",facecolors=\"steelblue\")\n",
    "plt.title(f\"City Latitude vs. Cloudiness {today}\")\n",
    "plt.xlabel(\"Latitude\")\n",
    "plt.ylabel(\"Cloudiness (%)\")\n",
    "plt.grid (b=True,which=\"major\",axis=\"both\",linestyle=\"-\",color=\"lightgrey\")\n",
    "plt.savefig(\"Weather_File/LatvsCloudiness.png\")\n"
   ]
  },
  {
   "cell_type": "code",
   "execution_count": 25,
   "metadata": {},
   "outputs": [
    {
     "data": {
      "text/plain": [
       "<Figure size 432x288 with 0 Axes>"
      ]
     },
     "metadata": {},
     "output_type": "display_data"
    }
   ],
   "source": [
    "# Save the figure\n",
    "plt.savefig(\"Weather_File/LatitudeVsCloudiness.png\")"
   ]
  },
  {
   "cell_type": "markdown",
   "metadata": {},
   "source": [
    "## Latitude vs. Wind Speed Plot"
   ]
  },
  {
   "cell_type": "code",
   "execution_count": 26,
   "metadata": {},
   "outputs": [
    {
     "data": {
      "image/png": "[encoded data removed]",
      "text/plain": [
       "<Figure size 432x288 with 1 Axes>"
      ]
     },
     "metadata": {
      "needs_background": "light"
     },
     "output_type": "display_data"
    }
   ],
   "source": [
    "plt.scatter(city_df[\"Latitude\"],city_df[\"Wind Speed\"],edgecolors=\"black\",facecolors=\"steelblue\")\n",
    "plt.title(f\"City Latitude vs. Wind Speed {today}\")\n",
    "plt.xlabel(\"Latitude\")\n",
    "plt.ylabel(\"Wind Speed (mph)\")\n",
    "plt.grid (b=True,which=\"major\",axis=\"both\",linestyle=\"-\",color=\"lightgrey\")"
   ]
  },
  {
   "cell_type": "code",
   "execution_count": 27,
   "metadata": {},
   "outputs": [
    {
     "data": {
      "text/plain": [
       "<Figure size 432x288 with 0 Axes>"
      ]
     },
     "metadata": {},
     "output_type": "display_data"
    }
   ],
   "source": [
    "plt.savefig(\"Weather_File/LatvsWindSpeed.png\")"
   ]
  },
  {
   "cell_type": "markdown",
   "metadata": {},
   "source": [
    "## Linear Regression"
   ]
  },
  {
   "cell_type": "code",
   "execution_count": 28,
   "metadata": {},
   "outputs": [],
   "source": [
    "# OPTIONAL: Create a function to create Linear Regression plots"
   ]
  },
  {
   "cell_type": "code",
   "execution_count": null,
   "metadata": {},
   "outputs": [],
   "source": [
    "# Create Northern and Southern Hemisphere DataFrames"
   ]
  },
  {
   "cell_type": "markdown",
   "metadata": {},
   "source": [
    "####  Northern Hemisphere - Max Temp vs. Latitude Linear Regression"
   ]
  },
  {
   "cell_type": "code",
   "execution_count": null,
   "metadata": {},
   "outputs": [],
   "source": []
  },
  {
   "cell_type": "markdown",
   "metadata": {},
   "source": [
    "####  Southern Hemisphere - Max Temp vs. Latitude Linear Regression"
   ]
  },
  {
   "cell_type": "code",
   "execution_count": null,
   "metadata": {},
   "outputs": [],
   "source": []
  },
  {
   "cell_type": "markdown",
   "metadata": {},
   "source": [
    "####  Northern Hemisphere - Humidity (%) vs. Latitude Linear Regression"
   ]
  },
  {
   "cell_type": "code",
   "execution_count": null,
   "metadata": {},
   "outputs": [],
   "source": []
  },
  {
   "cell_type": "markdown",
   "metadata": {},
   "source": [
    "####  Southern Hemisphere - Humidity (%) vs. Latitude Linear Regression"
   ]
  },
  {
   "cell_type": "code",
   "execution_count": null,
   "metadata": {},
   "outputs": [],
   "source": []
  },
  {
   "cell_type": "markdown",
   "metadata": {},
   "source": [
    "####  Northern Hemisphere - Cloudiness (%) vs. Latitude Linear Regression"
   ]
  },
  {
   "cell_type": "code",
   "execution_count": null,
   "metadata": {},
   "outputs": [],
   "source": []
  },
  {
   "cell_type": "markdown",
   "metadata": {},
   "source": [
    "####  Southern Hemisphere - Cloudiness (%) vs. Latitude Linear Regression"
   ]
  },
  {
   "cell_type": "code",
   "execution_count": null,
   "metadata": {},
   "outputs": [],
   "source": []
  },
  {
   "cell_type": "markdown",
   "metadata": {},
   "source": [
    "####  Northern Hemisphere - Wind Speed (mph) vs. Latitude Linear Regression"
   ]
  },
  {
   "cell_type": "code",
   "execution_count": null,
   "metadata": {},
   "outputs": [],
   "source": []
  },
  {
   "cell_type": "markdown",
   "metadata": {},
   "source": [
    "####  Southern Hemisphere - Wind Speed (mph) vs. Latitude Linear Regression"
   ]
  },
  {
   "cell_type": "code",
   "execution_count": null,
   "metadata": {},
   "outputs": [],
   "source": []
  },
  {
   "cell_type": "code",
   "execution_count": null,
   "metadata": {},
   "outputs": [],
   "source": []
  }
 ],
 "metadata": {
  "anaconda-cloud": {},
  "kernel_info": {
   "name": "python3"
  },
  "kernelspec": {
   "display_name": "Python 3",
   "language": "python",
   "name": "python3"
  },
  "language_info": {
   "codemirror_mode": {
    "name": "ipython",
    "version": 3
   },
   "file_extension": ".py",
   "mimetype": "text/x-python",
   "name": "python",
   "nbconvert_exporter": "python",
   "pygments_lexer": "ipython3",
   "version": "3.7.6"
  },
  "latex_envs": {
   "LaTeX_envs_menu_present": true,
   "autoclose": false,
   "autocomplete": true,
   "bibliofile": "biblio.bib",
   "cite_by": "apalike",
   "current_citInitial": 1,
   "eqLabelWithNumbers": true,
   "eqNumInitial": 1,
   "hotkeys": {
    "equation": "Ctrl-E",
    "itemize": "Ctrl-I"
   },
   "labels_anchors": false,
   "latex_user_defs": false,
   "report_style_numbering": false,
   "user_envs_cfg": false
  },
  "nteract": {
   "version": "0.12.3"
  }
 },
 "nbformat": 4,
 "nbformat_minor": 4
}
