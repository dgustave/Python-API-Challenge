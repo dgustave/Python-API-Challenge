{
 "cells": [
  {
   "cell_type": "markdown",
   "metadata": {},
   "source": [
    "# WeatherPy\n",
    "----\n",
    "\n",
    "#### Note\n",
    "* Instructions have been included for each segment. You do not have to follow them exactly, but they are included to help you think through the steps."
   ]
  },
  {
   "cell_type": "code",
   "execution_count": 1,
   "metadata": {
    "scrolled": true
   },
   "outputs": [
    {
     "data": {
      "text/plain": [
       "'C:\\\\Users\\\\Donley\\\\Documents\\\\GA_TECH\\\\SUBMISSIONS\\\\PYTHON-API\\\\Python-API-Challenge\\\\Instructions\\\\starter_code'"
      ]
     },
     "execution_count": 1,
     "metadata": {},
     "output_type": "execute_result"
    }
   ],
   "source": [
    "pwd"
   ]
  },
  {
   "cell_type": "code",
   "execution_count": null,
   "metadata": {
    "scrolled": true
   },
   "outputs": [],
   "source": [
    "# Dependencies and Setup\n",
    "import matplotlib.pyplot as plt\n",
    "import pandas as pd\n",
    "import numpy as np\n",
    "import requests\n",
    "import time\n",
    "import concurrent.futures\n",
    "import datetime as dt\n",
    "from datetime import date, datetime, timezone\n",
    "from scipy.stats import linregress\n",
    "from sklearn.linear_model import LinearRegression\n",
    "\n",
    "\n",
    "# Import API key\n",
    "from api_keys import weather_api_key\n",
    "\n",
    "# Incorporated citipy to determine city based on latitude and longitude\n",
    "from citipy import citipy\n",
    "\n",
    "# Output File (CSV)\n",
    "output_data_file = \"Weather_File/weather_API_data.csv\"\n",
    "\n",
    "# Range of latitudes and longitudes\n",
    "lat_range = (-90, 90)\n",
    "lng_range = (-180, 180)"
   ]
  },
  {
   "cell_type": "markdown",
   "metadata": {},
   "source": [
    "## Generate Cities List"
   ]
  },
  {
   "cell_type": "code",
   "execution_count": null,
   "metadata": {},
   "outputs": [],
   "source": [
    "# List for holding lat_lngs and cities\n",
    "lat_lngs = []\n",
    "cities = []\n",
    "\n",
    "# Create a set of random lat and lng combinations\n",
    "lats = np.random.uniform(lat_range[0], lat_range[1], size=1500)\n",
    "lngs = np.random.uniform(lng_range[0], lng_range[1], size=1500)\n",
    "lat_lngs = zip(lats, lngs)\n",
    "\n",
    "# Identify nearest city for each lat, lng combination\n",
    "for lat_lng in lat_lngs:\n",
    "    city = citipy.nearest_city(lat_lng[0], lat_lng[1]).city_name\n",
    "    \n",
    "    # If the city is unique, then add it to a our cities list\n",
    "    if city not in cities:\n",
    "        cities.append(city)\n",
    "\n",
    "# Print the city count to confirm sufficient count\n",
    "len(cities)"
   ]
  },
  {
   "cell_type": "code",
   "execution_count": null,
   "metadata": {},
   "outputs": [],
   "source": [
    "# Will need fo(r date stamps on plots and the text files for documentation purposes\n",
    "today = (date.today()).strftime(\"%m/%d/%y\")\n",
    "print(\"Today's date:\", today)"
   ]
  },
  {
   "cell_type": "code",
   "execution_count": null,
   "metadata": {},
   "outputs": [],
   "source": [
    "# For total amount of queries listed on data set. \n",
    "equivalent = len(cities)"
   ]
  },
  {
   "cell_type": "markdown",
   "metadata": {},
   "source": [
    "### Perform API Calls\n",
    "* Perform a weather check on each city using a series of successive API calls.\n",
    "* Include a print log of each city as it'sbeing processed (with the city number and city name).\n"
   ]
  },
  {
   "cell_type": "code",
   "execution_count": 126,
   "metadata": {},
   "outputs": [
    {
     "data": {
      "text/plain": [
       "'http://api.openweathermap.org/data/2.5/weather?appid=48cd2f4c6e1cc4ac15520e0f752a9eb5&units=imperial&q=kaitangata'"
      ]
     },
     "execution_count": 126,
     "metadata": {},
     "output_type": "execute_result"
    }
   ],
   "source": [
    "#  URL\n",
    "url=\"http://api.openweathermap.org/data/2.5/weather?\"\n",
    "\n",
    "# Will look like http://api.openweathermap.org/data/2.5/weather?appid={your api key}&units=imperial&q={city name}\n",
    "weather_url=url+\"appid=\"+ weather_api_key+\"&units=imperial\"+\"&q=\"+ city #+city\n",
    "weather_url"
   ]
  },
  {
   "cell_type": "code",
   "execution_count": 118,
   "metadata": {},
   "outputs": [],
   "source": [
    "# Make log for cities with ID as text\n",
    "printlog = open('Weather_File/weather_data_log.txt', 'w')"
   ]
  },
  {
   "cell_type": "code",
   "execution_count": 119,
   "metadata": {},
   "outputs": [],
   "source": [
    "# # Check for unambigous data recommended by Weather Map API and display json format\n",
    "# city_id = input(\"id: \") # for various id's for unambigous data\n",
    "\n",
    "# # Look's like api.openweathermap.org/data/2.5/weather?id={city id}&appid={your api key}\n",
    "# id_url= url + \"id=\" + city_id + \"&appid=\"+ weather_api_key\n",
    "\n",
    "# json_data = requests.get(id_url).json()\n",
    "# json_data"
   ]
  },
  {
   "cell_type": "code",
   "execution_count": 120,
   "metadata": {},
   "outputs": [],
   "source": [
    "# # Save for later use when restarting kernels\n",
    "# wid = int(json_data[\"id\"])\n",
    "# wid"
   ]
  },
  {
   "cell_type": "code",
   "execution_count": 128,
   "metadata": {},
   "outputs": [],
   "source": [
    "#create row counter and lists\n",
    "# counter=0\n",
    "# set_num=1\n",
    "cid = 0\n",
    "weather_list=[]\n",
    "\n",
    "# # city_ids = [] \n",
    "# clouds = []\n",
    "# country = []\n",
    "# wdate = []\n",
    "# humidity = []\n",
    "# latitude = []\n",
    "# longitude = []\n",
    "# max_temp = []\n",
    "# wind_speed = []\n",
    "# city_list=[]"
   ]
  },
  {
   "cell_type": "code",
   "execution_count": 129,
   "metadata": {},
   "outputs": [
    {
     "ename": "SyntaxError",
     "evalue": "invalid syntax (<ipython-input-129-3ac6a268c131>, line 29)",
     "output_type": "error",
     "traceback": [
      "\u001b[1;36m  File \u001b[1;32m\"<ipython-input-129-3ac6a268c131>\"\u001b[1;36m, line \u001b[1;32m29\u001b[0m\n\u001b[1;33m    printlog.write(f\"Currently Processing record number {counter} of Set {set_num} | {city} with City ID: {cid})\" #| the query URL: {weather_url}\\n\")\u001b[0m\n\u001b[1;37m           ^\u001b[0m\n\u001b[1;31mSyntaxError\u001b[0m\u001b[1;31m:\u001b[0m invalid syntax\n"
     ]
    }
   ],
   "source": [
    "print(f\"Start Data Retrieval on {today} estimated to be {equivalent} inquiries.\")\n",
    "printlog.write(f\"Start Data Retrieval on {today} estimated to be {equivalent} inquiries.\")\n",
    "print('-'*50 + \"\\n\")\n",
    "\n",
    "def pull_data_(weather_url):\n",
    "    response = (requests.get(weather_url)).json()\n",
    "    # Pull 3 Query urls in a list split by comma's\n",
    "    weather_list = response.split(',')[3]\n",
    "    # Conditional for city counted by 50 equals 1 set\n",
    "    # update record number and set number / note: easier to add to match to length of cities\n",
    "    if counter>=50: \n",
    "        counter=1\n",
    "        set_num+=1\n",
    "        \n",
    "    else:\n",
    "        counter+=1\n",
    "        try: \n",
    "            cid = int(response['id'])\n",
    "            weather_list.append({\"City\":response[\"name\"],\n",
    "                             \"Country\":response['sys']['country'],\n",
    "                             \"Latitude\":response['coord']['lat'],\n",
    "                             \"Longitude\":response['coord']['lon'],\n",
    "                             \"Date\":response['dt'],\n",
    "                             \"Cloudiness\":response['clouds']['all'],\n",
    "                             \"Humidity\":response['main']['humidity'],\n",
    "                             \"Max Tempature\":response['main']['temp_max'],\n",
    "                             \"Wind Speed\":response['wind']['speed']}\n",
    "                     \n",
    "        printlog.write(f\"Currently Processing record number {counter} of Set {set_num} | {city} with City ID: {cid})\" #| the query URL: {weather_url}\\n\") \n",
    "        # Use variables to prevent list from being printed, group by 50, also see url changes!   \n",
    "        print(f\"Currently Processing record number {counter} of Set {set_num} | {city} with City ID: {cid}\") #| the query URL: {weather_url}\\n\")\n",
    "       \n",
    "    except:\n",
    "        print(f\"City not found. Skipping... \\n\")\n",
    "        \n",
    "        # Want to see documentation of all cities with ID not in the weather map API.\n",
    "        printlog.write(f\"City not found. Skipping... \\n\")\n",
    "        \n",
    "    return '-'*50 + '\\n' f\"Process complete ... with \\n\")                \n",
    "    \n",
    "# \"\"\"process the city in a specified number of weather threads by split() amount\" \n",
    "with concurrent.futures.ThreadPoolExecutor() as executor:\n",
    "    executor.map(pull_data, weather_url)\n",
    "    \n",
    "        \n",
    "    "
   ]
  },
  {
   "cell_type": "code",
   "execution_count": 10,
   "metadata": {},
   "outputs": [
    {
     "name": "stdout",
     "output_type": "stream",
     "text": [
      "Start Data Retrieval on 08/09/20 estimated to be 609\n",
      "----------------------------------------\n",
      "\n",
      "Currently Processing record number 1 of Set 1 | rikitea with City ID: 4030556\n",
      "Currently Processing record number 2 of Set 1 | saint-francois with City ID: 2980080\n",
      "Currently Processing record number 3 of Set 1 | vaini with City ID: 4032243\n",
      "Currently Processing record number 4 of Set 1 | harper with City ID: 2276492\n",
      "Currently Processing record number 5 of Set 1 | teguldet with City ID: 1489822\n",
      "Currently Processing record number 6 of Set 1 | tuktoyaktuk with City ID: 6170031\n",
      "Currently Processing record number 7 of Set 1 | albany with City ID: 5106841\n",
      "City not found. Skipping... \n",
      "\n",
      "Currently Processing record number 9 of Set 1 | micheweni with City ID: 153955\n",
      "Currently Processing record number 10 of Set 1 | hermanus with City ID: 3366880\n",
      "Currently Processing record number 11 of Set 1 | svetlaya with City ID: 2015852\n",
      "Currently Processing record number 12 of Set 1 | flin flon with City ID: 5954718\n",
      "City not found. Skipping... \n",
      "\n",
      "Currently Processing record number 14 of Set 1 | dikson with City ID: 1507390\n",
      "Currently Processing record number 15 of Set 1 | cape town with City ID: 3369157\n",
      "Currently Processing record number 16 of Set 1 | rock sound with City ID: 3571592\n",
      "Currently Processing record number 17 of Set 1 | hambantota with City ID: 1244926\n",
      "Currently Processing record number 18 of Set 1 | bredasdorp with City ID: 1015776\n",
      "Currently Processing record number 19 of Set 1 | tam ky with City ID: 1567148\n",
      "Currently Processing record number 20 of Set 1 | ushuaia with City ID: 3833367\n",
      "Currently Processing record number 21 of Set 1 | east london with City ID: 1006984\n",
      "Currently Processing record number 22 of Set 1 | lisakovsk with City ID: 1521315\n",
      "City not found. Skipping... \n",
      "\n",
      "Currently Processing record number 24 of Set 1 | jamestown with City ID: 5122534\n",
      "Currently Processing record number 25 of Set 1 | gambela with City ID: 337405\n",
      "Currently Processing record number 26 of Set 1 | hobart with City ID: 2163355\n",
      "Currently Processing record number 27 of Set 1 | nome with City ID: 5870133\n",
      "Currently Processing record number 28 of Set 1 | pevek with City ID: 2122090\n",
      "City not found. Skipping... \n",
      "\n",
      "Currently Processing record number 30 of Set 1 | kahului with City ID: 5847411\n",
      "Currently Processing record number 31 of Set 1 | banda aceh with City ID: 1215502\n",
      "City not found. Skipping... \n",
      "\n",
      "Currently Processing record number 33 of Set 1 | punta arenas with City ID: 3874787\n",
      "Currently Processing record number 34 of Set 1 | hobyo with City ID: 57000\n",
      "Currently Processing record number 35 of Set 1 | vestmannaeyjar with City ID: 3412093\n",
      "Currently Processing record number 36 of Set 1 | omboue with City ID: 2396853\n",
      "Currently Processing record number 37 of Set 1 | chekhov with City ID: 569591\n",
      "Currently Processing record number 38 of Set 1 | port alfred with City ID: 964432\n",
      "Currently Processing record number 39 of Set 1 | haines junction with City ID: 5969025\n",
      "Currently Processing record number 40 of Set 1 | pochutla with City ID: 3517970\n",
      "Currently Processing record number 41 of Set 1 | lorengau with City ID: 2092164\n",
      "Currently Processing record number 42 of Set 1 | hasaki with City ID: 2112802\n",
      "Currently Processing record number 43 of Set 1 | luderitz with City ID: 3355672\n",
      "Currently Processing record number 44 of Set 1 | kiunga with City ID: 2093846\n",
      "City not found. Skipping... \n",
      "\n",
      "Currently Processing record number 46 of Set 1 | batagay-alyta with City ID: 2027042\n",
      "Currently Processing record number 47 of Set 1 | sao filipe with City ID: 3374210\n",
      "Currently Processing record number 48 of Set 1 | petropavlovsk-kamchatskiy with City ID: 2122104\n",
      "Currently Processing record number 49 of Set 1 | hithadhoo with City ID: 1282256\n",
      "Currently Processing record number 50 of Set 1 | karatsu with City ID: 1860063\n",
      "Currently Processing record number 1 of Set 2 | akureyri with City ID: 2633274\n",
      "Currently Processing record number 2 of Set 2 | victoria with City ID: 1819729\n",
      "Currently Processing record number 3 of Set 2 | longavi with City ID: 3882559\n",
      "Currently Processing record number 4 of Set 2 | novyy urengoy with City ID: 1496511\n",
      "Currently Processing record number 5 of Set 2 | ribeira grande with City ID: 3372707\n",
      "Currently Processing record number 6 of Set 2 | chapais with City ID: 5919850\n",
      "Currently Processing record number 7 of Set 2 | smithers with City ID: 6149996\n",
      "Currently Processing record number 8 of Set 2 | ha giang with City ID: 1581349\n",
      "City not found. Skipping... \n",
      "\n",
      "Currently Processing record number 10 of Set 2 | takoradi with City ID: 2294915\n",
      "Currently Processing record number 11 of Set 2 | yulara with City ID: 6355222\n",
      "Currently Processing record number 12 of Set 2 | saint-philippe with City ID: 935215\n",
      "Currently Processing record number 13 of Set 2 | longyearbyen with City ID: 2729907\n",
      "Currently Processing record number 14 of Set 2 | barrow with City ID: 5880054\n",
      "Currently Processing record number 15 of Set 2 | cabo san lucas with City ID: 3985710\n",
      "Currently Processing record number 16 of Set 2 | klaksvik with City ID: 2618795\n",
      "Currently Processing record number 17 of Set 2 | yei with City ID: 363619\n",
      "Currently Processing record number 18 of Set 2 | mataura with City ID: 6201424\n",
      "Currently Processing record number 19 of Set 2 | prainha with City ID: 3391287\n",
      "Currently Processing record number 20 of Set 2 | ust-maya with City ID: 2013918\n",
      "Currently Processing record number 21 of Set 2 | erzin with City ID: 296852\n",
      "Currently Processing record number 22 of Set 2 | khatanga with City ID: 2022572\n",
      "Currently Processing record number 23 of Set 2 | tiksi with City ID: 2015306\n",
      "Currently Processing record number 24 of Set 2 | kapaa with City ID: 5848280\n",
      "Currently Processing record number 25 of Set 2 | waitati with City ID: 2179825\n",
      "Currently Processing record number 26 of Set 2 | arraial do cabo with City ID: 3471451\n",
      "Currently Processing record number 27 of Set 2 | alice springs with City ID: 2077895\n",
      "Currently Processing record number 28 of Set 2 | oussouye with City ID: 2246901\n",
      "Currently Processing record number 29 of Set 2 | qaanaaq with City ID: 3831208\n",
      "Currently Processing record number 30 of Set 2 | severo-kurilsk with City ID: 2121385\n",
      "Currently Processing record number 31 of Set 2 | caucaia with City ID: 3402429\n",
      "Currently Processing record number 32 of Set 2 | airai with City ID: 1651810\n",
      "Currently Processing record number 33 of Set 2 | belaya gora with City ID: 2126785\n",
      "Currently Processing record number 34 of Set 2 | cayenne with City ID: 3382160\n",
      "Currently Processing record number 35 of Set 2 | brae with City ID: 2654970\n",
      "Currently Processing record number 36 of Set 2 | bykov with City ID: 2126359\n",
      "Currently Processing record number 37 of Set 2 | mbeya with City ID: 154380\n",
      "City not found. Skipping... \n",
      "\n",
      "Currently Processing record number 39 of Set 2 | guerrero negro with City ID: 4021858\n",
      "Currently Processing record number 40 of Set 2 | bat yam with City ID: 295548\n",
      "Currently Processing record number 41 of Set 2 | taiyuan with City ID: 1793511\n",
      "Currently Processing record number 42 of Set 2 | muswellbrook with City ID: 2156034\n",
      "Currently Processing record number 43 of Set 2 | filingue with City ID: 2444995\n",
      "Currently Processing record number 44 of Set 2 | busselton with City ID: 2075265\n",
      "Currently Processing record number 45 of Set 2 | ponta do sol with City ID: 2264557\n",
      "Currently Processing record number 46 of Set 2 | safford with City ID: 5312476\n",
      "Currently Processing record number 47 of Set 2 | vieux-habitants with City ID: 3578278\n",
      "Currently Processing record number 48 of Set 2 | broome with City ID: 5110365\n",
      "Currently Processing record number 49 of Set 2 | marzuq with City ID: 72181\n",
      "Currently Processing record number 50 of Set 2 | ust-tsilma with City ID: 477940\n",
      "Currently Processing record number 1 of Set 3 | zhigansk with City ID: 2012530\n",
      "Currently Processing record number 2 of Set 3 | taoudenni with City ID: 2450173\n",
      "Currently Processing record number 3 of Set 3 | lysyye gory with City ID: 532664\n",
      "Currently Processing record number 4 of Set 3 | gat with City ID: 293842\n",
      "Currently Processing record number 5 of Set 3 | pyapon with City ID: 1299237\n",
      "Currently Processing record number 6 of Set 3 | torbay with City ID: 6167817\n",
      "Currently Processing record number 7 of Set 3 | farah with City ID: 1142263\n",
      "Currently Processing record number 8 of Set 3 | xingtai with City ID: 1788927\n",
      "City not found. Skipping... \n",
      "\n",
      "Currently Processing record number 10 of Set 3 | saint anthony with City ID: 5044290\n",
      "City not found. Skipping... \n",
      "\n",
      "Currently Processing record number 12 of Set 3 | villarrica with City ID: 3436714\n",
      "City not found. Skipping... \n",
      "\n",
      "Currently Processing record number 14 of Set 3 | bubaque with City ID: 2374583\n",
      "Currently Processing record number 15 of Set 3 | chokurdakh with City ID: 2126123\n",
      "Currently Processing record number 16 of Set 3 | codrington with City ID: 2171099\n",
      "Currently Processing record number 17 of Set 3 | agadir with City ID: 2561668\n",
      "Currently Processing record number 18 of Set 3 | sinazongwe with City ID: 897456\n",
      "Currently Processing record number 19 of Set 3 | tarakan with City ID: 1624725\n",
      "City not found. Skipping... \n",
      "\n",
      "Currently Processing record number 21 of Set 3 | saint augustine with City ID: 4170894\n",
      "Currently Processing record number 22 of Set 3 | gore with City ID: 6201424\n",
      "Currently Processing record number 23 of Set 3 | witbank with City ID: 939270\n",
      "Currently Processing record number 24 of Set 3 | kaitangata with City ID: 2208248\n",
      "Currently Processing record number 25 of Set 3 | safaga with City ID: 358620\n",
      "Currently Processing record number 26 of Set 3 | leshukonskoye with City ID: 535839\n",
      "Currently Processing record number 27 of Set 3 | mackenzie with City ID: 6063191\n",
      "Currently Processing record number 28 of Set 3 | san lorenzo with City ID: 3437056\n",
      "Currently Processing record number 29 of Set 3 | kalmunai with City ID: 1242110\n",
      "Currently Processing record number 30 of Set 3 | port hardy with City ID: 6111862\n",
      "Currently Processing record number 31 of Set 3 | yellowknife with City ID: 6185377\n",
      "Currently Processing record number 32 of Set 3 | marawi with City ID: 1701054\n",
      "Currently Processing record number 33 of Set 3 | butaritari with City ID: 2110227\n",
      "Currently Processing record number 34 of Set 3 | general roca with City ID: 3855065\n",
      "Currently Processing record number 35 of Set 3 | kruisfontein with City ID: 986717\n",
      "Currently Processing record number 36 of Set 3 | barra with City ID: 3470821\n",
      "Currently Processing record number 37 of Set 3 | lima with City ID: 3936456\n",
      "Currently Processing record number 38 of Set 3 | vila franca do campo with City ID: 3372472\n",
      "Currently Processing record number 39 of Set 3 | srednekolymsk with City ID: 2121025\n",
      "Currently Processing record number 40 of Set 3 | tiznit with City ID: 2527087\n",
      "City not found. Skipping... \n",
      "\n",
      "Currently Processing record number 42 of Set 3 | bethel with City ID: 5282297\n",
      "City not found. Skipping... \n",
      "\n",
      "City not found. Skipping... \n",
      "\n",
      "Currently Processing record number 45 of Set 3 | groa with City ID: 3154972\n",
      "Currently Processing record number 46 of Set 3 | ginda with City ID: 1253628\n",
      "City not found. Skipping... \n",
      "\n",
      "Currently Processing record number 48 of Set 3 | barmer with City ID: 1276901\n",
      "Currently Processing record number 49 of Set 3 | castro with City ID: 3466704\n",
      "Currently Processing record number 50 of Set 3 | hirara with City ID: 1862505\n",
      "Currently Processing record number 1 of Set 4 | atamanovka with City ID: 2027373\n",
      "Currently Processing record number 2 of Set 4 | ca mau with City ID: 1586443\n",
      "Currently Processing record number 3 of Set 4 | lazaro cardenas with City ID: 4026082\n",
      "Currently Processing record number 4 of Set 4 | clyde river with City ID: 5924351\n",
      "Currently Processing record number 5 of Set 4 | bluff with City ID: 2206939\n",
      "Currently Processing record number 6 of Set 4 | mar del plata with City ID: 3430863\n",
      "Currently Processing record number 7 of Set 4 | winnemucca with City ID: 5710360\n",
      "Currently Processing record number 8 of Set 4 | svetlyy with City ID: 485660\n",
      "Currently Processing record number 9 of Set 4 | marsh harbour with City ID: 3571913\n",
      "Currently Processing record number 10 of Set 4 | upernavik with City ID: 3418910\n",
      "Currently Processing record number 11 of Set 4 | iqaluit with City ID: 5983720\n",
      "Currently Processing record number 12 of Set 4 | makakilo city with City ID: 5850554\n",
      "Currently Processing record number 13 of Set 4 | zmiyiv with City ID: 686928\n",
      "Currently Processing record number 14 of Set 4 | camacha with City ID: 2270385\n",
      "Currently Processing record number 15 of Set 4 | kulhudhuffushi with City ID: 1337613\n",
      "Currently Processing record number 16 of Set 4 | azua with City ID: 3512208\n",
      "Currently Processing record number 17 of Set 4 | arlit with City ID: 2447513\n",
      "Currently Processing record number 18 of Set 4 | leningradskiy with City ID: 2123814\n",
      "Currently Processing record number 19 of Set 4 | kodiak with City ID: 5866583\n",
      "Currently Processing record number 20 of Set 4 | hilo with City ID: 5855927\n",
      "Currently Processing record number 21 of Set 4 | praia da vitoria with City ID: 3372760\n",
      "Currently Processing record number 22 of Set 4 | astoria with City ID: 5711847\n",
      "Currently Processing record number 23 of Set 4 | ko samui with City ID: 1154689\n",
      "Currently Processing record number 24 of Set 4 | barcelos with City ID: 2742416\n",
      "Currently Processing record number 25 of Set 4 | cherskiy with City ID: 2126199\n",
      "Currently Processing record number 26 of Set 4 | bambous virieux with City ID: 1106677\n",
      "Currently Processing record number 27 of Set 4 | chuy with City ID: 3443061\n",
      "Currently Processing record number 28 of Set 4 | wanning with City ID: 1791779\n",
      "Currently Processing record number 29 of Set 4 | nacogdoches with City ID: 4713738\n",
      "Currently Processing record number 30 of Set 4 | muros with City ID: 3115824\n",
      "City not found. Skipping... \n",
      "\n",
      "Currently Processing record number 32 of Set 4 | new norfolk with City ID: 2155415\n",
      "Currently Processing record number 33 of Set 4 | tasiilaq with City ID: 3424607\n",
      "City not found. Skipping... \n",
      "\n",
      "Currently Processing record number 35 of Set 4 | atuona with City ID: 4020109\n",
      "Currently Processing record number 36 of Set 4 | ilulissat with City ID: 3423146\n",
      "Currently Processing record number 37 of Set 4 | abu samrah with City ID: 172515\n",
      "Currently Processing record number 38 of Set 4 | te anau with City ID: 2181625\n",
      "Currently Processing record number 39 of Set 4 | bengkulu with City ID: 1649150\n",
      "Currently Processing record number 40 of Set 4 | puerto ayora with City ID: 3652764\n",
      "Currently Processing record number 41 of Set 4 | port augusta with City ID: 2063056\n",
      "Currently Processing record number 42 of Set 4 | dali with City ID: 1814093\n",
      "Currently Processing record number 43 of Set 4 | sao miguel do araguaia with City ID: 3448455\n",
      "Currently Processing record number 44 of Set 4 | puerto del rosario with City ID: 2512186\n",
      "Currently Processing record number 45 of Set 4 | georgetown with City ID: 1735106\n",
      "Currently Processing record number 46 of Set 4 | shiyan with City ID: 1794903\n",
      "City not found. Skipping... \n",
      "\n",
      "Currently Processing record number 48 of Set 4 | siderno with City ID: 6540819\n",
      "City not found. Skipping... \n",
      "\n",
      "Currently Processing record number 50 of Set 4 | ust-nera with City ID: 2120048\n",
      "City not found. Skipping... \n",
      "\n",
      "Currently Processing record number 2 of Set 5 | gairo with City ID: 2524683\n",
      "Currently Processing record number 3 of Set 5 | tigil with City ID: 2120612\n",
      "City not found. Skipping... \n",
      "\n",
      "Currently Processing record number 5 of Set 5 | avarua with City ID: 4035715\n",
      "Currently Processing record number 6 of Set 5 | sur with City ID: 286245\n",
      "Currently Processing record number 7 of Set 5 | flinders with City ID: 6255012\n",
      "Currently Processing record number 8 of Set 5 | lakatoro with City ID: 2136697\n",
      "Currently Processing record number 9 of Set 5 | turbat with City ID: 1163054\n",
      "Currently Processing record number 10 of Set 5 | carnarvon with City ID: 2074865\n",
      "Currently Processing record number 11 of Set 5 | fortuna with City ID: 5563839\n",
      "Currently Processing record number 12 of Set 5 | hervey bay with City ID: 2146219\n",
      "Currently Processing record number 13 of Set 5 | lata with City ID: 2738381\n",
      "Currently Processing record number 14 of Set 5 | penzance with City ID: 2640377\n",
      "Currently Processing record number 15 of Set 5 | pangnirtung with City ID: 6096551\n",
      "Currently Processing record number 16 of Set 5 | port hedland with City ID: 2063042\n",
      "Currently Processing record number 17 of Set 5 | gisborne with City ID: 2206854\n",
      "City not found. Skipping... \n",
      "\n",
      "Currently Processing record number 19 of Set 5 | avera with City ID: 4231997\n",
      "Currently Processing record number 20 of Set 5 | karachi with City ID: 1174872\n",
      "Currently Processing record number 21 of Set 5 | mount gambier with City ID: 2156643\n",
      "Currently Processing record number 22 of Set 5 | isangel with City ID: 2136825\n",
      "Currently Processing record number 23 of Set 5 | ambilobe with City ID: 1082243\n",
      "Currently Processing record number 24 of Set 5 | hofn with City ID: 2630299\n",
      "Currently Processing record number 25 of Set 5 | lavrentiya with City ID: 4031637\n",
      "Currently Processing record number 26 of Set 5 | ngunguru with City ID: 2186111\n",
      "Currently Processing record number 27 of Set 5 | russell with City ID: 4047434\n",
      "Currently Processing record number 28 of Set 5 | chicholi with City ID: 1274265\n",
      "Currently Processing record number 29 of Set 5 | komsomolskiy with City ID: 1513491\n",
      "Currently Processing record number 30 of Set 5 | berlevag with City ID: 780687\n",
      "Currently Processing record number 31 of Set 5 | mahebourg with City ID: 934322\n",
      "Currently Processing record number 32 of Set 5 | cidreira with City ID: 3466165\n",
      "Currently Processing record number 33 of Set 5 | saskylakh with City ID: 2017155\n",
      "Currently Processing record number 34 of Set 5 | santiago de cao with City ID: 3692073\n",
      "Currently Processing record number 35 of Set 5 | alta floresta with City ID: 6316343\n",
      "Currently Processing record number 36 of Set 5 | grindavik with City ID: 3416888\n",
      "Currently Processing record number 37 of Set 5 | zhanaozen with City ID: 607610\n",
      "Currently Processing record number 38 of Set 5 | port elizabeth with City ID: 964420\n",
      "Currently Processing record number 39 of Set 5 | sorong with City ID: 1626542\n",
      "Currently Processing record number 40 of Set 5 | okhotsk with City ID: 2122605\n",
      "Currently Processing record number 41 of Set 5 | ruston with City ID: 4339348\n",
      "Currently Processing record number 42 of Set 5 | maniitsoq with City ID: 3421982\n",
      "Currently Processing record number 43 of Set 5 | stromness with City ID: 2636638\n",
      "Currently Processing record number 44 of Set 5 | ostrovnoy with City ID: 556268\n",
      "Currently Processing record number 45 of Set 5 | laguna with City ID: 5364271\n",
      "Currently Processing record number 46 of Set 5 | kenai with City ID: 5866063\n",
      "City not found. Skipping... \n",
      "\n",
      "City not found. Skipping... \n",
      "\n",
      "Currently Processing record number 49 of Set 5 | santo antonio do ica with City ID: 3662395\n",
      "City not found. Skipping... \n",
      "\n",
      "Currently Processing record number 1 of Set 6 | naze with City ID: 1855540\n",
      "Currently Processing record number 2 of Set 6 | deputatskiy with City ID: 2028164\n",
      "Currently Processing record number 3 of Set 6 | storsteinnes with City ID: 3136023\n",
      "Currently Processing record number 4 of Set 6 | idar with City ID: 2896757\n",
      "Currently Processing record number 5 of Set 6 | leszno with City ID: 3093524\n",
      "Currently Processing record number 6 of Set 6 | rocha with City ID: 3440777\n",
      "Currently Processing record number 7 of Set 6 | byron bay with City ID: 2172880\n",
      "Currently Processing record number 8 of Set 6 | mafeteng with City ID: 932614\n",
      "Currently Processing record number 9 of Set 6 | mora with City ID: 2225991\n",
      "Currently Processing record number 10 of Set 6 | praya with City ID: 3374333\n",
      "Currently Processing record number 11 of Set 6 | kamenka with City ID: 553766\n",
      "Currently Processing record number 12 of Set 6 | fare with City ID: 4034496\n",
      "Currently Processing record number 13 of Set 6 | zhongxing with City ID: 1784253\n",
      "City not found. Skipping... \n",
      "\n",
      "Currently Processing record number 15 of Set 6 | beringovskiy with City ID: 2126710\n",
      "Currently Processing record number 16 of Set 6 | hokitika with City ID: 2206894\n",
      "Currently Processing record number 17 of Set 6 | bathsheba with City ID: 3374083\n",
      "Currently Processing record number 18 of Set 6 | clinton with City ID: 4989133\n",
      "Currently Processing record number 19 of Set 6 | saint george with City ID: 5546220\n",
      "Currently Processing record number 20 of Set 6 | henties bay with City ID: 3356832\n",
      "Currently Processing record number 21 of Set 6 | kuching with City ID: 1735634\n",
      "Currently Processing record number 22 of Set 6 | yinchuan with City ID: 1786657\n",
      "Currently Processing record number 23 of Set 6 | wajir with City ID: 178443\n",
      "Currently Processing record number 24 of Set 6 | buala with City ID: 2109528\n",
      "Currently Processing record number 25 of Set 6 | miquelon with City ID: 3424941\n",
      "Currently Processing record number 26 of Set 6 | thompson with City ID: 6165406\n",
      "Currently Processing record number 27 of Set 6 | opuwo with City ID: 3354077\n",
      "Currently Processing record number 28 of Set 6 | madrid with City ID: 3117735\n",
      "Currently Processing record number 29 of Set 6 | bacolod with City ID: 1729564\n",
      "Currently Processing record number 30 of Set 6 | caravelas with City ID: 3466980\n",
      "Currently Processing record number 31 of Set 6 | krasnoselkup with City ID: 1502073\n",
      "Currently Processing record number 32 of Set 6 | smoky lake with City ID: 6150293\n",
      "Currently Processing record number 33 of Set 6 | cap malheureux with City ID: 934649\n",
      "Currently Processing record number 34 of Set 6 | san quintin with City ID: 3984997\n",
      "Currently Processing record number 35 of Set 6 | kibala with City ID: 2425791\n",
      "Currently Processing record number 36 of Set 6 | roald with City ID: 3141667\n",
      "Currently Processing record number 37 of Set 6 | tecolutla with City ID: 3516148\n",
      "Currently Processing record number 38 of Set 6 | batemans bay with City ID: 2176639\n",
      "Currently Processing record number 39 of Set 6 | meulaboh with City ID: 1214488\n",
      "Currently Processing record number 40 of Set 6 | palmer with City ID: 4946620\n",
      "Currently Processing record number 41 of Set 6 | alofi with City ID: 4036284\n",
      "Currently Processing record number 42 of Set 6 | faanui with City ID: 4034551\n",
      "Currently Processing record number 43 of Set 6 | la ronge with City ID: 6050066\n",
      "Currently Processing record number 44 of Set 6 | aljezur with City ID: 2271968\n",
      "Currently Processing record number 45 of Set 6 | port lincoln with City ID: 2063036\n",
      "Currently Processing record number 46 of Set 6 | chilca with City ID: 3943957\n",
      "Currently Processing record number 47 of Set 6 | matagami with City ID: 6067747\n",
      "Currently Processing record number 48 of Set 6 | trabzon with City ID: 738647\n",
      "Currently Processing record number 49 of Set 6 | bathurst with City ID: 2176632\n",
      "Currently Processing record number 50 of Set 6 | buchanan with City ID: 2278158\n",
      "Currently Processing record number 1 of Set 7 | fairbanks with City ID: 5861897\n",
      "Currently Processing record number 2 of Set 7 | lukulu with City ID: 909488\n",
      "Currently Processing record number 3 of Set 7 | sitka with City ID: 5557293\n",
      "Currently Processing record number 4 of Set 7 | bouca with City ID: 2387890\n",
      "Currently Processing record number 5 of Set 7 | sibu with City ID: 1735902\n",
      "Currently Processing record number 6 of Set 7 | olinda with City ID: 3393536\n",
      "Currently Processing record number 7 of Set 7 | geraldton with City ID: 2070998\n",
      "Currently Processing record number 8 of Set 7 | jalu with City ID: 86049\n",
      "Currently Processing record number 9 of Set 7 | thyboron with City ID: 2611738\n",
      "Currently Processing record number 10 of Set 7 | yerbogachen with City ID: 2012956\n",
      "Currently Processing record number 11 of Set 7 | san pablo with City ID: 1688830\n",
      "City not found. Skipping... \n",
      "\n",
      "Currently Processing record number 13 of Set 7 | baghdad with City ID: 98182\n",
      "Currently Processing record number 14 of Set 7 | maceio with City ID: 3395981\n",
      "Currently Processing record number 15 of Set 7 | fredericton with City ID: 5957776\n",
      "Currently Processing record number 16 of Set 7 | nikolskoye with City ID: 546105\n",
      "Currently Processing record number 17 of Set 7 | saint-joseph with City ID: 6690296\n",
      "Currently Processing record number 18 of Set 7 | beidao with City ID: 1816751\n",
      "Currently Processing record number 19 of Set 7 | sao raimundo nonato with City ID: 3388145\n",
      "Currently Processing record number 20 of Set 7 | nioro with City ID: 2412408\n",
      "Currently Processing record number 21 of Set 7 | ixtapa with City ID: 4004293\n",
      "Currently Processing record number 22 of Set 7 | nanakuli with City ID: 5851349\n",
      "Currently Processing record number 23 of Set 7 | putai with City ID: 3010153\n",
      "Currently Processing record number 24 of Set 7 | salalah with City ID: 286621\n",
      "Currently Processing record number 25 of Set 7 | calbuco with City ID: 3897334\n",
      "Currently Processing record number 26 of Set 7 | waddan with City ID: 2209055\n",
      "Currently Processing record number 27 of Set 7 | wasilla with City ID: 5877641\n",
      "Currently Processing record number 28 of Set 7 | rosetta with City ID: 350203\n",
      "Currently Processing record number 29 of Set 7 | aykhal with City ID: 2027296\n",
      "City not found. Skipping... \n",
      "\n",
      "Currently Processing record number 31 of Set 7 | santiago with City ID: 3871336\n",
      "Currently Processing record number 32 of Set 7 | puerto escondido with City ID: 3520994\n",
      "Currently Processing record number 33 of Set 7 | salinas with City ID: 5391295\n",
      "Currently Processing record number 34 of Set 7 | dosso with City ID: 2445488\n",
      "Currently Processing record number 35 of Set 7 | surt with City ID: 2210554\n",
      "Currently Processing record number 36 of Set 7 | tiassale with City ID: 2280761\n",
      "Currently Processing record number 37 of Set 7 | tocopilla with City ID: 3869716\n",
      "Currently Processing record number 38 of Set 7 | chernyshevskiy with City ID: 2025456\n",
      "Currently Processing record number 39 of Set 7 | sorland with City ID: 3137469\n",
      "Currently Processing record number 40 of Set 7 | porto novo with City ID: 2392087\n",
      "Currently Processing record number 41 of Set 7 | ouadda with City ID: 236901\n",
      "City not found. Skipping... \n",
      "\n",
      "Currently Processing record number 43 of Set 7 | savignano sul rubicone with City ID: 3167030\n",
      "Currently Processing record number 44 of Set 7 | inuvik with City ID: 5983607\n",
      "Currently Processing record number 45 of Set 7 | westport with City ID: 4845585\n",
      "Currently Processing record number 46 of Set 7 | olavarria with City ID: 3842670\n",
      "Currently Processing record number 47 of Set 7 | port-gentil with City ID: 2396518\n",
      "Currently Processing record number 48 of Set 7 | ancud with City ID: 3899695\n",
      "Currently Processing record number 49 of Set 7 | katherine with City ID: 2068655\n",
      "Currently Processing record number 50 of Set 7 | ishinomaki with City ID: 2112576\n",
      "Currently Processing record number 1 of Set 8 | levelland with City ID: 5525042\n",
      "Currently Processing record number 2 of Set 8 | vostok with City ID: 2013279\n",
      "Currently Processing record number 3 of Set 8 | koosa with City ID: 591703\n",
      "Currently Processing record number 4 of Set 8 | syracuse with City ID: 2523082\n",
      "Currently Processing record number 5 of Set 8 | rio gallegos with City ID: 3838859\n",
      "Currently Processing record number 6 of Set 8 | vestmanna with City ID: 2610343\n",
      "Currently Processing record number 7 of Set 8 | garowe with City ID: 58933\n",
      "Currently Processing record number 8 of Set 8 | lompoc with City ID: 5367788\n",
      "Currently Processing record number 9 of Set 8 | somerset east with City ID: 954161\n",
      "Currently Processing record number 10 of Set 8 | diamantino with City ID: 3464724\n",
      "Currently Processing record number 11 of Set 8 | baracoa with City ID: 3567834\n",
      "Currently Processing record number 12 of Set 8 | khuzdar with City ID: 7082481\n",
      "Currently Processing record number 13 of Set 8 | princeton with City ID: 4169345\n",
      "Currently Processing record number 14 of Set 8 | fort smith with City ID: 4111410\n",
      "Currently Processing record number 15 of Set 8 | bansko with City ID: 733462\n",
      "Currently Processing record number 16 of Set 8 | sena madureira with City ID: 3662155\n",
      "Currently Processing record number 17 of Set 8 | khakhea with City ID: 933649\n",
      "Currently Processing record number 18 of Set 8 | lebu with City ID: 3883457\n",
      "Currently Processing record number 19 of Set 8 | ahipara with City ID: 2194098\n",
      "Currently Processing record number 20 of Set 8 | rottenmann with City ID: 2767034\n",
      "Currently Processing record number 21 of Set 8 | abha with City ID: 110690\n",
      "Currently Processing record number 22 of Set 8 | sawtell with City ID: 2150163\n",
      "Currently Processing record number 23 of Set 8 | port blair with City ID: 1259385\n",
      "Currently Processing record number 24 of Set 8 | tanout with City ID: 2439155\n",
      "Currently Processing record number 25 of Set 8 | talnakh with City ID: 1490256\n",
      "Currently Processing record number 26 of Set 8 | abu dhabi with City ID: 292968\n",
      "Currently Processing record number 27 of Set 8 | galle with City ID: 1246294\n",
      "Currently Processing record number 28 of Set 8 | rudbar with City ID: 1128239\n",
      "Currently Processing record number 29 of Set 8 | conway with City ID: 4106458\n",
      "Currently Processing record number 30 of Set 8 | quthing with City ID: 932183\n",
      "Currently Processing record number 31 of Set 8 | uruzgan with City ID: 1131461\n",
      "Currently Processing record number 32 of Set 8 | metro with City ID: 1635283\n",
      "Currently Processing record number 33 of Set 8 | dossor with City ID: 610023\n",
      "Currently Processing record number 34 of Set 8 | imbituba with City ID: 3461370\n",
      "Currently Processing record number 35 of Set 8 | erenhot with City ID: 2037485\n",
      "Currently Processing record number 36 of Set 8 | ambulu with City ID: 1621313\n",
      "Currently Processing record number 37 of Set 8 | kidal with City ID: 2455290\n",
      "Currently Processing record number 38 of Set 8 | sao joao da barra with City ID: 3448903\n",
      "Currently Processing record number 39 of Set 8 | vawkavysk with City ID: 620391\n",
      "Currently Processing record number 40 of Set 8 | mango with City ID: 4163318\n",
      "Currently Processing record number 41 of Set 8 | khuzhir with City ID: 2022143\n",
      "Currently Processing record number 42 of Set 8 | panguipulli with City ID: 3877348\n",
      "Currently Processing record number 43 of Set 8 | pouebo with City ID: 2138607\n",
      "Currently Processing record number 44 of Set 8 | norman wells with City ID: 6089245\n",
      "Currently Processing record number 45 of Set 8 | provideniya with City ID: 4031574\n",
      "Currently Processing record number 46 of Set 8 | ushtobe with City ID: 1517637\n",
      "Currently Processing record number 47 of Set 8 | eureka with City ID: 5563397\n",
      "Currently Processing record number 48 of Set 8 | fukue with City ID: 1863997\n",
      "Currently Processing record number 49 of Set 8 | katsuura with City ID: 2112309\n",
      "City not found. Skipping... \n",
      "\n",
      "Currently Processing record number 1 of Set 9 | kaspiyskiy with City ID: 551846\n",
      "Currently Processing record number 2 of Set 9 | orje with City ID: 3143427\n",
      "Currently Processing record number 3 of Set 9 | novoagansk with City ID: 1497210\n",
      "Currently Processing record number 4 of Set 9 | esmeraldas with City ID: 3464008\n",
      "Currently Processing record number 5 of Set 9 | madang with City ID: 2091996\n",
      "Currently Processing record number 6 of Set 9 | pleasanton with City ID: 5383777\n",
      "Currently Processing record number 7 of Set 9 | soyo with City ID: 2236967\n",
      "Currently Processing record number 8 of Set 9 | pampa with City ID: 5527953\n",
      "Currently Processing record number 9 of Set 9 | umm kaddadah with City ID: 364933\n",
      "Currently Processing record number 10 of Set 9 | antalaha with City ID: 1071296\n",
      "Currently Processing record number 11 of Set 9 | urdoma with City ID: 478769\n",
      "Currently Processing record number 12 of Set 9 | kijang with City ID: 1842966\n",
      "City not found. Skipping... \n",
      "\n",
      "Currently Processing record number 14 of Set 9 | finschhafen with City ID: 2097418\n",
      "Currently Processing record number 15 of Set 9 | nabire with City ID: 1634614\n",
      "Currently Processing record number 16 of Set 9 | tipitapa with City ID: 3616035\n",
      "Currently Processing record number 17 of Set 9 | tecoanapa with City ID: 3516171\n",
      "Currently Processing record number 18 of Set 9 | aksu with City ID: 1529660\n",
      "Currently Processing record number 19 of Set 9 | hailar with City ID: 2037078\n",
      "Currently Processing record number 20 of Set 9 | constantine with City ID: 2501152\n",
      "Currently Processing record number 21 of Set 9 | goderich with City ID: 5962442\n",
      "City not found. Skipping... \n",
      "\n",
      "Currently Processing record number 23 of Set 9 | isfana with City ID: 1222662\n",
      "City not found. Skipping... \n",
      "\n",
      "Currently Processing record number 25 of Set 9 | frontera with City ID: 3980180\n",
      "Currently Processing record number 26 of Set 9 | roma with City ID: 5134295\n",
      "Currently Processing record number 27 of Set 9 | havelock with City ID: 4470244\n",
      "Currently Processing record number 28 of Set 9 | hidalgotitlan with City ID: 3527113\n",
      "City not found. Skipping... \n",
      "\n",
      "City not found. Skipping... \n",
      "\n",
      "Currently Processing record number 31 of Set 9 | novosokolniki with City ID: 517921\n",
      "Currently Processing record number 32 of Set 9 | gurupa with City ID: 3398480\n",
      "Currently Processing record number 33 of Set 9 | ossora with City ID: 2122389\n",
      "Currently Processing record number 34 of Set 9 | vung tau with City ID: 1562414\n",
      "Currently Processing record number 35 of Set 9 | gizo with City ID: 2108857\n",
      "Currently Processing record number 36 of Set 9 | humboldt with City ID: 5565500\n",
      "Currently Processing record number 37 of Set 9 | barra do corda with City ID: 3406318\n",
      "Currently Processing record number 38 of Set 9 | shenzhen with City ID: 1795565\n",
      "Currently Processing record number 39 of Set 9 | pendleton with City ID: 5745380\n",
      "Currently Processing record number 40 of Set 9 | smolensk with City ID: 491684\n",
      "Currently Processing record number 41 of Set 9 | aquiraz with City ID: 3407407\n",
      "Currently Processing record number 42 of Set 9 | chalchihuites with City ID: 4014603\n",
      "Currently Processing record number 43 of Set 9 | dutlwe with City ID: 933787\n",
      "Currently Processing record number 44 of Set 9 | nizwa with City ID: 286987\n",
      "Currently Processing record number 45 of Set 9 | kavieng with City ID: 2094342\n",
      "Currently Processing record number 46 of Set 9 | namatanai with City ID: 2090021\n",
      "Currently Processing record number 47 of Set 9 | esperance with City ID: 2071860\n",
      "Currently Processing record number 48 of Set 9 | teknaf with City ID: 1185095\n",
      "Currently Processing record number 49 of Set 9 | portland with City ID: 5746545\n",
      "Currently Processing record number 50 of Set 9 | pilar with City ID: 3392126\n",
      "Currently Processing record number 1 of Set 10 | mount isa with City ID: 2065594\n",
      "Currently Processing record number 2 of Set 10 | serra talhada with City ID: 3387786\n",
      "Currently Processing record number 3 of Set 10 | narasannapeta with City ID: 1261853\n",
      "Currently Processing record number 4 of Set 10 | dannenberg with City ID: 2938991\n",
      "Currently Processing record number 5 of Set 10 | hami with City ID: 1529484\n",
      "Currently Processing record number 6 of Set 10 | santa cruz with City ID: 3904906\n",
      "Currently Processing record number 7 of Set 10 | yelovo with City ID: 467711\n",
      "Currently Processing record number 8 of Set 10 | effingham with City ID: 4193042\n",
      "Currently Processing record number 9 of Set 10 | aklavik with City ID: 5882953\n",
      "Currently Processing record number 10 of Set 10 | ambon with City ID: 1651531\n",
      "Currently Processing record number 11 of Set 10 | anadyr with City ID: 2127202\n",
      "City not found. Skipping... \n",
      "\n",
      "Currently Processing record number 13 of Set 10 | krasnoarmeysk with City ID: 542464\n",
      "Currently Processing record number 14 of Set 10 | sinop with City ID: 739598\n",
      "City not found. Skipping... \n",
      "\n",
      "Currently Processing record number 16 of Set 10 | zharkent with City ID: 1520253\n",
      "Currently Processing record number 17 of Set 10 | constitucion with City ID: 3893726\n",
      "City not found. Skipping... \n",
      "\n",
      "Currently Processing record number 19 of Set 10 | kilindoni with City ID: 157429\n",
      "Currently Processing record number 20 of Set 10 | miramar with City ID: 4164601\n",
      "Currently Processing record number 21 of Set 10 | shenjiamen with City ID: 1795632\n",
      "Currently Processing record number 22 of Set 10 | sapa with City ID: 1687343\n",
      "Currently Processing record number 23 of Set 10 | najibabad with City ID: 1262109\n",
      "Currently Processing record number 24 of Set 10 | palmeirais with City ID: 3393240\n",
      "Currently Processing record number 25 of Set 10 | morros with City ID: 3394372\n",
      "Currently Processing record number 26 of Set 10 | coquimbo with City ID: 3893629\n",
      "Currently Processing record number 27 of Set 10 | labelle with City ID: 4161075\n",
      "Currently Processing record number 28 of Set 10 | gari with City ID: 1506676\n",
      "Currently Processing record number 29 of Set 10 | padang with City ID: 1633419\n",
      "Currently Processing record number 30 of Set 10 | honiara with City ID: 2108502\n",
      "Currently Processing record number 31 of Set 10 | martapura with City ID: 1636022\n",
      "Currently Processing record number 32 of Set 10 | san angelo with City ID: 5530022\n",
      "Currently Processing record number 33 of Set 10 | mananjary with City ID: 1061335\n",
      "City not found. Skipping... \n",
      "\n",
      "City not found. Skipping... \n",
      "\n",
      "Currently Processing record number 36 of Set 10 | narsaq with City ID: 3421719\n",
      "Currently Processing record number 37 of Set 10 | araripina with City ID: 3407243\n",
      "Currently Processing record number 38 of Set 10 | huamachuco with City ID: 3696509\n",
      "Currently Processing record number 39 of Set 10 | kieta with City ID: 2094027\n",
      "Currently Processing record number 40 of Set 10 | atessa with City ID: 3182700\n",
      "Currently Processing record number 41 of Set 10 | hamilton with City ID: 4513583\n",
      "Currently Processing record number 42 of Set 10 | paita with City ID: 3694112\n",
      "Currently Processing record number 43 of Set 10 | pisco with City ID: 3932145\n",
      "Currently Processing record number 44 of Set 10 | singaraja with City ID: 1626932\n",
      "Currently Processing record number 45 of Set 10 | nytva with City ID: 516576\n",
      "City not found. Skipping... \n",
      "\n",
      "Currently Processing record number 47 of Set 10 | birin with City ID: 1283334\n",
      "Currently Processing record number 48 of Set 10 | naantali with City ID: 645211\n",
      "Currently Processing record number 49 of Set 10 | bilma with City ID: 2446796\n",
      "Currently Processing record number 50 of Set 10 | manaus with City ID: 3663517\n",
      "Currently Processing record number 1 of Set 11 | solnechnyy with City ID: 2016307\n",
      "Currently Processing record number 2 of Set 11 | dortyol with City ID: 316284\n",
      "Currently Processing record number 3 of Set 11 | tabou with City ID: 2281120\n",
      "Currently Processing record number 4 of Set 11 | dongsheng with City ID: 1812256\n",
      "Currently Processing record number 5 of Set 11 | half moon bay with City ID: 5354943\n",
      "Currently Processing record number 6 of Set 11 | auki with City ID: 2109701\n",
      "Currently Processing record number 7 of Set 11 | bardiyah with City ID: 80509\n",
      "Currently Processing record number 8 of Set 11 | ketchikan with City ID: 5554428\n",
      "Currently Processing record number 9 of Set 11 | astana with City ID: 1526273\n",
      "Currently Processing record number 10 of Set 11 | praia with City ID: 3374333\n",
      "Currently Processing record number 11 of Set 11 | wagga wagga with City ID: 2145110\n",
      "Currently Processing record number 12 of Set 11 | ovsyanka with City ID: 1495797\n",
      "Currently Processing record number 13 of Set 11 | porbandar with City ID: 1259395\n",
      "Currently Processing record number 14 of Set 11 | ambovombe with City ID: 1079048\n",
      "Currently Processing record number 15 of Set 11 | buraydah with City ID: 107304\n",
      "Currently Processing record number 16 of Set 11 | totolapa with City ID: 3515200\n",
      "Currently Processing record number 17 of Set 11 | paracuru with City ID: 3393115\n",
      "Currently Processing record number 18 of Set 11 | cabedelo with City ID: 3404558\n",
      "City not found. Skipping... \n",
      "\n",
      "Currently Processing record number 20 of Set 11 | najran with City ID: 103630\n",
      "Currently Processing record number 21 of Set 11 | quatre cocos with City ID: 1106643\n",
      "City not found. Skipping... \n",
      "\n",
      "Currently Processing record number 23 of Set 11 | abu zabad with City ID: 380348\n",
      "Currently Processing record number 24 of Set 11 | nichinan with City ID: 1855476\n",
      "Currently Processing record number 25 of Set 11 | vila velha with City ID: 3445026\n",
      "Currently Processing record number 26 of Set 11 | walvis bay with City ID: 3359638\n",
      "Currently Processing record number 27 of Set 11 | coxim with City ID: 3465228\n",
      "Currently Processing record number 28 of Set 11 | asau with City ID: 686090\n",
      "Currently Processing record number 29 of Set 11 | sisimiut with City ID: 3419842\n",
      "Currently Processing record number 30 of Set 11 | coihaique with City ID: 3894426\n",
      "Currently Processing record number 31 of Set 11 | lamu with City ID: 189741\n",
      "Currently Processing record number 32 of Set 11 | pierre with City ID: 5767918\n",
      "Currently Processing record number 33 of Set 11 | san rafael with City ID: 3836669\n",
      "Currently Processing record number 34 of Set 11 | itarema with City ID: 3393692\n",
      "Currently Processing record number 35 of Set 11 | iquitos with City ID: 3696183\n",
      "Currently Processing record number 36 of Set 11 | la paz with City ID: 3911925\n",
      "Currently Processing record number 37 of Set 11 | suez with City ID: 359796\n",
      "Currently Processing record number 38 of Set 11 | ulaangom with City ID: 1515029\n",
      "Currently Processing record number 39 of Set 11 | mujiayingzi with City ID: 2035707\n",
      "Currently Processing record number 40 of Set 11 | bonthe with City ID: 2409914\n",
      "Currently Processing record number 41 of Set 11 | kanturk with City ID: 2963555\n",
      "Currently Processing record number 42 of Set 11 | kongwa with City ID: 156493\n",
      "Currently Processing record number 43 of Set 11 | rosarito with City ID: 3988392\n",
      "Currently Processing record number 44 of Set 11 | entre rios with City ID: 3464100\n",
      "Currently Processing record number 45 of Set 11 | dovers with City ID: 3577911\n",
      "Currently Processing record number 46 of Set 11 | talara with City ID: 3691582\n",
      "Currently Processing record number 47 of Set 11 | husavik with City ID: 2629833\n",
      "Currently Processing record number 48 of Set 11 | montepuez with City ID: 1037125\n",
      "Currently Processing record number 49 of Set 11 | karlskoga with City ID: 2701715\n",
      "Currently Processing record number 50 of Set 11 | maridi with City ID: 370457\n",
      "Currently Processing record number 1 of Set 12 | sigiriya with City ID: 1228051\n",
      "Currently Processing record number 2 of Set 12 | tabas with City ID: 113659\n",
      "Currently Processing record number 3 of Set 12 | monte alegre with City ID: 3394605\n",
      "Currently Processing record number 4 of Set 12 | coruripe with City ID: 3465329\n",
      "Currently Processing record number 5 of Set 12 | nemuro with City ID: 2128975\n",
      "Currently Processing record number 6 of Set 12 | balabac with City ID: 1728675\n",
      "Currently Processing record number 7 of Set 12 | pitimbu with City ID: 3391889\n",
      "Currently Processing record number 8 of Set 12 | bani walid with City ID: 2218840\n",
      "Currently Processing record number 9 of Set 12 | mackay with City ID: 2159220\n",
      "Currently Processing record number 10 of Set 12 | saldanha with City ID: 3361934\n",
      "Currently Processing record number 11 of Set 12 | yeniseysk with City ID: 1485997\n",
      "Currently Processing record number 12 of Set 12 | bafra with City ID: 751335\n",
      "Currently Processing record number 13 of Set 12 | samarai with City ID: 2132606\n",
      "Currently Processing record number 14 of Set 12 | pandan with City ID: 1695546\n",
      "Currently Processing record number 15 of Set 12 | robertsport with City ID: 2274275\n",
      "Currently Processing record number 16 of Set 12 | lagoa with City ID: 3372964\n",
      "Currently Processing record number 17 of Set 12 | beloha with City ID: 1067565\n",
      "Currently Processing record number 18 of Set 12 | caohe with City ID: 1816026\n",
      "Currently Processing record number 19 of Set 12 | dangriga with City ID: 3582228\n",
      "Currently Processing record number 20 of Set 12 | karatuzskoye with City ID: 1504442\n",
      "Currently Processing record number 21 of Set 12 | koson with City ID: 1217007\n",
      "Currently Processing record number 22 of Set 12 | russkaya polyana with City ID: 695104\n",
      "Currently Processing record number 23 of Set 12 | sibolga with City ID: 1213855\n",
      "Currently Processing record number 24 of Set 12 | lardos with City ID: 408689\n",
      "Currently Processing record number 25 of Set 12 | san cristobal with City ID: 3628473\n",
      "Currently Processing record number 26 of Set 12 | karaton with City ID: 1630058\n",
      "Currently Processing record number 27 of Set 12 | san andres with City ID: 3670218\n",
      "Currently Processing record number 28 of Set 12 | sanford with City ID: 4172086\n",
      "Currently Processing record number 29 of Set 12 | nishihara with City ID: 1855342\n",
      "Currently Processing record number 30 of Set 12 | mogadishu with City ID: 53654\n",
      "Currently Processing record number 31 of Set 12 | preili with City ID: 456530\n",
      "Currently Processing record number 32 of Set 12 | corsicana with City ID: 4683462\n",
      "Currently Processing record number 33 of Set 12 | college with City ID: 5859699\n",
      "Currently Processing record number 34 of Set 12 | wenshang with City ID: 1791428\n",
      "Currently Processing record number 35 of Set 12 | lianran with City ID: 1803886\n",
      "Currently Processing record number 36 of Set 12 | acapulco with City ID: 3533462\n",
      "Currently Processing record number 37 of Set 12 | kasongo-lunda with City ID: 2315026\n",
      "Currently Processing record number 38 of Set 12 | isiro with City ID: 215771\n",
      "Currently Processing record number 39 of Set 12 | pasni with City ID: 1168312\n",
      "Currently Processing record number 40 of Set 12 | borogontsy with City ID: 2026160\n",
      "Currently Processing record number 41 of Set 12 | voskresenskoye with City ID: 471607\n",
      "City not found. Skipping... \n",
      "\n",
      "Currently Processing record number 43 of Set 12 | jacmel with City ID: 3723779\n",
      "Currently Processing record number 44 of Set 12 | wuchi with City ID: 1808345\n",
      "Currently Processing record number 45 of Set 12 | teya with City ID: 1489656\n",
      "Currently Processing record number 46 of Set 12 | dehui with City ID: 2037712\n",
      "City not found. Skipping... \n",
      "\n",
      "Currently Processing record number 48 of Set 12 | vao with City ID: 2137773\n",
      "Currently Processing record number 49 of Set 12 | bilibino with City ID: 2126682\n",
      "Currently Processing record number 50 of Set 12 | khromtau with City ID: 609404\n",
      "Currently Processing record number 1 of Set 13 | preobrazheniye with City ID: 2017658\n",
      "Currently Processing record number 2 of Set 13 | bandarbeyla with City ID: 64814\n",
      "Currently Processing record number 3 of Set 13 | nyurba with City ID: 2018735\n",
      "Currently Processing record number 4 of Set 13 | lalab with City ID: 1707939\n",
      "Currently Processing record number 5 of Set 13 | koslan with City ID: 544084\n",
      "Currently Processing record number 6 of Set 13 | norrtalje with City ID: 2688250\n",
      "Currently Processing record number 7 of Set 13 | nordhausen with City ID: 2861982\n",
      "Currently Processing record number 8 of Set 13 | boden with City ID: 606531\n",
      "Currently Processing record number 9 of Set 13 | broken hill with City ID: 2173911\n",
      "----------------------------------------\n",
      "\n",
      "Process complete ... \n",
      "\n"
     ]
    }
   ],
   "source": [
    "print(f\"Start Data Retrieval on {today} estimated to be {equivalent} inquiries.\")\n",
    "printlog.write(f\"Start Data Retrieval on {today} estimated to be {equivalent} inquiries.\")\n",
    "print('-'*50 + \"\\n\")\n",
    "\n",
    "# call = query_url + city # create variable to update city in query!\n",
    "\n",
    "for city in cities:\n",
    "    # To append city Id's because it is an integer value\n",
    "    call = query_url + city # create variable to update city in query!\n",
    "    response = (requests.get(call)).json()\n",
    "\n",
    "#     # Want to make sure the data has enough time to properly be appended by 1 second\n",
    "#     time.sleep(1)\n",
    "    \n",
    "    # update record number and set number / note: easier to add to match to length of cities\n",
    "    if counter>=50: \n",
    "        counter=1\n",
    "        set_num+=1\n",
    "        \n",
    "    else:\n",
    "        counter+=1\n",
    "\n",
    "        \n",
    "#     # For Id statement    \n",
    "#     cid = int(response['id'])\n",
    "\n",
    "    \n",
    "#     # Use variables to prevent list from being printed, group by 50, also see url changes!   \n",
    "#     print(f\"Currently Processing record number {counter} of Set {set_num} | {city} with City ID: {cid}\") #| the query URL: {call}\\n\")\n",
    "\n",
    "    \n",
    "#     # Want to see documentation of all cities with ID in the weather map API as a text file for back up. \n",
    "#     printlog.write(f\"Currently Processing record number {counter} of Set {set_num} | {city} with City ID: {cid}) #| the query URL: {call}\\n\") \n",
    "#     pass  \n",
    "\n",
    "    #\n",
    "    try:\n",
    "        \n",
    "        #create dictionary within a list to append data from openweather\n",
    "        weather_list.append({\"City\":response[\"name\"],\n",
    "                             \"Country\":response['sys']['country'],\n",
    "                             \"Latitude\":response['coord']['lat'],\n",
    "                             \"Longitude\":response['coord']['lon'],\n",
    "                             \"Date\":response['dt'],\n",
    "                             \"Cloudiness\":response['clouds']['all'],\n",
    "                             \"Humidity\":response['main']['humidity'],\n",
    "                             \"Max Tempature\":response['main']['temp_max'],\n",
    "                             \"Wind Speed\":response['wind']['speed']})\n",
    "        \n",
    "\n",
    "#         # The list appends the values and append response to print out on to datframe\n",
    "#         #city_ids.append(cid)\n",
    "#         country.append(response['sys']['country'])\n",
    "#         latitude.append(response['coord']['lat'])\n",
    "#         longitude.append(response['coord']['lon'])\n",
    "        \n",
    "#         # wdate.append(datetime.fromtimestamp(response['dt']).strftime('%m/%d/%y')) #Format date????\n",
    "#         wdate.append(response['dt'])\n",
    "#         clouds.append(response['clouds']['all'])\n",
    "#         humidity.append(response['main']['humidity'])\n",
    "#         max_temp.append(response['main']['temp_max'])\n",
    "#         wind_speed.append(response['wind']['speed'])\n",
    "#         city_list.append(city) \n",
    "        \n",
    "        # For Id statement    \n",
    "        cid = int(response['id'])\n",
    "\n",
    "    \n",
    "        # Use variables to prevent list from being printed, group by 50, also see url changes!   \n",
    "        print(f\"Currently Processing record number {counter} of Set {set_num} | {city} with City ID: {cid}\") #| the query URL: {call}\\n\")\n",
    "\n",
    "    \n",
    "        # Want to see documentation of all cities with ID in the weather map API as a text file for back up. \n",
    "        printlog.write(f\"Currently Processing record number {counter} of Set {set_num} | {city} with City ID: {cid}) #| the query URL: {call}\\n\") \n",
    "        pass  \n",
    "        \n",
    "    except:\n",
    "        print(f\"City not found. Skipping... \\n\")\n",
    "        \n",
    "         # Want to see documentation of all cities with ID not in the weather map API.\n",
    "        printlog.write(f\"City not found. Skipping... \\n\")\n",
    "  \n",
    "print('-'*50 + '\\n')\n",
    "print(\"Process complete ... \\n\")\n",
    "# Close file after loop\n",
    "printlog.close()"
   ]
  },
  {
   "cell_type": "markdown",
   "metadata": {},
   "source": [
    "### Convert Raw Data to DataFrame\n",
    "* Export the city data into a .csv.\n",
    "* Display the DataFrame"
   ]
  },
  {
   "cell_type": "code",
   "execution_count": 11,
   "metadata": {},
   "outputs": [
    {
     "data": {
      "text/plain": [
       "City             563\n",
       "Country          563\n",
       "Latitude         563\n",
       "Longitude        563\n",
       "Date             563\n",
       "Cloudiness       563\n",
       "Humidity         563\n",
       "Max Tempature    563\n",
       "Wind Speed       563\n",
       "dtype: int64"
      ]
     },
     "execution_count": 11,
     "metadata": {},
     "output_type": "execute_result"
    }
   ],
   "source": [
    "# Consistent data to work with now in dataframe then count for accuracy: number = len(cities)\n",
    "city_df = pd.DataFrame(weather_list)\n",
    "city_df.count()"
   ]
  },
  {
   "cell_type": "code",
   "execution_count": 12,
   "metadata": {},
   "outputs": [
    {
     "data": {
      "text/html": [
       "<div>\n",
       "<style scoped>\n",
       "    .dataframe tbody tr th:only-of-type {\n",
       "        vertical-align: middle;\n",
       "    }\n",
       "\n",
       "    .dataframe tbody tr th {\n",
       "        vertical-align: top;\n",
       "    }\n",
       "\n",
       "    .dataframe thead th {\n",
       "        text-align: right;\n",
       "    }\n",
       "</style>\n",
       "<table border=\"1\" class=\"dataframe\">\n",
       "  <thead>\n",
       "    <tr style=\"text-align: right;\">\n",
       "      <th></th>\n",
       "      <th>City</th>\n",
       "      <th>Country</th>\n",
       "      <th>Latitude</th>\n",
       "      <th>Longitude</th>\n",
       "      <th>Date</th>\n",
       "      <th>Cloudiness</th>\n",
       "      <th>Humidity</th>\n",
       "      <th>Max Tempature</th>\n",
       "      <th>Wind Speed</th>\n",
       "    </tr>\n",
       "  </thead>\n",
       "  <tbody>\n",
       "    <tr>\n",
       "      <th>0</th>\n",
       "      <td>Rikitea</td>\n",
       "      <td>PF</td>\n",
       "      <td>-23.12</td>\n",
       "      <td>-134.97</td>\n",
       "      <td>1597027722</td>\n",
       "      <td>16</td>\n",
       "      <td>73</td>\n",
       "      <td>70.54</td>\n",
       "      <td>23.00</td>\n",
       "    </tr>\n",
       "    <tr>\n",
       "      <th>1</th>\n",
       "      <td>Saint-François</td>\n",
       "      <td>FR</td>\n",
       "      <td>46.42</td>\n",
       "      <td>3.91</td>\n",
       "      <td>1597027356</td>\n",
       "      <td>89</td>\n",
       "      <td>82</td>\n",
       "      <td>64.40</td>\n",
       "      <td>3.36</td>\n",
       "    </tr>\n",
       "    <tr>\n",
       "      <th>2</th>\n",
       "      <td>Vaini</td>\n",
       "      <td>TO</td>\n",
       "      <td>-21.20</td>\n",
       "      <td>-175.20</td>\n",
       "      <td>1597027722</td>\n",
       "      <td>20</td>\n",
       "      <td>78</td>\n",
       "      <td>73.40</td>\n",
       "      <td>8.05</td>\n",
       "    </tr>\n",
       "    <tr>\n",
       "      <th>3</th>\n",
       "      <td>Harper</td>\n",
       "      <td>LR</td>\n",
       "      <td>4.38</td>\n",
       "      <td>-7.72</td>\n",
       "      <td>1597027722</td>\n",
       "      <td>34</td>\n",
       "      <td>81</td>\n",
       "      <td>74.41</td>\n",
       "      <td>6.38</td>\n",
       "    </tr>\n",
       "    <tr>\n",
       "      <th>4</th>\n",
       "      <td>Tegul'det</td>\n",
       "      <td>RU</td>\n",
       "      <td>57.31</td>\n",
       "      <td>88.17</td>\n",
       "      <td>1597027722</td>\n",
       "      <td>0</td>\n",
       "      <td>55</td>\n",
       "      <td>74.35</td>\n",
       "      <td>5.19</td>\n",
       "    </tr>\n",
       "  </tbody>\n",
       "</table>\n",
       "</div>"
      ],
      "text/plain": [
       "             City Country  Latitude  Longitude        Date  Cloudiness  \\\n",
       "0         Rikitea      PF    -23.12    -134.97  1597027722          16   \n",
       "1  Saint-François      FR     46.42       3.91  1597027356          89   \n",
       "2           Vaini      TO    -21.20    -175.20  1597027722          20   \n",
       "3          Harper      LR      4.38      -7.72  1597027722          34   \n",
       "4       Tegul'det      RU     57.31      88.17  1597027722           0   \n",
       "\n",
       "   Humidity  Max Tempature  Wind Speed  \n",
       "0        73          70.54       23.00  \n",
       "1        82          64.40        3.36  \n",
       "2        78          73.40        8.05  \n",
       "3        81          74.41        6.38  \n",
       "4        55          74.35        5.19  "
      ]
     },
     "execution_count": 12,
     "metadata": {},
     "output_type": "execute_result"
    }
   ],
   "source": [
    "city_df.head()"
   ]
  },
  {
   "cell_type": "code",
   "execution_count": 13,
   "metadata": {},
   "outputs": [],
   "source": [
    "# I appeneded everything regardless of value to make sure it went through all city names, now drop\n",
    "city_df = city_df.dropna()"
   ]
  },
  {
   "cell_type": "code",
   "execution_count": 14,
   "metadata": {},
   "outputs": [
    {
     "data": {
      "text/plain": [
       "City             563\n",
       "Country          563\n",
       "Latitude         563\n",
       "Longitude        563\n",
       "Date             563\n",
       "Cloudiness       563\n",
       "Humidity         563\n",
       "Max Tempature    563\n",
       "Wind Speed       563\n",
       "dtype: int64"
      ]
     },
     "execution_count": 14,
     "metadata": {},
     "output_type": "execute_result"
    }
   ],
   "source": [
    "# Total rows per column after drop if any\n",
    "city_df.count()"
   ]
  },
  {
   "cell_type": "code",
   "execution_count": 29,
   "metadata": {},
   "outputs": [
    {
     "data": {
      "text/html": [
       "<div>\n",
       "<style scoped>\n",
       "    .dataframe tbody tr th:only-of-type {\n",
       "        vertical-align: middle;\n",
       "    }\n",
       "\n",
       "    .dataframe tbody tr th {\n",
       "        vertical-align: top;\n",
       "    }\n",
       "\n",
       "    .dataframe thead th {\n",
       "        text-align: right;\n",
       "    }\n",
       "</style>\n",
       "<table border=\"1\" class=\"dataframe\">\n",
       "  <thead>\n",
       "    <tr style=\"text-align: right;\">\n",
       "      <th></th>\n",
       "      <th>City</th>\n",
       "      <th>Country</th>\n",
       "      <th>Latitude</th>\n",
       "      <th>Longitude</th>\n",
       "      <th>Date</th>\n",
       "      <th>Cloudiness</th>\n",
       "      <th>Humidity</th>\n",
       "      <th>Max Tempature</th>\n",
       "      <th>Wind Speed</th>\n",
       "    </tr>\n",
       "  </thead>\n",
       "  <tbody>\n",
       "    <tr>\n",
       "      <th>0</th>\n",
       "      <td>Rikitea</td>\n",
       "      <td>PF</td>\n",
       "      <td>-23.12</td>\n",
       "      <td>-134.97</td>\n",
       "      <td>1597027722</td>\n",
       "      <td>16</td>\n",
       "      <td>73</td>\n",
       "      <td>70.54</td>\n",
       "      <td>23.00</td>\n",
       "    </tr>\n",
       "    <tr>\n",
       "      <th>1</th>\n",
       "      <td>Saint-François</td>\n",
       "      <td>FR</td>\n",
       "      <td>46.42</td>\n",
       "      <td>3.91</td>\n",
       "      <td>1597027356</td>\n",
       "      <td>89</td>\n",
       "      <td>82</td>\n",
       "      <td>64.40</td>\n",
       "      <td>3.36</td>\n",
       "    </tr>\n",
       "    <tr>\n",
       "      <th>2</th>\n",
       "      <td>Vaini</td>\n",
       "      <td>TO</td>\n",
       "      <td>-21.20</td>\n",
       "      <td>-175.20</td>\n",
       "      <td>1597027722</td>\n",
       "      <td>20</td>\n",
       "      <td>78</td>\n",
       "      <td>73.40</td>\n",
       "      <td>8.05</td>\n",
       "    </tr>\n",
       "    <tr>\n",
       "      <th>3</th>\n",
       "      <td>Harper</td>\n",
       "      <td>LR</td>\n",
       "      <td>4.38</td>\n",
       "      <td>-7.72</td>\n",
       "      <td>1597027722</td>\n",
       "      <td>34</td>\n",
       "      <td>81</td>\n",
       "      <td>74.41</td>\n",
       "      <td>6.38</td>\n",
       "    </tr>\n",
       "    <tr>\n",
       "      <th>4</th>\n",
       "      <td>Tegul'det</td>\n",
       "      <td>RU</td>\n",
       "      <td>57.31</td>\n",
       "      <td>88.17</td>\n",
       "      <td>1597027722</td>\n",
       "      <td>0</td>\n",
       "      <td>55</td>\n",
       "      <td>74.35</td>\n",
       "      <td>5.19</td>\n",
       "    </tr>\n",
       "    <tr>\n",
       "      <th>...</th>\n",
       "      <td>...</td>\n",
       "      <td>...</td>\n",
       "      <td>...</td>\n",
       "      <td>...</td>\n",
       "      <td>...</td>\n",
       "      <td>...</td>\n",
       "      <td>...</td>\n",
       "      <td>...</td>\n",
       "      <td>...</td>\n",
       "    </tr>\n",
       "    <tr>\n",
       "      <th>558</th>\n",
       "      <td>Koslan</td>\n",
       "      <td>RU</td>\n",
       "      <td>63.46</td>\n",
       "      <td>48.90</td>\n",
       "      <td>1597027805</td>\n",
       "      <td>0</td>\n",
       "      <td>80</td>\n",
       "      <td>49.17</td>\n",
       "      <td>3.20</td>\n",
       "    </tr>\n",
       "    <tr>\n",
       "      <th>559</th>\n",
       "      <td>Norrtälje</td>\n",
       "      <td>SE</td>\n",
       "      <td>59.76</td>\n",
       "      <td>18.70</td>\n",
       "      <td>1597027805</td>\n",
       "      <td>99</td>\n",
       "      <td>82</td>\n",
       "      <td>61.00</td>\n",
       "      <td>1.01</td>\n",
       "    </tr>\n",
       "    <tr>\n",
       "      <th>560</th>\n",
       "      <td>Nordhausen</td>\n",
       "      <td>DE</td>\n",
       "      <td>51.52</td>\n",
       "      <td>10.80</td>\n",
       "      <td>1597027805</td>\n",
       "      <td>100</td>\n",
       "      <td>75</td>\n",
       "      <td>71.01</td>\n",
       "      <td>2.86</td>\n",
       "    </tr>\n",
       "    <tr>\n",
       "      <th>561</th>\n",
       "      <td>Boden</td>\n",
       "      <td>SE</td>\n",
       "      <td>65.83</td>\n",
       "      <td>21.69</td>\n",
       "      <td>1597027806</td>\n",
       "      <td>10</td>\n",
       "      <td>71</td>\n",
       "      <td>53.60</td>\n",
       "      <td>11.41</td>\n",
       "    </tr>\n",
       "    <tr>\n",
       "      <th>562</th>\n",
       "      <td>Broken Hill</td>\n",
       "      <td>AU</td>\n",
       "      <td>-31.95</td>\n",
       "      <td>141.43</td>\n",
       "      <td>1597027339</td>\n",
       "      <td>0</td>\n",
       "      <td>53</td>\n",
       "      <td>58.14</td>\n",
       "      <td>5.82</td>\n",
       "    </tr>\n",
       "  </tbody>\n",
       "</table>\n",
       "<p>563 rows × 9 columns</p>\n",
       "</div>"
      ],
      "text/plain": [
       "               City Country  Latitude  Longitude        Date  Cloudiness  \\\n",
       "0           Rikitea      PF    -23.12    -134.97  1597027722          16   \n",
       "1    Saint-François      FR     46.42       3.91  1597027356          89   \n",
       "2             Vaini      TO    -21.20    -175.20  1597027722          20   \n",
       "3            Harper      LR      4.38      -7.72  1597027722          34   \n",
       "4         Tegul'det      RU     57.31      88.17  1597027722           0   \n",
       "..              ...     ...       ...        ...         ...         ...   \n",
       "558          Koslan      RU     63.46      48.90  1597027805           0   \n",
       "559       Norrtälje      SE     59.76      18.70  1597027805          99   \n",
       "560      Nordhausen      DE     51.52      10.80  1597027805         100   \n",
       "561           Boden      SE     65.83      21.69  1597027806          10   \n",
       "562     Broken Hill      AU    -31.95     141.43  1597027339           0   \n",
       "\n",
       "     Humidity  Max Tempature  Wind Speed  \n",
       "0          73          70.54       23.00  \n",
       "1          82          64.40        3.36  \n",
       "2          78          73.40        8.05  \n",
       "3          81          74.41        6.38  \n",
       "4          55          74.35        5.19  \n",
       "..        ...            ...         ...  \n",
       "558        80          49.17        3.20  \n",
       "559        82          61.00        1.01  \n",
       "560        75          71.01        2.86  \n",
       "561        71          53.60       11.41  \n",
       "562        53          58.14        5.82  \n",
       "\n",
       "[563 rows x 9 columns]"
      ]
     },
     "execution_count": 29,
     "metadata": {},
     "output_type": "execute_result"
    }
   ],
   "source": [
    "city_df"
   ]
  },
  {
   "cell_type": "code",
   "execution_count": 30,
   "metadata": {},
   "outputs": [],
   "source": [
    "# Consistent data to work with, in case anything happens, process runs for too long\n",
    "city_df.to_csv(output_data_file)"
   ]
  },
  {
   "cell_type": "code",
   "execution_count": 32,
   "metadata": {},
   "outputs": [
    {
     "data": {
      "text/html": [
       "<div>\n",
       "<style scoped>\n",
       "    .dataframe tbody tr th:only-of-type {\n",
       "        vertical-align: middle;\n",
       "    }\n",
       "\n",
       "    .dataframe tbody tr th {\n",
       "        vertical-align: top;\n",
       "    }\n",
       "\n",
       "    .dataframe thead th {\n",
       "        text-align: right;\n",
       "    }\n",
       "</style>\n",
       "<table border=\"1\" class=\"dataframe\">\n",
       "  <thead>\n",
       "    <tr style=\"text-align: right;\">\n",
       "      <th></th>\n",
       "      <th>Unnamed: 0</th>\n",
       "      <th>City</th>\n",
       "      <th>Country</th>\n",
       "      <th>Latitude</th>\n",
       "      <th>Longitude</th>\n",
       "      <th>Cloudiness</th>\n",
       "      <th>Humidity</th>\n",
       "      <th>Max Tempature</th>\n",
       "      <th>Wind Speed</th>\n",
       "    </tr>\n",
       "    <tr>\n",
       "      <th>Date</th>\n",
       "      <th></th>\n",
       "      <th></th>\n",
       "      <th></th>\n",
       "      <th></th>\n",
       "      <th></th>\n",
       "      <th></th>\n",
       "      <th></th>\n",
       "      <th></th>\n",
       "      <th></th>\n",
       "    </tr>\n",
       "  </thead>\n",
       "  <tbody>\n",
       "    <tr>\n",
       "      <th>1597027722</th>\n",
       "      <td>0</td>\n",
       "      <td>Rikitea</td>\n",
       "      <td>PF</td>\n",
       "      <td>-23.12</td>\n",
       "      <td>-134.97</td>\n",
       "      <td>16</td>\n",
       "      <td>73</td>\n",
       "      <td>70.54</td>\n",
       "      <td>23.00</td>\n",
       "    </tr>\n",
       "    <tr>\n",
       "      <th>1597027356</th>\n",
       "      <td>1</td>\n",
       "      <td>Saint-François</td>\n",
       "      <td>FR</td>\n",
       "      <td>46.42</td>\n",
       "      <td>3.91</td>\n",
       "      <td>89</td>\n",
       "      <td>82</td>\n",
       "      <td>64.40</td>\n",
       "      <td>3.36</td>\n",
       "    </tr>\n",
       "    <tr>\n",
       "      <th>1597027722</th>\n",
       "      <td>2</td>\n",
       "      <td>Vaini</td>\n",
       "      <td>TO</td>\n",
       "      <td>-21.20</td>\n",
       "      <td>-175.20</td>\n",
       "      <td>20</td>\n",
       "      <td>78</td>\n",
       "      <td>73.40</td>\n",
       "      <td>8.05</td>\n",
       "    </tr>\n",
       "    <tr>\n",
       "      <th>1597027722</th>\n",
       "      <td>3</td>\n",
       "      <td>Harper</td>\n",
       "      <td>LR</td>\n",
       "      <td>4.38</td>\n",
       "      <td>-7.72</td>\n",
       "      <td>34</td>\n",
       "      <td>81</td>\n",
       "      <td>74.41</td>\n",
       "      <td>6.38</td>\n",
       "    </tr>\n",
       "    <tr>\n",
       "      <th>1597027722</th>\n",
       "      <td>4</td>\n",
       "      <td>Tegul'det</td>\n",
       "      <td>RU</td>\n",
       "      <td>57.31</td>\n",
       "      <td>88.17</td>\n",
       "      <td>0</td>\n",
       "      <td>55</td>\n",
       "      <td>74.35</td>\n",
       "      <td>5.19</td>\n",
       "    </tr>\n",
       "    <tr>\n",
       "      <th>...</th>\n",
       "      <td>...</td>\n",
       "      <td>...</td>\n",
       "      <td>...</td>\n",
       "      <td>...</td>\n",
       "      <td>...</td>\n",
       "      <td>...</td>\n",
       "      <td>...</td>\n",
       "      <td>...</td>\n",
       "      <td>...</td>\n",
       "    </tr>\n",
       "    <tr>\n",
       "      <th>1597027805</th>\n",
       "      <td>558</td>\n",
       "      <td>Koslan</td>\n",
       "      <td>RU</td>\n",
       "      <td>63.46</td>\n",
       "      <td>48.90</td>\n",
       "      <td>0</td>\n",
       "      <td>80</td>\n",
       "      <td>49.17</td>\n",
       "      <td>3.20</td>\n",
       "    </tr>\n",
       "    <tr>\n",
       "      <th>1597027805</th>\n",
       "      <td>559</td>\n",
       "      <td>Norrtälje</td>\n",
       "      <td>SE</td>\n",
       "      <td>59.76</td>\n",
       "      <td>18.70</td>\n",
       "      <td>99</td>\n",
       "      <td>82</td>\n",
       "      <td>61.00</td>\n",
       "      <td>1.01</td>\n",
       "    </tr>\n",
       "    <tr>\n",
       "      <th>1597027805</th>\n",
       "      <td>560</td>\n",
       "      <td>Nordhausen</td>\n",
       "      <td>DE</td>\n",
       "      <td>51.52</td>\n",
       "      <td>10.80</td>\n",
       "      <td>100</td>\n",
       "      <td>75</td>\n",
       "      <td>71.01</td>\n",
       "      <td>2.86</td>\n",
       "    </tr>\n",
       "    <tr>\n",
       "      <th>1597027806</th>\n",
       "      <td>561</td>\n",
       "      <td>Boden</td>\n",
       "      <td>SE</td>\n",
       "      <td>65.83</td>\n",
       "      <td>21.69</td>\n",
       "      <td>10</td>\n",
       "      <td>71</td>\n",
       "      <td>53.60</td>\n",
       "      <td>11.41</td>\n",
       "    </tr>\n",
       "    <tr>\n",
       "      <th>1597027339</th>\n",
       "      <td>562</td>\n",
       "      <td>Broken Hill</td>\n",
       "      <td>AU</td>\n",
       "      <td>-31.95</td>\n",
       "      <td>141.43</td>\n",
       "      <td>0</td>\n",
       "      <td>53</td>\n",
       "      <td>58.14</td>\n",
       "      <td>5.82</td>\n",
       "    </tr>\n",
       "  </tbody>\n",
       "</table>\n",
       "<p>563 rows × 9 columns</p>\n",
       "</div>"
      ],
      "text/plain": [
       "            Unnamed: 0            City Country  Latitude  Longitude  \\\n",
       "Date                                                                  \n",
       "1597027722           0         Rikitea      PF    -23.12    -134.97   \n",
       "1597027356           1  Saint-François      FR     46.42       3.91   \n",
       "1597027722           2           Vaini      TO    -21.20    -175.20   \n",
       "1597027722           3          Harper      LR      4.38      -7.72   \n",
       "1597027722           4       Tegul'det      RU     57.31      88.17   \n",
       "...                ...             ...     ...       ...        ...   \n",
       "1597027805         558          Koslan      RU     63.46      48.90   \n",
       "1597027805         559       Norrtälje      SE     59.76      18.70   \n",
       "1597027805         560      Nordhausen      DE     51.52      10.80   \n",
       "1597027806         561           Boden      SE     65.83      21.69   \n",
       "1597027339         562     Broken Hill      AU    -31.95     141.43   \n",
       "\n",
       "            Cloudiness  Humidity  Max Tempature  Wind Speed  \n",
       "Date                                                         \n",
       "1597027722          16        73          70.54       23.00  \n",
       "1597027356          89        82          64.40        3.36  \n",
       "1597027722          20        78          73.40        8.05  \n",
       "1597027722          34        81          74.41        6.38  \n",
       "1597027722           0        55          74.35        5.19  \n",
       "...                ...       ...            ...         ...  \n",
       "1597027805           0        80          49.17        3.20  \n",
       "1597027805          99        82          61.00        1.01  \n",
       "1597027805         100        75          71.01        2.86  \n",
       "1597027806          10        71          53.60       11.41  \n",
       "1597027339           0        53          58.14        5.82  \n",
       "\n",
       "[563 rows x 9 columns]"
      ]
     },
     "execution_count": 32,
     "metadata": {},
     "output_type": "execute_result"
    }
   ],
   "source": [
    "#  pandas will understand the datatype when I index dates from colums\n",
    "df = pd.read_csv(output_data_file, parse_dates = True, index_col = 5)\n",
    "df"
   ]
  },
  {
   "cell_type": "markdown",
   "metadata": {},
   "source": [
    "The Format for the TimeStamp as mark down: \n",
    "<!-- \"dt\":1406080800,\n",
    "\"temp\":{\n",
    "        \"day\":297.77,  //daily averaged temperature\n",
    "        \"min\":293.52, //daily min temperature\n",
    "        \"max\":297.77, //daily max temperature\n",
    "        \"night\":293.52, //night temperature\n",
    "        \"eve\":297.77, //evening temperature\n",
    "        \"morn\":297.77}, //morning temperature  -->"
   ]
  },
  {
   "cell_type": "markdown",
   "metadata": {},
   "source": [
    "## Inspect the data and remove the cities where the humidity > 100%.\n",
    "----\n",
    "Skip this step if there are no cities that have humidity > 100%. "
   ]
  },
  {
   "cell_type": "code",
   "execution_count": 43,
   "metadata": {},
   "outputs": [
    {
     "data": {
      "text/plain": [
       "100"
      ]
     },
     "execution_count": 43,
     "metadata": {},
     "output_type": "execute_result"
    }
   ],
   "source": [
    "#  Get the indices of cities that have humidity over 100%\n",
    "h = city_df['Humidity']\n",
    "h.max() # if value greater than 100 then write code below"
   ]
  },
  {
   "cell_type": "code",
   "execution_count": 44,
   "metadata": {},
   "outputs": [],
   "source": [
    "# Make a new DataFrame equal to the city data to drop all humidity outliers by index.\n",
    "# Passing \"inplace=False\" will make a copy of the city_data DataFrame, which we call \"clean_city_data\"."
   ]
  },
  {
   "cell_type": "code",
   "execution_count": 45,
   "metadata": {},
   "outputs": [],
   "source": [
    "# Extract relevant fields from the data frame\n",
    "\n",
    "\n",
    "# Export the City_Data into a csv if humidity above 100\n",
    "# city_df.to_csv(\"Weather_File/clean_weather.csv\")"
   ]
  },
  {
   "cell_type": "code",
   "execution_count": 72,
   "metadata": {},
   "outputs": [],
   "source": [
    "# Create function \n",
    "def scatt(x_label, y_label, X, Y, title):\n",
    "    plt.scatter(X,Y, edgecolors=\"black\",facecolors=\"lightblue\")\n",
    "    plt.title(f\"{title} {today}\")\n",
    "    plt.xlabel(x_label)\n",
    "    plt.ylabel(y_label)\n",
    "    plt.grid (b=True,which=\"major\",axis=\"both\",linestyle=\"-\",color=\"darkgrey\")\n",
    "    plt.show()\n",
    "    plt.savefig(f\"Weather_File/{title}.png\")"
   ]
  },
  {
   "cell_type": "markdown",
   "metadata": {},
   "source": [
    "## Plotting the Data\n",
    "* Use proper labeling of the plots using plot titles (including date of analysis) and axes labels.\n",
    "* Save the plotted figures as .pngs."
   ]
  },
  {
   "cell_type": "markdown",
   "metadata": {},
   "source": [
    "## Latitude vs. Temperature Plot"
   ]
  },
  {
   "cell_type": "code",
   "execution_count": 73,
   "metadata": {
    "scrolled": true
   },
   "outputs": [
    {
     "data": {
      "image/png": "[encoded data removed]",
      "text/plain": [
       "<Figure size 432x288 with 1 Axes>"
      ]
     },
     "metadata": {
      "needs_background": "light"
     },
     "output_type": "display_data"
    },
    {
     "data": {
      "text/plain": [
       "<Figure size 432x288 with 0 Axes>"
      ]
     },
     "metadata": {},
     "output_type": "display_data"
    }
   ],
   "source": [
    "scatt(\"Latitude\", \"Max Tempature (F)\", city_df[\"Latitude\"], city_df[\"Max Tempature\"], \"City Latitude vs. Max Temperature\") "
   ]
  },
  {
   "cell_type": "markdown",
   "metadata": {},
   "source": [
    "## Latitude vs. Humidity Plot"
   ]
  },
  {
   "cell_type": "code",
   "execution_count": 49,
   "metadata": {},
   "outputs": [],
   "source": [
    "scatt(\"Latitude\", \"Max Tempature (F)\", city_df[\"Latitude\"], city_df[\"Max Tempature\"], \"City Latitude vs. Max Temperature\") \n",
    "plt.scatter(city_df[\"Latitude\"],city_df[\"Humidity\"],edgecolors=\"black\",facecolors=\"steelblue\")\n",
    "plt.title(f\"City Latitude vs. Humidity {today}\")\n",
    "plt.xlabel(\"Latitude\")\n",
    "plt.ylabel(\"Humidity (%)\")\n",
    "plt.grid (b=True,which=\"major\",axis=\"both\",linestyle=\"-\",color=\"lightgrey\")"
   ]
  },
  {
   "cell_type": "code",
   "execution_count": 60,
   "metadata": {},
   "outputs": [
    {
     "data": {
      "text/plain": [
       "<Figure size 432x288 with 0 Axes>"
      ]
     },
     "metadata": {},
     "output_type": "display_data"
    }
   ],
   "source": [
    "plt.savefig(\"Weather_File/Lat_vs_Humidity.png\")"
   ]
  },
  {
   "cell_type": "markdown",
   "metadata": {},
   "source": [
    "## Latitude vs. Cloudiness Plot"
   ]
  },
  {
   "cell_type": "code",
   "execution_count": 61,
   "metadata": {},
   "outputs": [
    {
     "data": {
      "image/png": "[encoded data removed]",
      "text/plain": [
       "<Figure size 432x288 with 1 Axes>"
      ]
     },
     "metadata": {
      "needs_background": "light"
     },
     "output_type": "display_data"
    }
   ],
   "source": [
    "\n",
    "plt.scatter(city_df[\"Latitude\"],city_df[\"Cloudiness\"],edgecolors=\"black\",facecolors=\"steelblue\")\n",
    "plt.title(f\"City Latitude vs. Cloudiness {today}\")\n",
    "plt.xlabel(\"Latitude\")\n",
    "plt.ylabel(\"Cloudiness (%)\")\n",
    "plt.grid (b=True,which=\"major\",axis=\"both\",linestyle=\"-\",color=\"lightgrey\")\n",
    "plt.savefig(\"Weather_File/LatvsCloudiness.png\")\n"
   ]
  },
  {
   "cell_type": "code",
   "execution_count": 62,
   "metadata": {},
   "outputs": [
    {
     "data": {
      "text/plain": [
       "<Figure size 432x288 with 0 Axes>"
      ]
     },
     "metadata": {},
     "output_type": "display_data"
    }
   ],
   "source": [
    "# Save the figure\n",
    "plt.savefig(\"Weather_File/LatitudeVsCloudiness.png\")"
   ]
  },
  {
   "cell_type": "markdown",
   "metadata": {},
   "source": [
    "## Latitude vs. Wind Speed Plot"
   ]
  },
  {
   "cell_type": "code",
   "execution_count": 63,
   "metadata": {},
   "outputs": [
    {
     "data": {
      "image/png": "[encoded data removed]",
      "text/plain": [
       "<Figure size 432x288 with 1 Axes>"
      ]
     },
     "metadata": {
      "needs_background": "light"
     },
     "output_type": "display_data"
    }
   ],
   "source": [
    "plt.scatter(city_df[\"Latitude\"],city_df[\"Wind Speed\"],edgecolors=\"black\",facecolors=\"steelblue\")\n",
    "plt.title(f\"City Latitude vs. Wind Speed {today}\")\n",
    "plt.xlabel(\"Latitude\")\n",
    "plt.ylabel(\"Wind Speed (mph)\")\n",
    "plt.grid (b=True,which=\"major\",axis=\"both\",linestyle=\"-\",color=\"lightgrey\")"
   ]
  },
  {
   "cell_type": "code",
   "execution_count": 64,
   "metadata": {},
   "outputs": [
    {
     "data": {
      "text/plain": [
       "<Figure size 432x288 with 0 Axes>"
      ]
     },
     "metadata": {},
     "output_type": "display_data"
    }
   ],
   "source": [
    "plt.savefig(\"Weather_File/LatvsWindSpeed.png\")"
   ]
  },
  {
   "cell_type": "markdown",
   "metadata": {},
   "source": [
    "## Linear Regression"
   ]
  },
  {
   "cell_type": "code",
   "execution_count": 262,
   "metadata": {},
   "outputs": [],
   "source": [
    "# OPTIONAL: Create a function to create Linear Regression plots\n",
    "def linear_regression (x_label, y_label, X, Y, title, legend, top, bottom):\n",
    "    (a, b, r_value, p_value, std_err)  = linregress(X, Y)\n",
    "    print(f\"The r-squared is: {r_value}\")\n",
    "    y = X * a  + b\n",
    "    Yy = f\"y = {(round(a,2))}x +  {round(b,2)}\"\n",
    "    plt.plot(X, y, '-r')\n",
    "    plt.annotate(Yy,legend,fontsize=15,color=\"red\")\n",
    "    plt.scatter(X,Y, edgecolors=\"black\",facecolors=\"lightblue\")\n",
    "    plt.ylim(bottom, top)\n",
    "    plt.title(f\"{title} {today}\")\n",
    "    plt.xlabel(x_label)\n",
    "    plt.ylabel(y_label)\n",
    "    plt.grid (b=True,which=\"major\",axis=\"both\",linestyle=\"-\",color=\"darkgrey\")\n",
    "    plt.show()\n",
    "    plt.savefig(f\"Weather_File/\" + {title} + \".png\")"
   ]
  },
  {
   "cell_type": "code",
   "execution_count": 263,
   "metadata": {},
   "outputs": [],
   "source": [
    "# Create Northern and Southern Hemisphere DataFrames\n",
    "# Latitude -90 = North, Latitude 90 = South\n",
    "# Horizontal mapping lines on Earth are lines of latitude. They are known as \"parallels\" of latitude, because they run parallel to the equator. One simple way to visualize this might be to think about having imaginary horizontal \"hula hoops\" around the earth, with the biggest hoop around the equator, and then progressively smaller ones stacked above and below it to reach the North and South Poles.\n",
    "north = city_df.loc[city_df[\"Latitude\"] >= 0.0]\n",
    "north.reset_index(inplace=True)\n",
    "\n",
    "south = city_df.loc[city_df[\"Latitude\"] < 0.0]\n",
    "south.reset_index(inplace=True)"
   ]
  },
  {
   "cell_type": "markdown",
   "metadata": {},
   "source": [
    "####  Northern Hemisphere - Max Temp vs. Latitude Linear Regression"
   ]
  },
  {
   "cell_type": "code",
   "execution_count": 264,
   "metadata": {},
   "outputs": [
    {
     "name": "stdout",
     "output_type": "stream",
     "text": [
      "The r-squared is: -0.7021316940988365\n"
     ]
    },
    {
     "data": {
      "image/png": "[encoded data removed]",
      "text/plain": [
       "<Figure size 432x288 with 1 Axes>"
      ]
     },
     "metadata": {
      "needs_background": "light"
     },
     "output_type": "display_data"
    },
    {
     "data": {
      "text/plain": [
       "<Figure size 432x288 with 0 Axes>"
      ]
     },
     "metadata": {},
     "output_type": "display_data"
    }
   ],
   "source": [
    "linear_regression(\"Latitude\", \"Max Tempature\", north[\"Latitude\"], north[\"Max Tempature\"], \"(North) Max Temp vs. Latitude Linear Regression\", (0, 30), 110, 0 )  "
   ]
  },
  {
   "cell_type": "markdown",
   "metadata": {},
   "source": [
    "####  Southern Hemisphere - Max Temp vs. Latitude Linear Regression"
   ]
  },
  {
   "cell_type": "code",
   "execution_count": 265,
   "metadata": {},
   "outputs": [
    {
     "name": "stdout",
     "output_type": "stream",
     "text": [
      "The r-squared is: 0.7585086247910795\n"
     ]
    },
    {
     "data": {
      "image/png": "[encoded data removed]",
      "text/plain": [
       "<Figure size 432x288 with 1 Axes>"
      ]
     },
     "metadata": {
      "needs_background": "light"
     },
     "output_type": "display_data"
    },
    {
     "data": {
      "text/plain": [
       "<Figure size 432x288 with 0 Axes>"
      ]
     },
     "metadata": {},
     "output_type": "display_data"
    }
   ],
   "source": [
    "linear_regression(\"Latitude\", \"Max Tempature\", south[\"Latitude\"], south[\"Max Tempature\"], \"(South) Max Temp vs. Latitude Linear Regression \", (-30, 0), 100, -10 )  "
   ]
  },
  {
   "cell_type": "markdown",
   "metadata": {},
   "source": [
    "####  Northern Hemisphere - Humidity (%) vs. Latitude Linear Regression"
   ]
  },
  {
   "cell_type": "code",
   "execution_count": 266,
   "metadata": {},
   "outputs": [
    {
     "name": "stdout",
     "output_type": "stream",
     "text": [
      "The r-squared is: -0.00237685863042812\n"
     ]
    },
    {
     "data": {
      "image/png": "[encoded data removed]",
      "text/plain": [
       "<Figure size 432x288 with 1 Axes>"
      ]
     },
     "metadata": {
      "needs_background": "light"
     },
     "output_type": "display_data"
    },
    {
     "data": {
      "text/plain": [
       "<Figure size 432x288 with 0 Axes>"
      ]
     },
     "metadata": {},
     "output_type": "display_data"
    }
   ],
   "source": [
    "linear_regression(\"Latitude\", \"Humidity (&)\", north[\"Latitude\"], north[\"Humidity\"], \"(North) Humidity (%) vs. Latitude Linear Regression\", (43, 10), 110, 0 )  "
   ]
  },
  {
   "cell_type": "markdown",
   "metadata": {},
   "source": [
    "####  Southern Hemisphere - Humidity (%) vs. Latitude Linear Regression"
   ]
  },
  {
   "cell_type": "code",
   "execution_count": 267,
   "metadata": {},
   "outputs": [
    {
     "name": "stdout",
     "output_type": "stream",
     "text": [
      "The r-squared is: -0.05934463544016372\n"
     ]
    },
    {
     "data": {
      "image/png": "[encoded data removed]",
      "text/plain": [
       "<Figure size 432x288 with 1 Axes>"
      ]
     },
     "metadata": {
      "needs_background": "light"
     },
     "output_type": "display_data"
    },
    {
     "data": {
      "text/plain": [
       "<Figure size 432x288 with 0 Axes>"
      ]
     },
     "metadata": {},
     "output_type": "display_data"
    }
   ],
   "source": [
    "linear_regression(\"Latitude\", \"Humidity (%)\", south[\"Latitude\"], south[\"Humidity\"], \"(South) Humidity (%) vs. Latitude Linear Regression\", (-45,10), 110, 0 )  "
   ]
  },
  {
   "cell_type": "markdown",
   "metadata": {},
   "source": [
    "####  Northern Hemisphere - Cloudiness (%) vs. Latitude Linear Regression"
   ]
  },
  {
   "cell_type": "code",
   "execution_count": 268,
   "metadata": {},
   "outputs": [
    {
     "name": "stdout",
     "output_type": "stream",
     "text": [
      "The r-squared is: -0.7021316940988365\n"
     ]
    },
    {
     "data": {
      "image/png": "[encoded data removed]",
      "text/plain": [
       "<Figure size 432x288 with 1 Axes>"
      ]
     },
     "metadata": {
      "needs_background": "light"
     },
     "output_type": "display_data"
    },
    {
     "data": {
      "text/plain": [
       "<Figure size 432x288 with 0 Axes>"
      ]
     },
     "metadata": {},
     "output_type": "display_data"
    }
   ],
   "source": [
    "linear_regression(\"Latitude\", \"Cloudiness\", north[\"Latitude\"], north[\"Cloudiness (%)\"], \"(North) Cloudiness(%) vs. Latitude Linear Regression {today}\", (0, 30), 110, 0 )  "
   ]
  },
  {
   "cell_type": "markdown",
   "metadata": {},
   "source": [
    "####  Southern Hemisphere - Cloudiness (%) vs. Latitude Linear Regression"
   ]
  },
  {
   "cell_type": "code",
   "execution_count": 273,
   "metadata": {},
   "outputs": [
    {
     "name": "stdout",
     "output_type": "stream",
     "text": [
      "The r-squared is: -0.09417300596396012\n"
     ]
    },
    {
     "data": {
      "image/png": "[encoded data removed]",
      "text/plain": [
       "<Figure size 432x288 with 1 Axes>"
      ]
     },
     "metadata": {
      "needs_background": "light"
     },
     "output_type": "display_data"
    },
    {
     "data": {
      "text/plain": [
       "<Figure size 432x288 with 0 Axes>"
      ]
     },
     "metadata": {},
     "output_type": "display_data"
    }
   ],
   "source": [
    "linear_regression(\"Latitude\", \"Cloudiness (%)\", south[\"Latitude\"], south[\"Cloudiness\"], \"(South) Cloudiness (%) vs. Latitude Linear Regression\", (-55, -10), 110, -20 )  "
   ]
  },
  {
   "cell_type": "markdown",
   "metadata": {},
   "source": [
    "####  Northern Hemisphere - Wind Speed (mph) vs. Latitude Linear Regression"
   ]
  },
  {
   "cell_type": "code",
   "execution_count": null,
   "metadata": {},
   "outputs": [],
   "source": [
    "linear_regression(\"Latitude\", \"Wind Speed (mph)\", north[\"Latitude\"], north[\"Wind Speed\"], \"(North) Wind Speed (mph) vs. Latitude Linear Regression\", (0, 30), 110, 0 )  "
   ]
  },
  {
   "cell_type": "markdown",
   "metadata": {},
   "source": [
    "####  Southern Hemisphere - Wind Speed (mph) vs. Latitude Linear Regression"
   ]
  },
  {
   "cell_type": "code",
   "execution_count": null,
   "metadata": {},
   "outputs": [],
   "source": [
    "linear_regression(\"Latitude\", \"Wind Speed (mph)\", south[\"Latitude\"], south[\"Wind Speed\"], \"(South) Wind Speed (mph) vs. Latitude Linear Regression\", (0, 30), 110, 0 )  "
   ]
  },
  {
   "cell_type": "code",
   "execution_count": null,
   "metadata": {},
   "outputs": [],
   "source": []
  }
 ],
 "metadata": {
  "anaconda-cloud": {},
  "kernel_info": {
   "name": "python3"
  },
  "kernelspec": {
   "display_name": "Python 3",
   "language": "python",
   "name": "python3"
  },
  "language_info": {
   "codemirror_mode": {
    "name": "ipython",
    "version": 3
   },
   "file_extension": ".py",
   "mimetype": "text/x-python",
   "name": "python",
   "nbconvert_exporter": "python",
   "pygments_lexer": "ipython3",
   "version": "3.7.6"
  },
  "latex_envs": {
   "LaTeX_envs_menu_present": true,
   "autoclose": false,
   "autocomplete": true,
   "bibliofile": "biblio.bib",
   "cite_by": "apalike",
   "current_citInitial": 1,
   "eqLabelWithNumbers": true,
   "eqNumInitial": 1,
   "hotkeys": {
    "equation": "Ctrl-E",
    "itemize": "Ctrl-I"
   },
   "labels_anchors": false,
   "latex_user_defs": false,
   "report_style_numbering": false,
   "user_envs_cfg": false
  },
  "nteract": {
   "version": "0.12.3"
  }
 },
 "nbformat": 4,
 "nbformat_minor": 4
}
