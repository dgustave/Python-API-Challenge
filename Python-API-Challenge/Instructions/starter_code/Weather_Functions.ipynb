{
 "cells": [
  {
   "cell_type": "code",
   "execution_count": 66,
   "metadata": {},
   "outputs": [],
   "source": [
    "# Dependencies and Setup\n",
    "import matplotlib.pyplot as plt\n",
    "import pandas as pd\n",
    "import numpy as np\n",
    "import requests\n",
    "import urllib.response\n",
    "import json\n",
    "from pandas.io.json import json_normalize\n",
    "import os\n",
    "import csv\n",
    "import time\n",
    "import concurrent.futures\n",
    "import datetime as dt\n",
    "from datetime import date, datetime, timezone\n",
    "from scipy.stats import linregress\n",
    "from sklearn.linear_model import LinearRegression\n",
    "\n",
    "\n",
    "# Import API key\n",
    "from api_keys import weather_api_key\n",
    "\n",
    "# Incorporated citipy to determine city based on latitude and longitude\n",
    "from citipy import citipy\n",
    "\n",
    "# Output File (CSV)\n",
    "output_data_file = \"Weather_File/weather_API_data.csv\"\n",
    "\n",
    "# Range of latitudes and longitudes\n",
    "lat_range = (-90, 90)\n",
    "lng_range = (-180, 180)"
   ]
  },
  {
   "cell_type": "code",
   "execution_count": 67,
   "metadata": {},
   "outputs": [
    {
     "data": {
      "text/plain": [
       "634"
      ]
     },
     "execution_count": 67,
     "metadata": {},
     "output_type": "execute_result"
    }
   ],
   "source": [
    "# List for holding lat_lngs and cities\n",
    "lat_lngs = []\n",
    "cities = []\n",
    "\n",
    "# Create a set of random lat and lng combinations\n",
    "lats = np.random.uniform(lat_range[0], lat_range[1], size=1500)\n",
    "lngs = np.random.uniform(lng_range[0], lng_range[1], size=1500)\n",
    "lat_lngs = zip(lats, lngs)\n",
    "\n",
    "# Identify nearest city for each lat, lng combination\n",
    "for lat_lng in lat_lngs:\n",
    "    city = citipy.nearest_city(lat_lng[0], lat_lng[1]).city_name\n",
    "    \n",
    "    # If the city is unique, then add it to a our cities list\n",
    "    if city not in cities:\n",
    "        cities.append(city)\n",
    "\n",
    "# Print the city count to confirm sufficient count\n",
    "len(cities)"
   ]
  },
  {
   "cell_type": "code",
   "execution_count": 68,
   "metadata": {},
   "outputs": [
    {
     "data": {
      "text/plain": [
       "'http://api.openweathermap.org/data/2.5/weather?appid=48cd2f4c6e1cc4ac15520e0f752a9eb5&units=imperial&q=cape town'"
      ]
     },
     "execution_count": 68,
     "metadata": {},
     "output_type": "execute_result"
    }
   ],
   "source": [
    "#function to build api requests,  idiom represents reference to pull information\n",
    "def pull_requests(city):\n",
    "    base_url = \"http://api.openweathermap.org/data/2.5/weather?\"\n",
    "    complete_url = base_url + \"appid=\"+ weather_api_key+\"&units=imperial\"+\"&q=\"+city\n",
    "    return complete_url\n",
    "pull_requests(city)"
   ]
  },
  {
   "cell_type": "code",
   "execution_count": 70,
   "metadata": {},
   "outputs": [
    {
     "name": "stdout",
     "output_type": "stream",
     "text": [
      "Currently Processing record number 1 of Set 1 | cape town with City ID: 3369157\n"
     ]
    },
    {
     "data": {
      "text/plain": [
       "{'coord': {'lon': 18.42, 'lat': -33.93},\n",
       " 'weather': [{'id': 803,\n",
       "   'main': 'Clouds',\n",
       "   'description': 'broken clouds',\n",
       "   'icon': '04n'}],\n",
       " 'base': 'stations',\n",
       " 'main': {'temp': 55.08,\n",
       "  'feels_like': 51.46,\n",
       "  'temp_min': 55,\n",
       "  'temp_max': 55.4,\n",
       "  'pressure': 1025,\n",
       "  'humidity': 71},\n",
       " 'visibility': 10000,\n",
       " 'wind': {'speed': 4.7, 'deg': 220},\n",
       " 'clouds': {'all': 75},\n",
       " 'dt': 1597289978,\n",
       " 'sys': {'type': 1,\n",
       "  'id': 1899,\n",
       "  'country': 'ZA',\n",
       "  'sunrise': 1597296435,\n",
       "  'sunset': 1597335313},\n",
       " 'timezone': 7200,\n",
       " 'id': 3369157,\n",
       " 'name': 'Cape Town',\n",
       " 'cod': 200}"
      ]
     },
     "execution_count": 70,
     "metadata": {},
     "output_type": "execute_result"
    }
   ],
   "source": [
    "#function to get data and log as text in data folder\n",
    "def pull_data(city, clause, output_data_text, counter = 0, set_num= 1 ):\n",
    "    url = pull_requests(city)\n",
    "    # name text document in data file\n",
    "    printlog = open(f'data/{output_data_text}.txt', 'w')\n",
    "    try:\n",
    "        response = requests.get(url)\n",
    "        response.status_code\n",
    "        call = response.json()\n",
    "        if counter >= 50:\n",
    "            counter=1\n",
    "            set_num+=1\n",
    "        \n",
    "        else:\n",
    "            counter+=1\n",
    "        # 'Response' object is not subscriptable use variable call to get city id\n",
    "        city_id = int(call[\"id\"])\n",
    "        print(f\"Currently Processing record number {counter} of Set {set_num} | {city} with City ID: {city_id}\")\n",
    "        printlog.write(f\"Currently Processing record number {counter} of Set {set_num} | {city} with City ID: {city_id}\")\n",
    "\n",
    "    # Add string to comment on download issue, perhaps url has a compenent not found clause\n",
    "    except requests.exceptions.HTTPError:\n",
    "        print('Error occured while downloading data ')\n",
    "        pass\n",
    "    except urllib.error.URLError:\n",
    "        print('Error occured while downloading data... ' + clause) \n",
    "        printlog.write('Error occured while downloading data... ' + clause)\n",
    "        pass\n",
    "    \n",
    "    # name text document in data file\n",
    "    JSON_data = response.text\n",
    "    data = json.loads(JSON_data)\n",
    "    return data\n",
    "pull_data(city, \"City not found .... \", \"weather_data_log\") \n"
   ]
  },
  {
   "cell_type": "code",
   "execution_count": 34,
   "metadata": {},
   "outputs": [],
   "source": [
    "# # Make dataframe and manipulate columns!\n",
    "# def json_to_df(data, columns):\n",
    "#     df = pd.DataFrame.from_dict(json_normalize(data), orient='columns')\n",
    "#     new_df = df[columns]\n",
    "#     new_df.insert(0, 'TimeStamp', pd.datetime.now().replace(microsecond=0))\n",
    "#     if not os.path.isfile('weather.csv'):\n",
    "#         return new_df.to_csv('weather.csv', header='column_names', index=False)\n",
    "#     else:\n",
    "#         return new_df.to_csv('weather.csv', mode='a', header=False, index=False)  "
   ]
  },
  {
   "cell_type": "code",
   "execution_count": 62,
   "metadata": {},
   "outputs": [],
   "source": [
    "#creating a dictionary of cities and city codes(based on the CSV file downloaded from a given URL\n",
    "def create_dict(URL):\n",
    "    with requests.Session() as s:\n",
    "        dict = {}\n",
    "        download = s.get(URL)\n",
    "        decoded_content = download.content.decode('utf-8')\n",
    "        cs = csv.reader(decoded_content.splitlines(), delimiter=',')\n",
    "        next(cs, None)\n",
    "        my_list = list(cs)\n",
    "        for row in my_list:\n",
    "            dict[row[0]] = row[1]\n",
    "        return dict\n",
    "    #request is limited"
   ]
  },
  {
   "cell_type": "code",
   "execution_count": 63,
   "metadata": {},
   "outputs": [],
   "source": [
    "# String_url = \"jdbc:postgresql://localhost/postgres\";\n",
    "# Properties props = new Properties();\n",
    "# props.setProperty(\"user\",\"postgres\");\n",
    "# props.setProperty(\"password\",\"postgres\");\n",
    "# props.setProperty(\"ssl\",\"true\");\n",
    "# Connection_conn = DriverManager.getConnection(url, props);\n",
    "\n",
    "# String_url = \"jdbc:postgresql://localhost/test?user=fred&password=secret&ssl=true\";\n",
    "# Connection_conn = DriverManager.getConnection(url);"
   ]
  },
  {
   "cell_type": "code",
   "execution_count": 71,
   "metadata": {},
   "outputs": [],
   "source": [
    "# store =  \"jdbc:postgresql://localhost/postgres?user:postgrespassword:postgres&ssl=true\"\n",
    "# columns = [ \"['dt']\", \"['name']\", \"['sys']['country']\", \n",
    "#            \"['coord']['lat']\", \n",
    "#            \"['coord']['lon']\", \"['clouds']['all']\", \n",
    "#            \"['main']['humidity']\", \"['main']['temp_max']\", \n",
    "#            \"['wind']['speed']\"]\n",
    "# #Writing results to CSV\n",
    "# def weather_api(store):\n",
    "#     dict = create_dict(store)\n",
    "#     for city, code in dict.items():\n",
    "#         data = get_weather_data(city, code)\n",
    "#         json_to_df(data, columns)\n",
    "# #sqlalchemy "
   ]
  },
  {
   "cell_type": "code",
   "execution_count": null,
   "metadata": {},
   "outputs": [],
   "source": []
  },
  {
   "cell_type": "code",
   "execution_count": null,
   "metadata": {},
   "outputs": [],
   "source": []
  },
  {
   "cell_type": "code",
   "execution_count": null,
   "metadata": {},
   "outputs": [],
   "source": []
  }
 ],
 "metadata": {
  "kernelspec": {
   "display_name": "Python 3",
   "language": "python",
   "name": "python3"
  },
  "language_info": {
   "codemirror_mode": {
    "name": "ipython",
    "version": 3
   },
   "file_extension": ".py",
   "mimetype": "text/x-python",
   "name": "python",
   "nbconvert_exporter": "python",
   "pygments_lexer": "ipython3",
   "version": "3.7.6"
  }
 },
 "nbformat": 4,
 "nbformat_minor": 4
}
